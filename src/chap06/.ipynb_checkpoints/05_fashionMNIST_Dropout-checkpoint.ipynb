{
 "cells": [
  {
   "cell_type": "code",
   "execution_count": 1,
   "id": "407e119c",
   "metadata": {},
   "outputs": [],
   "source": [
    "from tensorflow import keras\n",
    "\n",
    "(train_input, train_target), (test_input, test_target) \\\n",
    "= keras.datasets.fashion_mnist.load_data()"
   ]
  },
  {
   "cell_type": "code",
   "execution_count": 2,
   "id": "1212c2d5",
   "metadata": {},
   "outputs": [],
   "source": [
    "from sklearn.model_selection import train_test_split\n",
    "\n",
    "train_scaled = train_input / 255.0\n",
    "train_scaled = train_scaled.reshape(-1, 28*28)\n",
    "\n",
    "train_scaled, val_scaled, train_target, val_target = train_test_split(train_scaled, train_target, test_size=0.2, random_state=42)"
   ]
  },
  {
   "cell_type": "code",
   "execution_count": 3,
   "id": "948fb225",
   "metadata": {},
   "outputs": [],
   "source": [
    "model = keras.Sequential()\n",
    "model.add(keras.layers.Dense(units=512, activation='relu', input_shape=(28*28,), kernel_initializer='glorot_normal'))\n",
    "model.add(keras.layers.Dropout(0.3))\n",
    "model.add(keras.layers.Dense(units=512, activation='relu', kernel_initializer='glorot_normal'))\n",
    "model.add(keras.layers.Dropout(0.3))\n",
    "model.add(keras.layers.Dense(units=512, activation='relu', kernel_initializer='glorot_normal'))\n",
    "model.add(keras.layers.Dropout(0.3))\n",
    "model.add(keras.layers.Dense(units=512, activation='relu', kernel_initializer='glorot_normal'))\n",
    "model.add(keras.layers.Dropout(0.3))\n",
    "model.add(keras.layers.Dense(units=10, activation='softmax', kernel_initializer='glorot_normal'))"
   ]
  },
  {
   "cell_type": "code",
   "execution_count": 4,
   "id": "7b8a73e6",
   "metadata": {},
   "outputs": [],
   "source": [
    "model.compile(optimizer=keras.optimizers.Adam(learning_rate=0.001), loss='sparse_categorical_crossentropy', metrics='accuracy')"
   ]
  },
  {
   "cell_type": "code",
   "execution_count": 5,
   "id": "835d098a",
   "metadata": {},
   "outputs": [
    {
     "name": "stdout",
     "output_type": "stream",
     "text": [
      "Model: \"sequential\"\n",
      "_________________________________________________________________\n",
      " Layer (type)                Output Shape              Param #   \n",
      "=================================================================\n",
      " dense (Dense)               (None, 512)               401920    \n",
      "                                                                 \n",
      " dropout (Dropout)           (None, 512)               0         \n",
      "                                                                 \n",
      " dense_1 (Dense)             (None, 512)               262656    \n",
      "                                                                 \n",
      " dropout_1 (Dropout)         (None, 512)               0         \n",
      "                                                                 \n",
      " dense_2 (Dense)             (None, 512)               262656    \n",
      "                                                                 \n",
      " dropout_2 (Dropout)         (None, 512)               0         \n",
      "                                                                 \n",
      " dense_3 (Dense)             (None, 512)               262656    \n",
      "                                                                 \n",
      " dropout_3 (Dropout)         (None, 512)               0         \n",
      "                                                                 \n",
      " dense_4 (Dense)             (None, 10)                5130      \n",
      "                                                                 \n",
      "=================================================================\n",
      "Total params: 1,195,018\n",
      "Trainable params: 1,195,018\n",
      "Non-trainable params: 0\n",
      "_________________________________________________________________\n"
     ]
    }
   ],
   "source": [
    "model.summary()"
   ]
  },
  {
   "cell_type": "code",
   "execution_count": 6,
   "id": "3345790e",
   "metadata": {},
   "outputs": [
    {
     "name": "stdout",
     "output_type": "stream",
     "text": [
      "Epoch 1/50\n",
      "480/480 [==============================] - 10s 19ms/step - loss: 0.6247 - accuracy: 0.7718\n",
      "Epoch 2/50\n",
      "480/480 [==============================] - 11s 22ms/step - loss: 0.4463 - accuracy: 0.8376\n",
      "Epoch 3/50\n",
      "480/480 [==============================] - 11s 22ms/step - loss: 0.4119 - accuracy: 0.8513\n",
      "Epoch 4/50\n",
      "480/480 [==============================] - 11s 24ms/step - loss: 0.3838 - accuracy: 0.8616\n",
      "Epoch 5/50\n",
      "480/480 [==============================] - 9s 20ms/step - loss: 0.3707 - accuracy: 0.8636\n",
      "Epoch 6/50\n",
      "480/480 [==============================] - 9s 20ms/step - loss: 0.3595 - accuracy: 0.8701\n",
      "Epoch 7/50\n",
      "480/480 [==============================] - 9s 19ms/step - loss: 0.3484 - accuracy: 0.8726\n",
      "Epoch 8/50\n",
      "480/480 [==============================] - 10s 20ms/step - loss: 0.3415 - accuracy: 0.8755\n",
      "Epoch 9/50\n",
      "480/480 [==============================] - 9s 19ms/step - loss: 0.3351 - accuracy: 0.8786\n",
      "Epoch 10/50\n",
      "480/480 [==============================] - 7s 15ms/step - loss: 0.3243 - accuracy: 0.8822\n",
      "Epoch 11/50\n",
      "480/480 [==============================] - 7s 15ms/step - loss: 0.3187 - accuracy: 0.8838\n",
      "Epoch 12/50\n",
      "480/480 [==============================] - 7s 15ms/step - loss: 0.3153 - accuracy: 0.8853\n",
      "Epoch 13/50\n",
      "480/480 [==============================] - 7s 15ms/step - loss: 0.3074 - accuracy: 0.8880\n",
      "Epoch 14/50\n",
      "480/480 [==============================] - 7s 15ms/step - loss: 0.3078 - accuracy: 0.8887\n",
      "Epoch 15/50\n",
      "480/480 [==============================] - 7s 15ms/step - loss: 0.2967 - accuracy: 0.8893\n",
      "Epoch 16/50\n",
      "480/480 [==============================] - 7s 15ms/step - loss: 0.2961 - accuracy: 0.8902\n",
      "Epoch 17/50\n",
      "480/480 [==============================] - 7s 15ms/step - loss: 0.2964 - accuracy: 0.8911\n",
      "Epoch 18/50\n",
      "480/480 [==============================] - 7s 15ms/step - loss: 0.2866 - accuracy: 0.8936\n",
      "Epoch 19/50\n",
      "480/480 [==============================] - 7s 15ms/step - loss: 0.2843 - accuracy: 0.8968\n",
      "Epoch 20/50\n",
      "480/480 [==============================] - 9s 19ms/step - loss: 0.2806 - accuracy: 0.8962\n",
      "Epoch 21/50\n",
      "480/480 [==============================] - 20s 41ms/step - loss: 0.2773 - accuracy: 0.8991\n",
      "Epoch 22/50\n",
      "480/480 [==============================] - 13s 27ms/step - loss: 0.2732 - accuracy: 0.8990\n",
      "Epoch 23/50\n",
      "480/480 [==============================] - 11s 22ms/step - loss: 0.2771 - accuracy: 0.9003\n",
      "Epoch 24/50\n",
      "480/480 [==============================] - 11s 22ms/step - loss: 0.2686 - accuracy: 0.9020\n",
      "Epoch 25/50\n",
      "480/480 [==============================] - 10s 20ms/step - loss: 0.2663 - accuracy: 0.9018\n",
      "Epoch 26/50\n",
      "480/480 [==============================] - 10s 20ms/step - loss: 0.2694 - accuracy: 0.9007\n",
      "Epoch 27/50\n",
      "480/480 [==============================] - 10s 20ms/step - loss: 0.2639 - accuracy: 0.9034\n",
      "Epoch 28/50\n",
      "480/480 [==============================] - 13s 26ms/step - loss: 0.2593 - accuracy: 0.9053\n",
      "Epoch 29/50\n",
      "480/480 [==============================] - 10s 21ms/step - loss: 0.2577 - accuracy: 0.9058\n",
      "Epoch 30/50\n",
      "480/480 [==============================] - 7s 15ms/step - loss: 0.2547 - accuracy: 0.9066\n",
      "Epoch 31/50\n",
      "480/480 [==============================] - 7s 15ms/step - loss: 0.2558 - accuracy: 0.9049\n",
      "Epoch 32/50\n",
      "480/480 [==============================] - 8s 16ms/step - loss: 0.2525 - accuracy: 0.9080\n",
      "Epoch 33/50\n",
      "480/480 [==============================] - 7s 15ms/step - loss: 0.2546 - accuracy: 0.9072\n",
      "Epoch 34/50\n",
      "480/480 [==============================] - 7s 16ms/step - loss: 0.2460 - accuracy: 0.9093\n",
      "Epoch 35/50\n",
      "480/480 [==============================] - 7s 16ms/step - loss: 0.2515 - accuracy: 0.9087\n",
      "Epoch 36/50\n",
      "480/480 [==============================] - 7s 15ms/step - loss: 0.2442 - accuracy: 0.9113\n",
      "Epoch 37/50\n",
      "480/480 [==============================] - 7s 15ms/step - loss: 0.2465 - accuracy: 0.9109\n",
      "Epoch 38/50\n",
      "480/480 [==============================] - 7s 15ms/step - loss: 0.2457 - accuracy: 0.9109\n",
      "Epoch 39/50\n",
      "480/480 [==============================] - 7s 15ms/step - loss: 0.2413 - accuracy: 0.9124\n",
      "Epoch 40/50\n",
      "480/480 [==============================] - 7s 15ms/step - loss: 0.2403 - accuracy: 0.9128\n",
      "Epoch 41/50\n",
      "480/480 [==============================] - 7s 15ms/step - loss: 0.2374 - accuracy: 0.9130\n",
      "Epoch 42/50\n",
      "480/480 [==============================] - 8s 17ms/step - loss: 0.2402 - accuracy: 0.9132\n",
      "Epoch 43/50\n",
      "480/480 [==============================] - 8s 16ms/step - loss: 0.2347 - accuracy: 0.9150\n",
      "Epoch 44/50\n",
      "480/480 [==============================] - 7s 15ms/step - loss: 0.2361 - accuracy: 0.9137\n",
      "Epoch 45/50\n",
      "480/480 [==============================] - 8s 17ms/step - loss: 0.2312 - accuracy: 0.9160\n",
      "Epoch 46/50\n",
      "480/480 [==============================] - 7s 15ms/step - loss: 0.2344 - accuracy: 0.9145\n",
      "Epoch 47/50\n",
      "480/480 [==============================] - 7s 15ms/step - loss: 0.2306 - accuracy: 0.9160\n",
      "Epoch 48/50\n",
      "480/480 [==============================] - 7s 15ms/step - loss: 0.2277 - accuracy: 0.9154\n",
      "Epoch 49/50\n",
      "480/480 [==============================] - 7s 15ms/step - loss: 0.2274 - accuracy: 0.9174\n",
      "Epoch 50/50\n",
      "480/480 [==============================] - 7s 15ms/step - loss: 0.2244 - accuracy: 0.9186\n"
     ]
    },
    {
     "data": {
      "text/plain": [
       "<keras.callbacks.History at 0x2908076f548>"
      ]
     },
     "execution_count": 6,
     "metadata": {},
     "output_type": "execute_result"
    }
   ],
   "source": [
    "model.fit(train_scaled, train_target, epochs=50, batch_size=100)"
   ]
  },
  {
   "cell_type": "code",
   "execution_count": 7,
   "id": "e3896a7d",
   "metadata": {},
   "outputs": [
    {
     "name": "stdout",
     "output_type": "stream",
     "text": [
      "375/375 [==============================] - 2s 4ms/step - loss: 0.3193 - accuracy: 0.8950\n"
     ]
    },
    {
     "data": {
      "text/plain": [
       "[0.31928378343582153, 0.8949999809265137]"
      ]
     },
     "execution_count": 7,
     "metadata": {},
     "output_type": "execute_result"
    }
   ],
   "source": [
    "model.evaluate(val_scaled, val_target)"
   ]
  },
  {
   "cell_type": "code",
   "execution_count": null,
   "id": "170e161e",
   "metadata": {},
   "outputs": [],
   "source": []
  }
 ],
 "metadata": {
  "kernelspec": {
   "display_name": "Python [conda env:tf_cpu] *",
   "language": "python",
   "name": "conda-env-tf_cpu-py"
  },
  "language_info": {
   "codemirror_mode": {
    "name": "ipython",
    "version": 3
   },
   "file_extension": ".py",
   "mimetype": "text/x-python",
   "name": "python",
   "nbconvert_exporter": "python",
   "pygments_lexer": "ipython3",
   "version": "3.7.13"
  }
 },
 "nbformat": 4,
 "nbformat_minor": 5
}

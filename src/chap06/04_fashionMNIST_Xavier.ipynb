{
 "cells": [
  {
   "cell_type": "code",
   "execution_count": 1,
   "id": "a141349f",
   "metadata": {},
   "outputs": [],
   "source": [
    "from tensorflow import keras\n",
    "\n",
    "(train_input, train_target), (test_input, test_target) \\\n",
    "= keras.datasets.fashion_mnist.load_data()"
   ]
  },
  {
   "cell_type": "code",
   "execution_count": 2,
   "id": "059c2c47",
   "metadata": {},
   "outputs": [],
   "source": [
    "from sklearn.model_selection import train_test_split\n",
    "\n",
    "train_scaled = train_input / 255.0\n",
    "train_scaled = train_scaled.reshape(-1, 28*28)\n",
    "\n",
    "train_scaled, val_scaled, train_target, val_target = train_test_split(train_scaled, train_target, test_size=0.2, random_state=42)"
   ]
  },
  {
   "cell_type": "code",
   "execution_count": 9,
   "id": "8f70de07",
   "metadata": {},
   "outputs": [],
   "source": [
    "model = keras.Sequential()\n",
    "model.add(keras.layers.Dense(units=512, activation='relu', input_shape=(28*28,), kernel_initializer='glorot_normal'))\n",
    "model.add(keras.layers.Dense(units=512, activation='relu', kernel_initializer='glorot_normal'))\n",
    "model.add(keras.layers.Dense(units=512, activation='relu', kernel_initializer='glorot_normal'))\n",
    "model.add(keras.layers.Dense(units=512, activation='relu', kernel_initializer='glorot_normal'))\n",
    "model.add(keras.layers.Dense(units=10, activation='softmax', kernel_initializer='glorot_normal'))"
   ]
  },
  {
   "cell_type": "code",
   "execution_count": 10,
   "id": "c2bf696a",
   "metadata": {},
   "outputs": [],
   "source": [
    "model.compile(optimizer=keras.optimizers.Adam(learning_rate=0.001), loss='sparse_categorical_crossentropy', metrics='accuracy')"
   ]
  },
  {
   "cell_type": "code",
   "execution_count": 11,
   "id": "36be6d35",
   "metadata": {},
   "outputs": [
    {
     "name": "stdout",
     "output_type": "stream",
     "text": [
      "Model: \"sequential_2\"\n",
      "_________________________________________________________________\n",
      " Layer (type)                Output Shape              Param #   \n",
      "=================================================================\n",
      " dense_4 (Dense)             (None, 512)               401920    \n",
      "                                                                 \n",
      " dense_5 (Dense)             (None, 512)               262656    \n",
      "                                                                 \n",
      " dense_6 (Dense)             (None, 512)               262656    \n",
      "                                                                 \n",
      " dense_7 (Dense)             (None, 512)               262656    \n",
      "                                                                 \n",
      " dense_8 (Dense)             (None, 10)                5130      \n",
      "                                                                 \n",
      "=================================================================\n",
      "Total params: 1,195,018\n",
      "Trainable params: 1,195,018\n",
      "Non-trainable params: 0\n",
      "_________________________________________________________________\n"
     ]
    }
   ],
   "source": [
    "model.summary()"
   ]
  },
  {
   "cell_type": "code",
   "execution_count": 12,
   "id": "b7b1bea5",
   "metadata": {},
   "outputs": [
    {
     "name": "stdout",
     "output_type": "stream",
     "text": [
      "Epoch 1/50\n",
      "480/480 [==============================] - 8s 14ms/step - loss: 0.5008 - accuracy: 0.8180\n",
      "Epoch 2/50\n",
      "480/480 [==============================] - 7s 14ms/step - loss: 0.3705 - accuracy: 0.8633\n",
      "Epoch 3/50\n",
      "480/480 [==============================] - 7s 14ms/step - loss: 0.3320 - accuracy: 0.8785\n",
      "Epoch 4/50\n",
      "480/480 [==============================] - 8s 16ms/step - loss: 0.3055 - accuracy: 0.8855\n",
      "Epoch 5/50\n",
      "480/480 [==============================] - 6s 13ms/step - loss: 0.2837 - accuracy: 0.8925\n",
      "Epoch 6/50\n",
      "480/480 [==============================] - 5s 11ms/step - loss: 0.2766 - accuracy: 0.8977\n",
      "Epoch 7/50\n",
      "480/480 [==============================] - 6s 12ms/step - loss: 0.2613 - accuracy: 0.9018\n",
      "Epoch 8/50\n",
      "480/480 [==============================] - 6s 13ms/step - loss: 0.2496 - accuracy: 0.9065\n",
      "Epoch 9/50\n",
      "480/480 [==============================] - 6s 12ms/step - loss: 0.2359 - accuracy: 0.9099\n",
      "Epoch 10/50\n",
      "480/480 [==============================] - 6s 12ms/step - loss: 0.2290 - accuracy: 0.9127\n",
      "Epoch 11/50\n",
      "480/480 [==============================] - 6s 12ms/step - loss: 0.2182 - accuracy: 0.9163\n",
      "Epoch 12/50\n",
      "480/480 [==============================] - 5s 11ms/step - loss: 0.2130 - accuracy: 0.9195\n",
      "Epoch 13/50\n",
      "480/480 [==============================] - 13s 28ms/step - loss: 0.2051 - accuracy: 0.9217\n",
      "Epoch 14/50\n",
      "480/480 [==============================] - 8s 17ms/step - loss: 0.1964 - accuracy: 0.9243\n",
      "Epoch 15/50\n",
      "480/480 [==============================] - 8s 17ms/step - loss: 0.1899 - accuracy: 0.9276\n",
      "Epoch 16/50\n",
      "480/480 [==============================] - 7s 15ms/step - loss: 0.1812 - accuracy: 0.9299\n",
      "Epoch 17/50\n",
      "480/480 [==============================] - 8s 17ms/step - loss: 0.1741 - accuracy: 0.9331\n",
      "Epoch 18/50\n",
      "480/480 [==============================] - 7s 16ms/step - loss: 0.1718 - accuracy: 0.9344\n",
      "Epoch 19/50\n",
      "480/480 [==============================] - 8s 16ms/step - loss: 0.1615 - accuracy: 0.9369\n",
      "Epoch 20/50\n",
      "480/480 [==============================] - 7s 15ms/step - loss: 0.1575 - accuracy: 0.9393\n",
      "Epoch 21/50\n",
      "480/480 [==============================] - 6s 12ms/step - loss: 0.1516 - accuracy: 0.9404\n",
      "Epoch 22/50\n",
      "480/480 [==============================] - 6s 13ms/step - loss: 0.1474 - accuracy: 0.9431\n",
      "Epoch 23/50\n",
      "480/480 [==============================] - 5s 11ms/step - loss: 0.1499 - accuracy: 0.9421\n",
      "Epoch 24/50\n",
      "480/480 [==============================] - 5s 11ms/step - loss: 0.1364 - accuracy: 0.9470\n",
      "Epoch 25/50\n",
      "480/480 [==============================] - 5s 11ms/step - loss: 0.1366 - accuracy: 0.9477\n",
      "Epoch 26/50\n",
      "480/480 [==============================] - 6s 12ms/step - loss: 0.1265 - accuracy: 0.9516\n",
      "Epoch 27/50\n",
      "480/480 [==============================] - 8s 17ms/step - loss: 0.1259 - accuracy: 0.9525\n",
      "Epoch 28/50\n",
      "480/480 [==============================] - 7s 15ms/step - loss: 0.1210 - accuracy: 0.9535\n",
      "Epoch 29/50\n",
      "480/480 [==============================] - 7s 15ms/step - loss: 0.1160 - accuracy: 0.9551\n",
      "Epoch 30/50\n",
      "480/480 [==============================] - 7s 15ms/step - loss: 0.1117 - accuracy: 0.9557\n",
      "Epoch 31/50\n",
      "480/480 [==============================] - 7s 16ms/step - loss: 0.1172 - accuracy: 0.9547\n",
      "Epoch 32/50\n",
      "480/480 [==============================] - 7s 15ms/step - loss: 0.1047 - accuracy: 0.9588\n",
      "Epoch 33/50\n",
      "480/480 [==============================] - 7s 15ms/step - loss: 0.1015 - accuracy: 0.9600\n",
      "Epoch 34/50\n",
      "480/480 [==============================] - 7s 16ms/step - loss: 0.0987 - accuracy: 0.9607\n",
      "Epoch 35/50\n",
      "480/480 [==============================] - 7s 15ms/step - loss: 0.0980 - accuracy: 0.9617\n",
      "Epoch 36/50\n",
      "480/480 [==============================] - 8s 16ms/step - loss: 0.0969 - accuracy: 0.9622\n",
      "Epoch 37/50\n",
      "480/480 [==============================] - 8s 16ms/step - loss: 0.0929 - accuracy: 0.9641\n",
      "Epoch 38/50\n",
      "480/480 [==============================] - 8s 16ms/step - loss: 0.0922 - accuracy: 0.9646\n",
      "Epoch 39/50\n",
      "480/480 [==============================] - 8s 16ms/step - loss: 0.0829 - accuracy: 0.9668\n",
      "Epoch 40/50\n",
      "480/480 [==============================] - 8s 16ms/step - loss: 0.0917 - accuracy: 0.9653\n",
      "Epoch 41/50\n",
      "480/480 [==============================] - 7s 15ms/step - loss: 0.0808 - accuracy: 0.9682\n",
      "Epoch 42/50\n",
      "480/480 [==============================] - 7s 15ms/step - loss: 0.0789 - accuracy: 0.9691\n",
      "Epoch 43/50\n",
      "480/480 [==============================] - 7s 15ms/step - loss: 0.0837 - accuracy: 0.9687\n",
      "Epoch 44/50\n",
      "480/480 [==============================] - 7s 15ms/step - loss: 0.0743 - accuracy: 0.9715\n",
      "Epoch 45/50\n",
      "480/480 [==============================] - 7s 15ms/step - loss: 0.0763 - accuracy: 0.9704\n",
      "Epoch 46/50\n",
      "480/480 [==============================] - 8s 16ms/step - loss: 0.0708 - accuracy: 0.9729\n",
      "Epoch 47/50\n",
      "480/480 [==============================] - 8s 16ms/step - loss: 0.0781 - accuracy: 0.9715\n",
      "Epoch 48/50\n",
      "480/480 [==============================] - 10s 21ms/step - loss: 0.0742 - accuracy: 0.9716\n",
      "Epoch 49/50\n",
      "480/480 [==============================] - 12s 26ms/step - loss: 0.0697 - accuracy: 0.9736\n",
      "Epoch 50/50\n",
      "480/480 [==============================] - 10s 20ms/step - loss: 0.0672 - accuracy: 0.9736\n"
     ]
    },
    {
     "data": {
      "text/plain": [
       "<keras.callbacks.History at 0x2777f1f8188>"
      ]
     },
     "execution_count": 12,
     "metadata": {},
     "output_type": "execute_result"
    }
   ],
   "source": [
    "model.fit(train_scaled, train_target, epochs=50, batch_size=100)"
   ]
  },
  {
   "cell_type": "code",
   "execution_count": 13,
   "id": "30034d96",
   "metadata": {},
   "outputs": [
    {
     "name": "stdout",
     "output_type": "stream",
     "text": [
      "375/375 [==============================] - 1s 3ms/step - loss: 0.6495 - accuracy: 0.8906\n"
     ]
    },
    {
     "data": {
      "text/plain": [
       "[0.6495408415794373, 0.890583336353302]"
      ]
     },
     "execution_count": 13,
     "metadata": {},
     "output_type": "execute_result"
    }
   ],
   "source": [
    "model.evaluate(val_scaled, val_target)"
   ]
  },
  {
   "cell_type": "code",
   "execution_count": null,
   "id": "d3d9a15a",
   "metadata": {},
   "outputs": [],
   "source": []
  }
 ],
 "metadata": {
  "kernelspec": {
   "display_name": "Python [conda env:tf_cpu] *",
   "language": "python",
   "name": "conda-env-tf_cpu-py"
  },
  "language_info": {
   "codemirror_mode": {
    "name": "ipython",
    "version": 3
   },
   "file_extension": ".py",
   "mimetype": "text/x-python",
   "name": "python",
   "nbconvert_exporter": "python",
   "pygments_lexer": "ipython3",
   "version": "3.7.13"
  }
 },
 "nbformat": 4,
 "nbformat_minor": 5
}

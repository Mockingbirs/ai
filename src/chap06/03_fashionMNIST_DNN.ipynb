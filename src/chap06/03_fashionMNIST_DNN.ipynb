{
 "cells": [
  {
   "cell_type": "code",
   "execution_count": 1,
   "id": "4c7ef85f",
   "metadata": {},
   "outputs": [],
   "source": [
    "from tensorflow import keras\n",
    "\n",
    "(train_input, train_target), (test_input, test_target) = keras.datasets.fashion_mnist.load_data()"
   ]
  },
  {
   "cell_type": "code",
   "execution_count": 2,
   "id": "451388b1",
   "metadata": {},
   "outputs": [
    {
     "name": "stdout",
     "output_type": "stream",
     "text": [
      "(60000, 28, 28) (60000,) (10000, 28, 28) (10000,)\n"
     ]
    }
   ],
   "source": [
    "print(train_input.shape,train_target.shape,test_input.shape,test_target.shape)"
   ]
  },
  {
   "cell_type": "code",
   "execution_count": 4,
   "id": "29613dbb",
   "metadata": {},
   "outputs": [],
   "source": [
    "from sklearn.model_selection import train_test_split\n",
    "\n",
    "train_scaled = train_input / 255.0\n",
    "train_scaled = train_scaled.reshape(-1, 28*28)\n",
    "\n",
    "train_scaled, val_scaled, train_target, val_target = train_test_split(train_scaled, train_target, test_size=0.2, random_state=42)"
   ]
  },
  {
   "cell_type": "code",
   "execution_count": 5,
   "id": "980da382",
   "metadata": {},
   "outputs": [],
   "source": [
    "dense1 = keras.layers.Dense(units=100, activation='sigmoid', input_shape=(28*28,))\n",
    "dense2 = keras.layers.Dense(units=10, activation='softmax')"
   ]
  },
  {
   "cell_type": "code",
   "execution_count": 6,
   "id": "ee2ee5a9",
   "metadata": {},
   "outputs": [],
   "source": [
    "# 심층 신경망 만들기\n",
    "# 층을 추가하는 다른 방법1\n",
    "model = keras.Sequential([dense1, dense2])"
   ]
  },
  {
   "cell_type": "code",
   "execution_count": 7,
   "id": "62c5327b",
   "metadata": {},
   "outputs": [
    {
     "name": "stdout",
     "output_type": "stream",
     "text": [
      "Model: \"sequential\"\n",
      "_________________________________________________________________\n",
      " Layer (type)                Output Shape              Param #   \n",
      "=================================================================\n",
      " dense (Dense)               (None, 100)               78500     \n",
      "                                                                 \n",
      " dense_1 (Dense)             (None, 10)                1010      \n",
      "                                                                 \n",
      "=================================================================\n",
      "Total params: 79,510\n",
      "Trainable params: 79,510\n",
      "Non-trainable params: 0\n",
      "_________________________________________________________________\n"
     ]
    }
   ],
   "source": [
    "model.summary()"
   ]
  },
  {
   "cell_type": "code",
   "execution_count": 10,
   "id": "a20cccb7",
   "metadata": {},
   "outputs": [],
   "source": [
    "# 층을 추가하는 다른 방법2\n",
    "model = keras.Sequential([keras.layers.Dense(units=100, activation='sigmoid', input_shape=(28*28,), name = 'hidden'),\n",
    "                         keras.layers.Dense(units=10, activation='softmax', name= 'output')], name = '패션 MNIST 모델')"
   ]
  },
  {
   "cell_type": "code",
   "execution_count": 11,
   "id": "388b720a",
   "metadata": {},
   "outputs": [
    {
     "name": "stdout",
     "output_type": "stream",
     "text": [
      "Model: \"패션 MNIST 모델\"\n",
      "_________________________________________________________________\n",
      " Layer (type)                Output Shape              Param #   \n",
      "=================================================================\n",
      " hidden (Dense)              (None, 100)               78500     \n",
      "                                                                 \n",
      " output (Dense)              (None, 10)                1010      \n",
      "                                                                 \n",
      "=================================================================\n",
      "Total params: 79,510\n",
      "Trainable params: 79,510\n",
      "Non-trainable params: 0\n",
      "_________________________________________________________________\n"
     ]
    }
   ],
   "source": [
    "model.summary()"
   ]
  },
  {
   "cell_type": "code",
   "execution_count": 12,
   "id": "935b53a3",
   "metadata": {},
   "outputs": [],
   "source": [
    "# 층을 추가하는 다른 방법3\n",
    "model = keras.Sequential()\n",
    "model.add(keras.layers.Dense(units=100, activation='sigmoid', input_shape=(28*28,), name = 'hidden'))\n",
    "model.add(keras.layers.Dense(units=10, activation='softmax', name= 'output'))"
   ]
  },
  {
   "cell_type": "code",
   "execution_count": 13,
   "id": "d2918129",
   "metadata": {},
   "outputs": [
    {
     "name": "stdout",
     "output_type": "stream",
     "text": [
      "Model: \"sequential_1\"\n",
      "_________________________________________________________________\n",
      " Layer (type)                Output Shape              Param #   \n",
      "=================================================================\n",
      " hidden (Dense)              (None, 100)               78500     \n",
      "                                                                 \n",
      " output (Dense)              (None, 10)                1010      \n",
      "                                                                 \n",
      "=================================================================\n",
      "Total params: 79,510\n",
      "Trainable params: 79,510\n",
      "Non-trainable params: 0\n",
      "_________________________________________________________________\n"
     ]
    }
   ],
   "source": [
    "model.summary()"
   ]
  },
  {
   "cell_type": "code",
   "execution_count": 17,
   "id": "dc1da1ee",
   "metadata": {},
   "outputs": [
    {
     "name": "stdout",
     "output_type": "stream",
     "text": [
      "Epoch 1/100\n",
      "1500/1500 [==============================] - 7s 4ms/step - loss: 1.3686 - accuracy: 0.6535\n",
      "Epoch 2/100\n",
      "1500/1500 [==============================] - 7s 5ms/step - loss: 0.8375 - accuracy: 0.7452\n",
      "Epoch 3/100\n",
      "1500/1500 [==============================] - 6s 4ms/step - loss: 0.7071 - accuracy: 0.7659\n",
      "Epoch 4/100\n",
      "1500/1500 [==============================] - 6s 4ms/step - loss: 0.6429 - accuracy: 0.7815\n",
      "Epoch 5/100\n",
      "1500/1500 [==============================] - 6s 4ms/step - loss: 0.6017 - accuracy: 0.7948\n",
      "Epoch 6/100\n",
      "1500/1500 [==============================] - 7s 5ms/step - loss: 0.5717 - accuracy: 0.8035\n",
      "Epoch 7/100\n",
      "1500/1500 [==============================] - 6s 4ms/step - loss: 0.5486 - accuracy: 0.8114\n",
      "Epoch 8/100\n",
      "1500/1500 [==============================] - 6s 4ms/step - loss: 0.5305 - accuracy: 0.8173\n",
      "Epoch 9/100\n",
      "1500/1500 [==============================] - 7s 4ms/step - loss: 0.5158 - accuracy: 0.8212\n",
      "Epoch 10/100\n",
      "1500/1500 [==============================] - 7s 5ms/step - loss: 0.5035 - accuracy: 0.8254\n",
      "Epoch 11/100\n",
      "1500/1500 [==============================] - 7s 4ms/step - loss: 0.4931 - accuracy: 0.8286\n",
      "Epoch 12/100\n",
      "1500/1500 [==============================] - 6s 4ms/step - loss: 0.4840 - accuracy: 0.8314\n",
      "Epoch 13/100\n",
      "1500/1500 [==============================] - 6s 4ms/step - loss: 0.4764 - accuracy: 0.8347\n",
      "Epoch 14/100\n",
      "1500/1500 [==============================] - 7s 5ms/step - loss: 0.4694 - accuracy: 0.8365\n",
      "Epoch 15/100\n",
      "1500/1500 [==============================] - 7s 4ms/step - loss: 0.4632 - accuracy: 0.8396\n",
      "Epoch 16/100\n",
      "1500/1500 [==============================] - 7s 5ms/step - loss: 0.4575 - accuracy: 0.8408\n",
      "Epoch 17/100\n",
      "1500/1500 [==============================] - 7s 5ms/step - loss: 0.4521 - accuracy: 0.8425\n",
      "Epoch 18/100\n",
      "1500/1500 [==============================] - 7s 5ms/step - loss: 0.4474 - accuracy: 0.8439\n",
      "Epoch 19/100\n",
      "1500/1500 [==============================] - 6s 4ms/step - loss: 0.4431 - accuracy: 0.8451\n",
      "Epoch 20/100\n",
      "1500/1500 [==============================] - 7s 5ms/step - loss: 0.4387 - accuracy: 0.8465\n",
      "Epoch 21/100\n",
      "1500/1500 [==============================] - 7s 5ms/step - loss: 0.4350 - accuracy: 0.8479\n",
      "Epoch 22/100\n",
      "1500/1500 [==============================] - 7s 5ms/step - loss: 0.4315 - accuracy: 0.8488\n",
      "Epoch 23/100\n",
      "1500/1500 [==============================] - 7s 5ms/step - loss: 0.4281 - accuracy: 0.8504\n",
      "Epoch 24/100\n",
      "1500/1500 [==============================] - 7s 4ms/step - loss: 0.4247 - accuracy: 0.8508\n",
      "Epoch 25/100\n",
      "1500/1500 [==============================] - 6s 4ms/step - loss: 0.4217 - accuracy: 0.8520\n",
      "Epoch 26/100\n",
      "1500/1500 [==============================] - 7s 5ms/step - loss: 0.4187 - accuracy: 0.8535\n",
      "Epoch 27/100\n",
      "1500/1500 [==============================] - 7s 4ms/step - loss: 0.4159 - accuracy: 0.8542\n",
      "Epoch 28/100\n",
      "1500/1500 [==============================] - 7s 5ms/step - loss: 0.4132 - accuracy: 0.8549\n",
      "Epoch 29/100\n",
      "1500/1500 [==============================] - 8s 5ms/step - loss: 0.4108 - accuracy: 0.8556\n",
      "Epoch 30/100\n",
      "1500/1500 [==============================] - 7s 5ms/step - loss: 0.4082 - accuracy: 0.8566\n",
      "Epoch 31/100\n",
      "1500/1500 [==============================] - 7s 5ms/step - loss: 0.4060 - accuracy: 0.8568\n",
      "Epoch 32/100\n",
      "1500/1500 [==============================] - 14s 9ms/step - loss: 0.4035 - accuracy: 0.8587\n",
      "Epoch 33/100\n",
      "1500/1500 [==============================] - 7s 5ms/step - loss: 0.4013 - accuracy: 0.8597\n",
      "Epoch 34/100\n",
      "1500/1500 [==============================] - 8s 5ms/step - loss: 0.3992 - accuracy: 0.8603\n",
      "Epoch 35/100\n",
      "1500/1500 [==============================] - 6s 4ms/step - loss: 0.3971 - accuracy: 0.8608\n",
      "Epoch 36/100\n",
      "1500/1500 [==============================] - 6s 4ms/step - loss: 0.3951 - accuracy: 0.8606\n",
      "Epoch 37/100\n",
      "1500/1500 [==============================] - 6s 4ms/step - loss: 0.3934 - accuracy: 0.8621\n",
      "Epoch 38/100\n",
      "1500/1500 [==============================] - 6s 4ms/step - loss: 0.3914 - accuracy: 0.8626\n",
      "Epoch 39/100\n",
      "1500/1500 [==============================] - 6s 4ms/step - loss: 0.3895 - accuracy: 0.8627\n",
      "Epoch 40/100\n",
      "1500/1500 [==============================] - 6s 4ms/step - loss: 0.3877 - accuracy: 0.8636\n",
      "Epoch 41/100\n",
      "1500/1500 [==============================] - 5s 4ms/step - loss: 0.3861 - accuracy: 0.8631\n",
      "Epoch 42/100\n",
      "1500/1500 [==============================] - 6s 4ms/step - loss: 0.3846 - accuracy: 0.8642\n",
      "Epoch 43/100\n",
      "1500/1500 [==============================] - 6s 4ms/step - loss: 0.3826 - accuracy: 0.8653\n",
      "Epoch 44/100\n",
      "1500/1500 [==============================] - 6s 4ms/step - loss: 0.3811 - accuracy: 0.8658\n",
      "Epoch 45/100\n",
      "1500/1500 [==============================] - 6s 4ms/step - loss: 0.3794 - accuracy: 0.8666\n",
      "Epoch 46/100\n",
      "1500/1500 [==============================] - 6s 4ms/step - loss: 0.3778 - accuracy: 0.8677\n",
      "Epoch 47/100\n",
      "1500/1500 [==============================] - 7s 5ms/step - loss: 0.3762 - accuracy: 0.8680\n",
      "Epoch 48/100\n",
      "1500/1500 [==============================] - 6s 4ms/step - loss: 0.3747 - accuracy: 0.8685\n",
      "Epoch 49/100\n",
      "1500/1500 [==============================] - 6s 4ms/step - loss: 0.3737 - accuracy: 0.8677\n",
      "Epoch 50/100\n",
      "1500/1500 [==============================] - 7s 5ms/step - loss: 0.3720 - accuracy: 0.8694\n",
      "Epoch 51/100\n",
      "1500/1500 [==============================] - 8s 5ms/step - loss: 0.3705 - accuracy: 0.8702\n",
      "Epoch 52/100\n",
      "1500/1500 [==============================] - 7s 5ms/step - loss: 0.3692 - accuracy: 0.8696\n",
      "Epoch 53/100\n",
      "1500/1500 [==============================] - 6s 4ms/step - loss: 0.3676 - accuracy: 0.8703\n",
      "Epoch 54/100\n",
      "1500/1500 [==============================] - 6s 4ms/step - loss: 0.3666 - accuracy: 0.8709\n",
      "Epoch 55/100\n",
      "1500/1500 [==============================] - 6s 4ms/step - loss: 0.3653 - accuracy: 0.8706\n",
      "Epoch 56/100\n",
      "1500/1500 [==============================] - 7s 5ms/step - loss: 0.3636 - accuracy: 0.8718\n",
      "Epoch 57/100\n",
      "1500/1500 [==============================] - 6s 4ms/step - loss: 0.3627 - accuracy: 0.8718\n",
      "Epoch 58/100\n",
      "1500/1500 [==============================] - 5s 4ms/step - loss: 0.3615 - accuracy: 0.8726\n",
      "Epoch 59/100\n",
      "1500/1500 [==============================] - 6s 4ms/step - loss: 0.3602 - accuracy: 0.8725\n",
      "Epoch 60/100\n",
      "1500/1500 [==============================] - 6s 4ms/step - loss: 0.3590 - accuracy: 0.8737\n",
      "Epoch 61/100\n",
      "1500/1500 [==============================] - 6s 4ms/step - loss: 0.3578 - accuracy: 0.8730\n",
      "Epoch 62/100\n",
      "1500/1500 [==============================] - 6s 4ms/step - loss: 0.3565 - accuracy: 0.8739\n",
      "Epoch 63/100\n",
      "1500/1500 [==============================] - 6s 4ms/step - loss: 0.3554 - accuracy: 0.8737\n",
      "Epoch 64/100\n",
      "1500/1500 [==============================] - 6s 4ms/step - loss: 0.3543 - accuracy: 0.8740\n",
      "Epoch 65/100\n",
      "1500/1500 [==============================] - 7s 5ms/step - loss: 0.3533 - accuracy: 0.8749\n",
      "Epoch 66/100\n",
      "1500/1500 [==============================] - 8s 5ms/step - loss: 0.3522 - accuracy: 0.8742\n",
      "Epoch 67/100\n",
      "1500/1500 [==============================] - 7s 5ms/step - loss: 0.3511 - accuracy: 0.8748\n",
      "Epoch 68/100\n",
      "1500/1500 [==============================] - 6s 4ms/step - loss: 0.3500 - accuracy: 0.8761\n",
      "Epoch 69/100\n",
      "1500/1500 [==============================] - 7s 5ms/step - loss: 0.3491 - accuracy: 0.8762\n",
      "Epoch 70/100\n",
      "1500/1500 [==============================] - 6s 4ms/step - loss: 0.3479 - accuracy: 0.8767\n",
      "Epoch 71/100\n",
      "1500/1500 [==============================] - 7s 5ms/step - loss: 0.3468 - accuracy: 0.8770\n",
      "Epoch 72/100\n",
      "1500/1500 [==============================] - 7s 5ms/step - loss: 0.3456 - accuracy: 0.8775\n",
      "Epoch 73/100\n",
      "1500/1500 [==============================] - 6s 4ms/step - loss: 0.3450 - accuracy: 0.8777\n",
      "Epoch 74/100\n",
      "1500/1500 [==============================] - 6s 4ms/step - loss: 0.3436 - accuracy: 0.8792\n",
      "Epoch 75/100\n",
      "1500/1500 [==============================] - 6s 4ms/step - loss: 0.3429 - accuracy: 0.8786\n",
      "Epoch 76/100\n",
      "1500/1500 [==============================] - 6s 4ms/step - loss: 0.3419 - accuracy: 0.8790\n",
      "Epoch 77/100\n",
      "1500/1500 [==============================] - 6s 4ms/step - loss: 0.3410 - accuracy: 0.8794\n",
      "Epoch 78/100\n",
      "1500/1500 [==============================] - 6s 4ms/step - loss: 0.3401 - accuracy: 0.8787\n",
      "Epoch 79/100\n"
     ]
    },
    {
     "name": "stdout",
     "output_type": "stream",
     "text": [
      "1500/1500 [==============================] - 6s 4ms/step - loss: 0.3391 - accuracy: 0.8797\n",
      "Epoch 80/100\n",
      "1500/1500 [==============================] - 6s 4ms/step - loss: 0.3382 - accuracy: 0.8798\n",
      "Epoch 81/100\n",
      "1500/1500 [==============================] - 5s 3ms/step - loss: 0.3371 - accuracy: 0.8799\n",
      "Epoch 82/100\n",
      "1500/1500 [==============================] - 5s 3ms/step - loss: 0.3364 - accuracy: 0.8803\n",
      "Epoch 83/100\n",
      "1500/1500 [==============================] - 5s 3ms/step - loss: 0.3355 - accuracy: 0.8814\n",
      "Epoch 84/100\n",
      "1500/1500 [==============================] - 5s 3ms/step - loss: 0.3346 - accuracy: 0.8810\n",
      "Epoch 85/100\n",
      "1500/1500 [==============================] - 5s 3ms/step - loss: 0.3337 - accuracy: 0.8812\n",
      "Epoch 86/100\n",
      "1500/1500 [==============================] - 5s 4ms/step - loss: 0.3327 - accuracy: 0.8822\n",
      "Epoch 87/100\n",
      "1500/1500 [==============================] - 6s 4ms/step - loss: 0.3319 - accuracy: 0.8819\n",
      "Epoch 88/100\n",
      "1500/1500 [==============================] - 30s 20ms/step - loss: 0.3311 - accuracy: 0.8825\n",
      "Epoch 89/100\n",
      "1500/1500 [==============================] - 13s 9ms/step - loss: 0.3301 - accuracy: 0.8827\n",
      "Epoch 90/100\n",
      "1500/1500 [==============================] - 28s 19ms/step - loss: 0.3295 - accuracy: 0.8834\n",
      "Epoch 91/100\n",
      "1500/1500 [==============================] - 18s 12ms/step - loss: 0.3283 - accuracy: 0.8836\n",
      "Epoch 92/100\n",
      "1500/1500 [==============================] - 18s 12ms/step - loss: 0.3279 - accuracy: 0.8831\n",
      "Epoch 93/100\n",
      "1500/1500 [==============================] - 10s 6ms/step - loss: 0.3270 - accuracy: 0.8832\n",
      "Epoch 94/100\n",
      "1500/1500 [==============================] - 18s 12ms/step - loss: 0.3262 - accuracy: 0.8846\n",
      "Epoch 95/100\n",
      "1500/1500 [==============================] - 17s 11ms/step - loss: 0.3254 - accuracy: 0.8845\n",
      "Epoch 96/100\n",
      "1500/1500 [==============================] - 8s 5ms/step - loss: 0.3246 - accuracy: 0.8845\n",
      "Epoch 97/100\n",
      "1500/1500 [==============================] - 6s 4ms/step - loss: 0.3239 - accuracy: 0.8844\n",
      "Epoch 98/100\n",
      "1500/1500 [==============================] - 8s 5ms/step - loss: 0.3229 - accuracy: 0.8851\n",
      "Epoch 99/100\n",
      "1500/1500 [==============================] - 7s 4ms/step - loss: 0.3221 - accuracy: 0.8858\n",
      "Epoch 100/100\n",
      "1500/1500 [==============================] - 7s 4ms/step - loss: 0.3213 - accuracy: 0.8855\n"
     ]
    },
    {
     "data": {
      "text/plain": [
       "<keras.callbacks.History at 0x1c23e953108>"
      ]
     },
     "execution_count": 17,
     "metadata": {},
     "output_type": "execute_result"
    }
   ],
   "source": [
    "model.compile(loss='sparse_categorical_crossentropy', optimizer='sgd', metrics='accuracy')\n",
    "model.fit(train_scaled, train_target, epochs =100)"
   ]
  },
  {
   "cell_type": "code",
   "execution_count": 20,
   "id": "6e275f14",
   "metadata": {},
   "outputs": [],
   "source": [
    "model = keras.Sequential()\n",
    "model.add(keras.layers.Flatten(input_shape=(28, 28)))\n",
    "model.add(keras.layers.Dense(units=100, activation='relu'))\n",
    "model.add(keras.layers.Dense(units=10, activation='softmax'))"
   ]
  },
  {
   "cell_type": "code",
   "execution_count": 21,
   "id": "d4cce2d3",
   "metadata": {},
   "outputs": [
    {
     "name": "stdout",
     "output_type": "stream",
     "text": [
      "Model: \"sequential_4\"\n",
      "_________________________________________________________________\n",
      " Layer (type)                Output Shape              Param #   \n",
      "=================================================================\n",
      " flatten_2 (Flatten)         (None, 784)               0         \n",
      "                                                                 \n",
      " dense_3 (Dense)             (None, 100)               78500     \n",
      "                                                                 \n",
      " dense_4 (Dense)             (None, 10)                1010      \n",
      "                                                                 \n",
      "=================================================================\n",
      "Total params: 79,510\n",
      "Trainable params: 79,510\n",
      "Non-trainable params: 0\n",
      "_________________________________________________________________\n"
     ]
    }
   ],
   "source": [
    "model.summary()"
   ]
  },
  {
   "cell_type": "code",
   "execution_count": 22,
   "id": "47d9fd2b",
   "metadata": {},
   "outputs": [],
   "source": [
    "from sklearn.model_selection import train_test_split\n",
    "\n",
    "(train_input, train_target), (test_input, test_target) = keras.datasets.fashion_mnist.load_data()\n",
    "\n",
    "train_scaled = train_input / 255.0\n",
    "\n",
    "train_scaled, val_scaled, train_target, val_target = train_test_split(train_scaled, train_target, test_size=0.2, random_state=42)"
   ]
  },
  {
   "cell_type": "code",
   "execution_count": 23,
   "id": "337d3aff",
   "metadata": {},
   "outputs": [
    {
     "name": "stdout",
     "output_type": "stream",
     "text": [
      "Epoch 1/50\n",
      "1500/1500 [==============================] - 6s 3ms/step - loss: 0.7949 - accuracy: 0.7436\n",
      "Epoch 2/50\n",
      "1500/1500 [==============================] - 16s 11ms/step - loss: 0.5395 - accuracy: 0.8166\n",
      "Epoch 3/50\n",
      "1500/1500 [==============================] - 17s 12ms/step - loss: 0.4869 - accuracy: 0.8328\n",
      "Epoch 4/50\n",
      "1500/1500 [==============================] - 17s 11ms/step - loss: 0.4588 - accuracy: 0.8415\n",
      "Epoch 5/50\n",
      "1500/1500 [==============================] - 16s 11ms/step - loss: 0.4408 - accuracy: 0.8485\n",
      "Epoch 6/50\n",
      "1500/1500 [==============================] - 17s 12ms/step - loss: 0.4260 - accuracy: 0.8538\n",
      "Epoch 7/50\n",
      "1500/1500 [==============================] - 12s 8ms/step - loss: 0.4136 - accuracy: 0.8570\n",
      "Epoch 8/50\n",
      "1500/1500 [==============================] - 6s 4ms/step - loss: 0.4034 - accuracy: 0.8602\n",
      "Epoch 9/50\n",
      "1500/1500 [==============================] - 6s 4ms/step - loss: 0.3948 - accuracy: 0.8634\n",
      "Epoch 10/50\n",
      "1500/1500 [==============================] - 6s 4ms/step - loss: 0.3874 - accuracy: 0.8659\n",
      "Epoch 11/50\n",
      "1500/1500 [==============================] - 6s 4ms/step - loss: 0.3803 - accuracy: 0.8685\n",
      "Epoch 12/50\n",
      "1500/1500 [==============================] - 7s 5ms/step - loss: 0.3735 - accuracy: 0.8705\n",
      "Epoch 13/50\n",
      "1500/1500 [==============================] - 17s 11ms/step - loss: 0.3675 - accuracy: 0.8717\n",
      "Epoch 14/50\n",
      "1500/1500 [==============================] - 14s 10ms/step - loss: 0.3619 - accuracy: 0.8740\n",
      "Epoch 15/50\n",
      "1500/1500 [==============================] - 15s 10ms/step - loss: 0.3568 - accuracy: 0.8768\n",
      "Epoch 16/50\n",
      "1500/1500 [==============================] - 16s 11ms/step - loss: 0.3512 - accuracy: 0.8780\n",
      "Epoch 17/50\n",
      "1500/1500 [==============================] - 17s 11ms/step - loss: 0.3471 - accuracy: 0.8785\n",
      "Epoch 18/50\n",
      "1500/1500 [==============================] - 15s 10ms/step - loss: 0.3419 - accuracy: 0.8811\n",
      "Epoch 19/50\n",
      "1500/1500 [==============================] - 16s 11ms/step - loss: 0.3371 - accuracy: 0.8823\n",
      "Epoch 20/50\n",
      "1500/1500 [==============================] - 14s 10ms/step - loss: 0.3337 - accuracy: 0.8833\n",
      "Epoch 21/50\n",
      "1500/1500 [==============================] - 10s 6ms/step - loss: 0.3299 - accuracy: 0.8839\n",
      "Epoch 22/50\n",
      "1500/1500 [==============================] - 6s 4ms/step - loss: 0.3250 - accuracy: 0.8860\n",
      "Epoch 23/50\n",
      "1500/1500 [==============================] - 7s 5ms/step - loss: 0.3221 - accuracy: 0.8864\n",
      "Epoch 24/50\n",
      "1500/1500 [==============================] - 6s 4ms/step - loss: 0.3181 - accuracy: 0.8884\n",
      "Epoch 25/50\n",
      "1500/1500 [==============================] - 6s 4ms/step - loss: 0.3151 - accuracy: 0.8893\n",
      "Epoch 26/50\n",
      "1500/1500 [==============================] - 6s 4ms/step - loss: 0.3123 - accuracy: 0.8905\n",
      "Epoch 27/50\n",
      "1500/1500 [==============================] - 6s 4ms/step - loss: 0.3090 - accuracy: 0.8909\n",
      "Epoch 28/50\n",
      "1500/1500 [==============================] - 6s 4ms/step - loss: 0.3059 - accuracy: 0.8929\n",
      "Epoch 29/50\n",
      "1500/1500 [==============================] - 6s 4ms/step - loss: 0.3028 - accuracy: 0.8926\n",
      "Epoch 30/50\n",
      "1500/1500 [==============================] - 6s 4ms/step - loss: 0.2998 - accuracy: 0.8942\n",
      "Epoch 31/50\n",
      "1500/1500 [==============================] - 6s 4ms/step - loss: 0.2973 - accuracy: 0.8946\n",
      "Epoch 32/50\n",
      "1500/1500 [==============================] - 6s 4ms/step - loss: 0.2938 - accuracy: 0.8965\n",
      "Epoch 33/50\n",
      "1500/1500 [==============================] - 6s 4ms/step - loss: 0.2912 - accuracy: 0.8975\n",
      "Epoch 34/50\n",
      "1500/1500 [==============================] - 6s 4ms/step - loss: 0.2890 - accuracy: 0.8988\n",
      "Epoch 35/50\n",
      "1500/1500 [==============================] - 6s 4ms/step - loss: 0.2872 - accuracy: 0.8977\n",
      "Epoch 36/50\n",
      "1500/1500 [==============================] - 7s 5ms/step - loss: 0.2843 - accuracy: 0.8989\n",
      "Epoch 37/50\n",
      "1500/1500 [==============================] - 10s 6ms/step - loss: 0.2814 - accuracy: 0.9011\n",
      "Epoch 38/50\n",
      "1500/1500 [==============================] - 15s 10ms/step - loss: 0.2793 - accuracy: 0.9018\n",
      "Epoch 39/50\n",
      "1500/1500 [==============================] - 18s 12ms/step - loss: 0.2771 - accuracy: 0.9020\n",
      "Epoch 40/50\n",
      "1500/1500 [==============================] - 17s 11ms/step - loss: 0.2744 - accuracy: 0.9029\n",
      "Epoch 41/50\n",
      "1500/1500 [==============================] - 18s 12ms/step - loss: 0.2730 - accuracy: 0.9032\n",
      "Epoch 42/50\n",
      "1500/1500 [==============================] - 10s 6ms/step - loss: 0.2707 - accuracy: 0.9050\n",
      "Epoch 43/50\n",
      "1500/1500 [==============================] - 6s 4ms/step - loss: 0.2678 - accuracy: 0.9051\n",
      "Epoch 44/50\n",
      "1500/1500 [==============================] - 6s 4ms/step - loss: 0.2666 - accuracy: 0.9059\n",
      "Epoch 45/50\n",
      "1500/1500 [==============================] - 6s 4ms/step - loss: 0.2639 - accuracy: 0.9064\n",
      "Epoch 46/50\n",
      "1500/1500 [==============================] - 7s 5ms/step - loss: 0.2616 - accuracy: 0.9083\n",
      "Epoch 47/50\n",
      "1500/1500 [==============================] - 17s 12ms/step - loss: 0.2599 - accuracy: 0.9076\n",
      "Epoch 48/50\n",
      "1500/1500 [==============================] - 13s 9ms/step - loss: 0.2583 - accuracy: 0.9091\n",
      "Epoch 49/50\n",
      "1500/1500 [==============================] - 16s 11ms/step - loss: 0.2556 - accuracy: 0.9104\n",
      "Epoch 50/50\n",
      "1500/1500 [==============================] - 16s 11ms/step - loss: 0.2546 - accuracy: 0.9101\n"
     ]
    },
    {
     "data": {
      "text/plain": [
       "<keras.callbacks.History at 0x1c237f29448>"
      ]
     },
     "execution_count": 23,
     "metadata": {},
     "output_type": "execute_result"
    }
   ],
   "source": [
    "model.compile(loss='sparse_categorical_crossentropy', optimizer='sgd', metrics='accuracy')\n",
    "model.fit(train_scaled, train_target, epochs =50)"
   ]
  },
  {
   "cell_type": "code",
   "execution_count": 24,
   "id": "9aa22e94",
   "metadata": {},
   "outputs": [
    {
     "name": "stdout",
     "output_type": "stream",
     "text": [
      "375/375 [==============================] - 2s 3ms/step - loss: 0.3294 - accuracy: 0.8807\n"
     ]
    },
    {
     "data": {
      "text/plain": [
       "[0.329375296831131, 0.8806666731834412]"
      ]
     },
     "execution_count": 24,
     "metadata": {},
     "output_type": "execute_result"
    }
   ],
   "source": [
    "model.evaluate(val_scaled, val_target)"
   ]
  },
  {
   "cell_type": "markdown",
   "id": "e975d8bc",
   "metadata": {},
   "source": [
    "## 옵티마이저"
   ]
  },
  {
   "cell_type": "code",
   "execution_count": null,
   "id": "7d908132",
   "metadata": {},
   "outputs": [],
   "source": [
    "model.compile(optimizer='sgd', loss='sparse_categorical_crossentropy', metrics='accuracy')"
   ]
  },
  {
   "cell_type": "code",
   "execution_count": null,
   "id": "169d53f0",
   "metadata": {},
   "outputs": [],
   "source": [
    "sgd = keras.optimizers.SGD(learning_rate=0.1)\n",
    "model.compile(optimizer='sgd', loss='sparse_categorical_crossentropy', metrics='accuracy')"
   ]
  },
  {
   "cell_type": "code",
   "execution_count": null,
   "id": "37a54854",
   "metadata": {},
   "outputs": [],
   "source": [
    "sgd = keras.optimizer.SGD(momentum=0.9)"
   ]
  },
  {
   "cell_type": "code",
   "execution_count": null,
   "id": "82dcb72c",
   "metadata": {},
   "outputs": [],
   "source": [
    "adagred = keras.optimizers.Adagrad()\n",
    "model.compile(optimizer=adagred, loss='sparse_categorical_crossentropy', metrics='accuracy')"
   ]
  },
  {
   "cell_type": "code",
   "execution_count": null,
   "id": "ab81a0eb",
   "metadata": {},
   "outputs": [],
   "source": [
    "rmsprop = keras.optimizers.RMSprop()\n",
    "model.compile(optimizer=rmsprop, loss='sparse_categorical_crossentropy', metrics='accuracy')"
   ]
  },
  {
   "cell_type": "code",
   "execution_count": 25,
   "id": "45e23314",
   "metadata": {},
   "outputs": [],
   "source": [
    "model = keras.Sequential()\n",
    "model.add(keras.layers.Flatten(input_shape=(28, 28)))\n",
    "model.add(keras.layers.Dense(units=100, activation='relu'))\n",
    "model.add(keras.layers.Dense(units=10, activation='softmax'))"
   ]
  },
  {
   "cell_type": "code",
   "execution_count": 26,
   "id": "737aec63",
   "metadata": {},
   "outputs": [
    {
     "name": "stdout",
     "output_type": "stream",
     "text": [
      "Epoch 1/50\n",
      "1500/1500 [==============================] - 5s 3ms/step - loss: 0.5312 - accuracy: 0.8151\n",
      "Epoch 2/50\n",
      "1500/1500 [==============================] - 4s 3ms/step - loss: 0.3969 - accuracy: 0.8579\n",
      "Epoch 3/50\n",
      "1500/1500 [==============================] - 4s 3ms/step - loss: 0.3530 - accuracy: 0.8716\n",
      "Epoch 4/50\n",
      "1500/1500 [==============================] - 4s 3ms/step - loss: 0.3263 - accuracy: 0.8820\n",
      "Epoch 5/50\n",
      "1500/1500 [==============================] - 4s 3ms/step - loss: 0.3111 - accuracy: 0.8850\n",
      "Epoch 6/50\n",
      "1500/1500 [==============================] - 4s 3ms/step - loss: 0.2911 - accuracy: 0.8932\n",
      "Epoch 7/50\n",
      "1500/1500 [==============================] - 4s 3ms/step - loss: 0.2790 - accuracy: 0.8984\n",
      "Epoch 8/50\n",
      "1500/1500 [==============================] - 4s 3ms/step - loss: 0.2688 - accuracy: 0.8996\n",
      "Epoch 9/50\n",
      "1500/1500 [==============================] - 4s 3ms/step - loss: 0.2573 - accuracy: 0.9052\n",
      "Epoch 10/50\n",
      "1500/1500 [==============================] - 4s 3ms/step - loss: 0.2473 - accuracy: 0.9078\n",
      "Epoch 11/50\n",
      "1500/1500 [==============================] - 4s 3ms/step - loss: 0.2406 - accuracy: 0.9101\n",
      "Epoch 12/50\n",
      "1500/1500 [==============================] - 4s 3ms/step - loss: 0.2319 - accuracy: 0.9133\n",
      "Epoch 13/50\n",
      "1500/1500 [==============================] - 4s 3ms/step - loss: 0.2257 - accuracy: 0.9158\n",
      "Epoch 14/50\n",
      "1500/1500 [==============================] - 4s 3ms/step - loss: 0.2191 - accuracy: 0.9183\n",
      "Epoch 15/50\n",
      "1500/1500 [==============================] - 4s 3ms/step - loss: 0.2117 - accuracy: 0.9203\n",
      "Epoch 16/50\n",
      "1500/1500 [==============================] - 4s 3ms/step - loss: 0.2054 - accuracy: 0.9233\n",
      "Epoch 17/50\n",
      "1500/1500 [==============================] - 4s 3ms/step - loss: 0.2017 - accuracy: 0.9244\n",
      "Epoch 18/50\n",
      "1500/1500 [==============================] - 4s 3ms/step - loss: 0.1973 - accuracy: 0.9253\n",
      "Epoch 19/50\n",
      "1500/1500 [==============================] - 4s 3ms/step - loss: 0.1921 - accuracy: 0.9280\n",
      "Epoch 20/50\n",
      "1500/1500 [==============================] - 4s 3ms/step - loss: 0.1886 - accuracy: 0.9296\n",
      "Epoch 21/50\n",
      "1500/1500 [==============================] - 4s 3ms/step - loss: 0.1821 - accuracy: 0.9335\n",
      "Epoch 22/50\n",
      "1500/1500 [==============================] - 4s 3ms/step - loss: 0.1796 - accuracy: 0.9336\n",
      "Epoch 23/50\n",
      "1500/1500 [==============================] - 4s 3ms/step - loss: 0.1730 - accuracy: 0.9350\n",
      "Epoch 24/50\n",
      "1500/1500 [==============================] - 4s 3ms/step - loss: 0.1708 - accuracy: 0.9362\n",
      "Epoch 25/50\n",
      "1500/1500 [==============================] - 4s 3ms/step - loss: 0.1671 - accuracy: 0.9388\n",
      "Epoch 26/50\n",
      "1500/1500 [==============================] - 4s 3ms/step - loss: 0.1631 - accuracy: 0.9385\n",
      "Epoch 27/50\n",
      "1500/1500 [==============================] - 4s 3ms/step - loss: 0.1584 - accuracy: 0.9413\n",
      "Epoch 28/50\n",
      "1500/1500 [==============================] - 4s 3ms/step - loss: 0.1570 - accuracy: 0.9414\n",
      "Epoch 29/50\n",
      "1500/1500 [==============================] - 4s 3ms/step - loss: 0.1542 - accuracy: 0.9427\n",
      "Epoch 30/50\n",
      "1500/1500 [==============================] - 4s 3ms/step - loss: 0.1489 - accuracy: 0.9443\n",
      "Epoch 31/50\n",
      "1500/1500 [==============================] - 4s 3ms/step - loss: 0.1480 - accuracy: 0.9454\n",
      "Epoch 32/50\n",
      "1500/1500 [==============================] - 4s 3ms/step - loss: 0.1439 - accuracy: 0.9467\n",
      "Epoch 33/50\n",
      "1500/1500 [==============================] - 4s 3ms/step - loss: 0.1417 - accuracy: 0.9474\n",
      "Epoch 34/50\n",
      "1500/1500 [==============================] - 4s 3ms/step - loss: 0.1407 - accuracy: 0.9467\n",
      "Epoch 35/50\n",
      "1500/1500 [==============================] - 4s 3ms/step - loss: 0.1350 - accuracy: 0.9497\n",
      "Epoch 36/50\n",
      "1500/1500 [==============================] - 4s 3ms/step - loss: 0.1319 - accuracy: 0.9502\n",
      "Epoch 37/50\n",
      "1500/1500 [==============================] - 4s 3ms/step - loss: 0.1313 - accuracy: 0.9502\n",
      "Epoch 38/50\n",
      "1500/1500 [==============================] - 4s 3ms/step - loss: 0.1274 - accuracy: 0.9523\n",
      "Epoch 39/50\n",
      "1500/1500 [==============================] - 4s 3ms/step - loss: 0.1243 - accuracy: 0.9536\n",
      "Epoch 40/50\n",
      "1500/1500 [==============================] - 4s 3ms/step - loss: 0.1252 - accuracy: 0.9536\n",
      "Epoch 41/50\n",
      "1500/1500 [==============================] - 4s 3ms/step - loss: 0.1220 - accuracy: 0.9549\n",
      "Epoch 42/50\n",
      "1500/1500 [==============================] - 5s 3ms/step - loss: 0.1216 - accuracy: 0.9546\n",
      "Epoch 43/50\n",
      "1500/1500 [==============================] - 4s 3ms/step - loss: 0.1179 - accuracy: 0.9556\n",
      "Epoch 44/50\n",
      "1500/1500 [==============================] - 4s 3ms/step - loss: 0.1151 - accuracy: 0.9578\n",
      "Epoch 45/50\n",
      "1500/1500 [==============================] - 5s 3ms/step - loss: 0.1118 - accuracy: 0.9588\n",
      "Epoch 46/50\n",
      "1500/1500 [==============================] - 4s 3ms/step - loss: 0.1099 - accuracy: 0.9587\n",
      "Epoch 47/50\n",
      "1500/1500 [==============================] - 4s 3ms/step - loss: 0.1090 - accuracy: 0.9603\n",
      "Epoch 48/50\n",
      "1500/1500 [==============================] - 4s 3ms/step - loss: 0.1068 - accuracy: 0.9598\n",
      "Epoch 49/50\n",
      "1500/1500 [==============================] - 5s 3ms/step - loss: 0.1058 - accuracy: 0.9610\n",
      "Epoch 50/50\n",
      "1500/1500 [==============================] - 4s 3ms/step - loss: 0.1009 - accuracy: 0.9623\n"
     ]
    },
    {
     "data": {
      "text/plain": [
       "<keras.callbacks.History at 0x1c23a5eda08>"
      ]
     },
     "execution_count": 26,
     "metadata": {},
     "output_type": "execute_result"
    }
   ],
   "source": [
    "# adam = keras.optimizers.Adam()\n",
    "model.compile(optimizer='adam', loss='sparse_categorical_crossentropy', metrics='accuracy')\n",
    "\n",
    "model.fit(train_scaled, train_target, epochs=50)"
   ]
  },
  {
   "cell_type": "code",
   "execution_count": 27,
   "id": "5988a0b6",
   "metadata": {},
   "outputs": [
    {
     "name": "stdout",
     "output_type": "stream",
     "text": [
      "375/375 [==============================] - 1s 2ms/step - loss: 0.4653 - accuracy: 0.8910\n"
     ]
    },
    {
     "data": {
      "text/plain": [
       "[0.4653448462486267, 0.890999972820282]"
      ]
     },
     "execution_count": 27,
     "metadata": {},
     "output_type": "execute_result"
    }
   ],
   "source": [
    "model.evaluate(val_scaled, val_target)"
   ]
  },
  {
   "cell_type": "code",
   "execution_count": null,
   "id": "d4fb4368",
   "metadata": {},
   "outputs": [],
   "source": []
  }
 ],
 "metadata": {
  "kernelspec": {
   "display_name": "Python [conda env:tf_cpu] *",
   "language": "python",
   "name": "conda-env-tf_cpu-py"
  },
  "language_info": {
   "codemirror_mode": {
    "name": "ipython",
    "version": 3
   },
   "file_extension": ".py",
   "mimetype": "text/x-python",
   "name": "python",
   "nbconvert_exporter": "python",
   "pygments_lexer": "ipython3",
   "version": "3.7.13"
  }
 },
 "nbformat": 4,
 "nbformat_minor": 5
}

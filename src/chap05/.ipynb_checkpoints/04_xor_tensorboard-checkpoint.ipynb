{
 "cells": [
  {
   "cell_type": "code",
   "execution_count": null,
   "id": "28fbb889",
   "metadata": {},
   "outputs": [],
   "source": [
    "import datetime\n",
    "import numpy as np\n",
    "import os\n",
    "import tensorflow as tf\n",
    "\n",
    "x_data = np.array([[0,0], [0,1], [1,0], [1,1]], dtype=np.float32)\n",
    "y_data = np.array([[0], [1], [1], [0]], dtype=np.float32)\n",
    "\n",
    "neuron_1 = 10;\n",
    "neuron_2 = 1;\n",
    "\n",
    "tf.model = tf.keras.Sequential()\n",
    "tf.model.add(tf.keras.layers.Dense(units = neuron_1, input_dim = x_data.shape[1], activation='sigmoid'))\n",
    "tf.model.add(tf.keras.layers.Dense(units = neuron_1, activation='sigmoid'))\n",
    "tf.model.add(tf.keras.layers.Dense(units = neuron_2, activation='sigmoid'))"
   ]
  },
  {
   "cell_type": "code",
   "execution_count": null,
   "id": "61dddbdd",
   "metadata": {},
   "outputs": [],
   "source": [
    "tf.model.compile(loss='binary_crossentropy', optimizer=tf.optimizers.SGD(learning_rate=0.1), metrics=['accuracy'])\n",
    "tf.model.summary()"
   ]
  },
  {
   "cell_type": "code",
   "execution_count": null,
   "id": "b32ab2b3",
   "metadata": {},
   "outputs": [],
   "source": [
    "log_dir = os.path.join(\",\", \"logs\", \"fit\", datetime.datetime.now().strftime(\"%Y%m%d-%H%M%S\"))\n",
    "tensorboard_callback = tf.keras.callbacks.TensorBoard(log_dir=log_dir, histogram_freq=1)"
   ]
  },
  {
   "cell_type": "code",
   "execution_count": null,
   "id": "7b8e8604",
   "metadata": {},
   "outputs": [],
   "source": [
    "loss = tf.model.fit(x_data, y_data, epochs=10000, )"
   ]
  }
 ],
 "metadata": {
  "kernelspec": {
   "display_name": "Python [conda env:tf_cpu] *",
   "language": "python",
   "name": "conda-env-tf_cpu-py"
  },
  "language_info": {
   "codemirror_mode": {
    "name": "ipython",
    "version": 3
   },
   "file_extension": ".py",
   "mimetype": "text/x-python",
   "name": "python",
   "nbconvert_exporter": "python",
   "pygments_lexer": "ipython3",
   "version": "3.7.13"
  }
 },
 "nbformat": 4,
 "nbformat_minor": 5
}

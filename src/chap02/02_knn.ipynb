{
 "cells": [
  {
   "cell_type": "markdown",
   "id": "7df65cfb",
   "metadata": {},
   "source": [
    "## 라이브러리 임포트\n",
    "-  실습에 필요한 라이브러리를 임포트한다.\n"
   ]
  },
  {
   "cell_type": "code",
   "execution_count": 1,
   "id": "b4e501ab",
   "metadata": {},
   "outputs": [],
   "source": [
    "import numpy as np\n",
    "import pandas as pd\n",
    "import matplotlib.pyplot as plt\n",
    "import seaborn as sns\n",
    "from sklearn.metrics import accuracy_score"
   ]
  },
  {
   "cell_type": "markdown",
   "id": "954a98e7",
   "metadata": {},
   "source": [
    "## 데이터 불러오기(학습 데이터, 테스트 데이터)\n",
    "- 데이터 분석 단계에서 생성한 농구 포지션 예측하기의 학습 데이터 및 테스트 데이터를 로드합니다."
   ]
  },
  {
   "cell_type": "code",
   "execution_count": 2,
   "id": "b9d5e1ab",
   "metadata": {},
   "outputs": [],
   "source": [
    "train = pd.read_csv(\"data/csv/basketball_train.csv\")\n",
    "test = pd.read_csv(\"data/csv/basketball_test.csv\")"
   ]
  },
  {
   "cell_type": "code",
   "execution_count": 7,
   "id": "14362922",
   "metadata": {},
   "outputs": [
    {
     "name": "stdout",
     "output_type": "stream",
     "text": [
      "80\n",
      "5\n",
      "20\n",
      "5\n"
     ]
    }
   ],
   "source": [
    "print(train.shape[0]) # 훈련용 데이터 셋 갯수. 행\n",
    "print(train.shape[1]) # 훈련용 feature 의 갯수. 열\n",
    "\n",
    "print(test.shape[0]) # 테스트용 데이터 셋 갯수. 행\n",
    "print(test.shape[1]) # 테스트용 feature 의 갯수. 열"
   ]
  },
  {
   "cell_type": "markdown",
   "id": "89e5c551",
   "metadata": {},
   "source": [
    "## 최적의 k 찾기"
   ]
  },
  {
   "cell_type": "code",
   "execution_count": 34,
   "id": "925fc644",
   "metadata": {},
   "outputs": [],
   "source": [
    "# import kNN library\n",
    "\n",
    "from sklearn.neighbors import KNeighborsClassifier\n",
    "from sklearn.model_selection import cross_val_score\n",
    "\n",
    "# 최적의 k 찾기. 3부터 시작해서 max_k_range/2 까지의 범위.\n",
    "max_k_range = train.shape[0] // 2\n",
    "k_list = []\n",
    "\n",
    "for i in range(3, max_k_range, 2): # 3, 5, 7, ... 39\n",
    "    k_list.append(i)\n",
    "    \n",
    "cross_validation_scores = []\n",
    "x_train = train[['3P','TRB','BLK']]\n",
    "y_train = train[['Pos']]"
   ]
  },
  {
   "cell_type": "code",
   "execution_count": 36,
   "id": "4e510bc0",
   "metadata": {},
   "outputs": [
    {
     "name": "stdout",
     "output_type": "stream",
     "text": [
      "[0.9, 0.8875, 0.8875, 0.9125, 0.925, 0.925, 0.9375, 0.925, 0.925, 0.925, 0.9125, 0.925, 0.925, 0.9125, 0.8875, 0.875, 0.875, 0.85, 0.85]\n"
     ]
    }
   ],
   "source": [
    "# 10-fold cross validation\n",
    "\n",
    "for k in k_list:\n",
    "    knn = KNeighborsClassifier(n_neighbors=k)\n",
    "    scores = cross_val_score(knn, x_train, y_train.values.ravel(), cv=10, scoring = 'accuracy') # 데이터, 입력값, 결과값(2차원 배열을 1차원 배열로 풀어줌), 폴드값, 정확도\n",
    "    cross_validation_scores.append(scores.mean())\n",
    "    \n",
    "print(cross_validation_scores)"
   ]
  },
  {
   "cell_type": "code",
   "execution_count": 41,
   "id": "be181b67",
   "metadata": {},
   "outputs": [
    {
     "data": {
      "image/png": "[encoded data removed]",
      "text/plain": [
       "<Figure size 640x480 with 1 Axes>"
      ]
     },
     "metadata": {},
     "output_type": "display_data"
    }
   ],
   "source": [
    "# 시각화\n",
    "\n",
    "plt.plot(k_list,cross_validation_scores)\n",
    "plt.xlabel('the number of k')\n",
    "plt.ylabel('Accuracy')\n",
    "plt.show()"
   ]
  },
  {
   "cell_type": "code",
   "execution_count": 40,
   "id": "9efc3b43",
   "metadata": {},
   "outputs": [
    {
     "name": "stdout",
     "output_type": "stream",
     "text": [
      "최적의 k 값 : 15\n"
     ]
    }
   ],
   "source": [
    "# 최적의 k 값\n",
    "cvs = cross_validation_scores\n",
    "k = k_list[cvs.index(max(cross_validation_scores))]\n",
    "print(\"최적의 k 값 : \" + str(k))"
   ]
  },
  {
   "cell_type": "markdown",
   "id": "c2c58de2",
   "metadata": {},
   "source": [
    "## 2개의 특징으로 예측하기( '3P','BLK')"
   ]
  },
  {
   "cell_type": "code",
   "execution_count": 42,
   "id": "ff803e30",
   "metadata": {},
   "outputs": [],
   "source": [
    "knn = KNeighborsClassifier(n_neighbors=k)\n",
    "\n",
    "x_train = train[['3P','BLK']]\n",
    "y_train = train[['Pos']]\n",
    "\n",
    "knn.fit(x_train, y_train.values.ravel())\n",
    "\n",
    "x_test = test[['3P','BLK']]\n",
    "y_test = test[['Pos']]\n",
    "\n",
    "pred = knn.predict(x_test)"
   ]
  },
  {
   "cell_type": "code",
   "execution_count": 44,
   "id": "66661bcb",
   "metadata": {},
   "outputs": [
    {
     "name": "stdout",
     "output_type": "stream",
     "text": [
      "   prediction tarket\n",
      "0          SG     SG\n",
      "1          SG     SG\n",
      "2          SG     SG\n",
      "3           C      C\n",
      "4          SG     SG\n",
      "5          SG     SG\n",
      "6          SG     SG\n",
      "7           C      C\n",
      "8          SG     SG\n",
      "9           C      C\n",
      "10         SG     SG\n",
      "11         SG     SG\n",
      "12         SG     SG\n",
      "13         SG     SG\n",
      "14          C      C\n",
      "15         SG     SG\n",
      "16         SG     SG\n",
      "17         SG     SG\n",
      "18         SG     SG\n",
      "19          C      C\n"
     ]
    }
   ],
   "source": [
    "comparision = pd.DataFrame({'prediction':pred, 'tarket':y_test.values.ravel()})\n",
    "print(comparision)"
   ]
  },
  {
   "cell_type": "code",
   "execution_count": 45,
   "id": "1e95cceb",
   "metadata": {},
   "outputs": [
    {
     "name": "stdout",
     "output_type": "stream",
     "text": [
      "accuracy : 1.0\n"
     ]
    }
   ],
   "source": [
    "from sklearn.metrics import accuracy_score\n",
    "print(\"accuracy : \" + str(accuracy_score(y_test.values.ravel(), pred)))"
   ]
  },
  {
   "cell_type": "markdown",
   "id": "d86f8d0b",
   "metadata": {},
   "source": [
    "## 3개의 특징으로 예측하기(3P, TRB, BLK)"
   ]
  },
  {
   "cell_type": "code",
   "execution_count": 46,
   "id": "b8696db2",
   "metadata": {},
   "outputs": [],
   "source": [
    "knn = KNeighborsClassifier(n_neighbors=k)\n",
    "\n",
    "x_train = train[['3P','BLK','TRB']]\n",
    "y_train = train[['Pos']]\n",
    "\n",
    "knn.fit(x_train, y_train.values.ravel())\n",
    "\n",
    "x_test = test[['3P','BLK','TRB']]\n",
    "y_test = test[['Pos']]\n",
    "\n",
    "pred = knn.predict(x_test)"
   ]
  },
  {
   "cell_type": "code",
   "execution_count": 47,
   "id": "8737da85",
   "metadata": {},
   "outputs": [
    {
     "name": "stdout",
     "output_type": "stream",
     "text": [
      "   prediction tarket\n",
      "0          SG     SG\n",
      "1          SG     SG\n",
      "2          SG     SG\n",
      "3           C      C\n",
      "4          SG     SG\n",
      "5          SG     SG\n",
      "6          SG     SG\n",
      "7           C      C\n",
      "8           C     SG\n",
      "9           C      C\n",
      "10          C     SG\n",
      "11         SG     SG\n",
      "12         SG     SG\n",
      "13         SG     SG\n",
      "14         SG      C\n",
      "15         SG     SG\n",
      "16         SG     SG\n",
      "17         SG     SG\n",
      "18         SG     SG\n",
      "19          C      C\n"
     ]
    }
   ],
   "source": [
    "comparision = pd.DataFrame({'prediction':pred, 'tarket':y_test.values.ravel()})\n",
    "print(comparision)"
   ]
  },
  {
   "cell_type": "code",
   "execution_count": 48,
   "id": "471b087a",
   "metadata": {},
   "outputs": [
    {
     "name": "stdout",
     "output_type": "stream",
     "text": [
      "accuracy : 0.85\n"
     ]
    }
   ],
   "source": [
    "print(\"accuracy : \" + str(accuracy_score(y_test.values.ravel(), pred)))"
   ]
  },
  {
   "cell_type": "code",
   "execution_count": null,
   "id": "146b55c8",
   "metadata": {},
   "outputs": [],
   "source": []
  }
 ],
 "metadata": {
  "kernelspec": {
   "display_name": "Python [conda env:tf_cpu] *",
   "language": "python",
   "name": "conda-env-tf_cpu-py"
  },
  "language_info": {
   "codemirror_mode": {
    "name": "ipython",
    "version": 3
   },
   "file_extension": ".py",
   "mimetype": "text/x-python",
   "name": "python",
   "nbconvert_exporter": "python",
   "pygments_lexer": "ipython3",
   "version": "3.7.13"
  }
 },
 "nbformat": 4,
 "nbformat_minor": 5
}

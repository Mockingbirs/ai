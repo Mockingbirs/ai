{
 "cells": [
  {
   "cell_type": "markdown",
   "id": "Hx9YCWVHwzdM",
   "metadata": {
    "id": "Hx9YCWVHwzdM"
   },
   "source": [
    "## 분석하면서 생각한 핵심포인트\n",
    "  - train[family_size] > 7 인 이상치 제거\n",
    "  - 중복 데이터 처리를 위해 개인정보를 모두 합쳐 ID 변수 생성\n",
    "  (단, 같은 사용자가 여러번 카드를 발급할 수 있다는 가정 하에 begin_month는 개인정보에서 제외함)\n",
    "  - 개인의 특성이 될 만한 파생변수 추가 \n",
    "  - Catboost 모델 사용"
   ]
  },
  {
   "cell_type": "markdown",
   "id": "9VS7Pworn0al",
   "metadata": {
    "id": "9VS7Pworn0al"
   },
   "source": [
    "### Google Colab mount"
   ]
  },
  {
   "cell_type": "code",
   "execution_count": null,
   "id": "yGTLj8birupV",
   "metadata": {
    "colab": {
     "base_uri": "https://localhost:8080/"
    },
    "id": "yGTLj8birupV",
    "outputId": "71be4270-9029-485c-92e7-ac947f3dd629"
   },
   "outputs": [
    {
     "name": "stdout",
     "output_type": "stream",
     "text": [
      "Mounted at /content/drive\n"
     ]
    }
   ],
   "source": [
    "#from google.colab import drive\n",
    "#drive.mount('/content/drive')"
   ]
  },
  {
   "cell_type": "markdown",
   "id": "-4XEewzgn-ss",
   "metadata": {
    "id": "-4XEewzgn-ss"
   },
   "source": [
    "### 패키지 설치"
   ]
  },
  {
   "cell_type": "code",
   "execution_count": 1,
   "id": "U68I7zTXw_3b",
   "metadata": {
    "colab": {
     "base_uri": "https://localhost:8080/"
    },
    "id": "U68I7zTXw_3b",
    "outputId": "d63cd622-b830-48ac-a634-9bcf99b7bbac"
   },
   "outputs": [
    {
     "name": "stdout",
     "output_type": "stream",
     "text": [
      "Requirement already satisfied: catboost in c:\\programdata\\anaconda3\\envs\\tf_cpu\\lib\\site-packages (1.1.1)\n",
      "Requirement already satisfied: graphviz in c:\\programdata\\anaconda3\\envs\\tf_cpu\\lib\\site-packages (from catboost) (0.20.1)\n",
      "Requirement already satisfied: plotly in c:\\programdata\\anaconda3\\envs\\tf_cpu\\lib\\site-packages (from catboost) (5.11.0)\n",
      "Requirement already satisfied: scipy in c:\\programdata\\anaconda3\\envs\\tf_cpu\\lib\\site-packages (from catboost) (1.7.3)\n",
      "Requirement already satisfied: six in c:\\programdata\\anaconda3\\envs\\tf_cpu\\lib\\site-packages (from catboost) (1.16.0)\n",
      "Requirement already satisfied: numpy>=1.16.0 in c:\\programdata\\anaconda3\\envs\\tf_cpu\\lib\\site-packages (from catboost) (1.21.5)\n",
      "Requirement already satisfied: matplotlib in c:\\programdata\\anaconda3\\envs\\tf_cpu\\lib\\site-packages (from catboost) (3.5.3)\n",
      "Requirement already satisfied: pandas>=0.24.0 in c:\\programdata\\anaconda3\\envs\\tf_cpu\\lib\\site-packages (from catboost) (1.3.5)\n",
      "Requirement already satisfied: python-dateutil>=2.7.3 in c:\\programdata\\anaconda3\\envs\\tf_cpu\\lib\\site-packages (from pandas>=0.24.0->catboost) (2.8.2)\n",
      "Requirement already satisfied: pytz>=2017.3 in c:\\programdata\\anaconda3\\envs\\tf_cpu\\lib\\site-packages (from pandas>=0.24.0->catboost) (2022.1)\n",
      "Requirement already satisfied: kiwisolver>=1.0.1 in c:\\programdata\\anaconda3\\envs\\tf_cpu\\lib\\site-packages (from matplotlib->catboost) (1.4.2)\n",
      "Requirement already satisfied: fonttools>=4.22.0 in c:\\programdata\\anaconda3\\envs\\tf_cpu\\lib\\site-packages (from matplotlib->catboost) (4.25.0)\n",
      "Requirement already satisfied: pyparsing>=2.2.1 in c:\\programdata\\anaconda3\\envs\\tf_cpu\\lib\\site-packages (from matplotlib->catboost) (3.0.9)\n",
      "Requirement already satisfied: packaging>=20.0 in c:\\programdata\\anaconda3\\envs\\tf_cpu\\lib\\site-packages (from matplotlib->catboost) (21.3)\n",
      "Requirement already satisfied: pillow>=6.2.0 in c:\\programdata\\anaconda3\\envs\\tf_cpu\\lib\\site-packages (from matplotlib->catboost) (9.2.0)\n",
      "Requirement already satisfied: cycler>=0.10 in c:\\programdata\\anaconda3\\envs\\tf_cpu\\lib\\site-packages (from matplotlib->catboost) (0.11.0)\n",
      "Requirement already satisfied: tenacity>=6.2.0 in c:\\programdata\\anaconda3\\envs\\tf_cpu\\lib\\site-packages (from plotly->catboost) (8.1.0)\n",
      "Requirement already satisfied: typing-extensions in c:\\programdata\\anaconda3\\envs\\tf_cpu\\lib\\site-packages (from kiwisolver>=1.0.1->matplotlib->catboost) (4.3.0)\n",
      "Collecting category_encoders\n",
      "  Downloading category_encoders-2.5.1.post0-py2.py3-none-any.whl (72 kB)\n",
      "     ---------------------------------------- 72.4/72.4 kB 3.9 MB/s eta 0:00:00\n",
      "Collecting patsy>=0.5.1\n",
      "  Downloading patsy-0.5.3-py2.py3-none-any.whl (233 kB)\n",
      "     ------------------------------------- 233.8/233.8 kB 14.0 MB/s eta 0:00:00\n",
      "Collecting statsmodels>=0.9.0\n",
      "  Downloading statsmodels-0.13.5-cp37-cp37m-win_amd64.whl (9.1 MB)\n",
      "     ---------------------------------------- 9.1/9.1 MB 29.1 MB/s eta 0:00:00\n",
      "Requirement already satisfied: pandas>=1.0.5 in c:\\programdata\\anaconda3\\envs\\tf_cpu\\lib\\site-packages (from category_encoders) (1.3.5)\n",
      "Requirement already satisfied: scikit-learn>=0.20.0 in c:\\programdata\\anaconda3\\envs\\tf_cpu\\lib\\site-packages (from category_encoders) (1.0.2)\n",
      "Requirement already satisfied: numpy>=1.14.0 in c:\\programdata\\anaconda3\\envs\\tf_cpu\\lib\\site-packages (from category_encoders) (1.21.5)\n",
      "Requirement already satisfied: scipy>=1.0.0 in c:\\programdata\\anaconda3\\envs\\tf_cpu\\lib\\site-packages (from category_encoders) (1.7.3)\n",
      "Requirement already satisfied: python-dateutil>=2.7.3 in c:\\programdata\\anaconda3\\envs\\tf_cpu\\lib\\site-packages (from pandas>=1.0.5->category_encoders) (2.8.2)\n",
      "Requirement already satisfied: pytz>=2017.3 in c:\\programdata\\anaconda3\\envs\\tf_cpu\\lib\\site-packages (from pandas>=1.0.5->category_encoders) (2022.1)\n",
      "Requirement already satisfied: six in c:\\programdata\\anaconda3\\envs\\tf_cpu\\lib\\site-packages (from patsy>=0.5.1->category_encoders) (1.16.0)\n",
      "Requirement already satisfied: joblib>=0.11 in c:\\programdata\\anaconda3\\envs\\tf_cpu\\lib\\site-packages (from scikit-learn>=0.20.0->category_encoders) (1.1.1)\n",
      "Requirement already satisfied: threadpoolctl>=2.0.0 in c:\\programdata\\anaconda3\\envs\\tf_cpu\\lib\\site-packages (from scikit-learn>=0.20.0->category_encoders) (2.2.0)\n",
      "Requirement already satisfied: packaging>=21.3 in c:\\programdata\\anaconda3\\envs\\tf_cpu\\lib\\site-packages (from statsmodels>=0.9.0->category_encoders) (21.3)\n",
      "Requirement already satisfied: pyparsing!=3.0.5,>=2.0.2 in c:\\programdata\\anaconda3\\envs\\tf_cpu\\lib\\site-packages (from packaging>=21.3->statsmodels>=0.9.0->category_encoders) (3.0.9)\n",
      "Installing collected packages: patsy, statsmodels, category_encoders\n",
      "Successfully installed category_encoders-2.5.1.post0 patsy-0.5.3 statsmodels-0.13.5\n"
     ]
    }
   ],
   "source": [
    "!pip install catboost\n",
    "!pip install category_encoders"
   ]
  },
  {
   "cell_type": "markdown",
   "id": "8LJCvRl7oBio",
   "metadata": {
    "id": "8LJCvRl7oBio"
   },
   "source": [
    "## 라이브러리 구성"
   ]
  },
  {
   "cell_type": "code",
   "execution_count": 1,
   "id": "present-damage",
   "metadata": {
    "id": "present-damage"
   },
   "outputs": [],
   "source": [
    "import numpy as np\n",
    "import pandas as pd\n",
    "import seaborn as sns\n",
    "import matplotlib.pyplot as plt\n",
    "import warnings, random\n",
    "warnings.filterwarnings(action='ignore')\n",
    "\n",
    "from sklearn.metrics import log_loss\n",
    "from sklearn.preprocessing import StandardScaler\n",
    "from category_encoders.ordinal import OrdinalEncoder\n",
    "from sklearn.model_selection import StratifiedKFold\n",
    "\n",
    "from sklearn.cluster import KMeans\n",
    "from catboost import CatBoostClassifier, Pool\n"
   ]
  },
  {
   "cell_type": "markdown",
   "id": "aqMDcWHPoFqk",
   "metadata": {
    "id": "aqMDcWHPoFqk"
   },
   "source": [
    "## 데이터 불러오기"
   ]
  },
  {
   "cell_type": "code",
   "execution_count": 149,
   "id": "MjdahwTmB8h7",
   "metadata": {
    "id": "MjdahwTmB8h7"
   },
   "outputs": [
    {
     "data": {
      "text/html": [
       "<div>\n",
       "<style scoped>\n",
       "    .dataframe tbody tr th:only-of-type {\n",
       "        vertical-align: middle;\n",
       "    }\n",
       "\n",
       "    .dataframe tbody tr th {\n",
       "        vertical-align: top;\n",
       "    }\n",
       "\n",
       "    .dataframe thead th {\n",
       "        text-align: right;\n",
       "    }\n",
       "</style>\n",
       "<table border=\"1\" class=\"dataframe\">\n",
       "  <thead>\n",
       "    <tr style=\"text-align: right;\">\n",
       "      <th></th>\n",
       "      <th>index</th>\n",
       "      <th>gender</th>\n",
       "      <th>car</th>\n",
       "      <th>reality</th>\n",
       "      <th>child_num</th>\n",
       "      <th>income_total</th>\n",
       "      <th>income_type</th>\n",
       "      <th>edu_type</th>\n",
       "      <th>family_type</th>\n",
       "      <th>house_type</th>\n",
       "      <th>DAYS_BIRTH</th>\n",
       "      <th>DAYS_EMPLOYED</th>\n",
       "      <th>FLAG_MOBIL</th>\n",
       "      <th>work_phone</th>\n",
       "      <th>phone</th>\n",
       "      <th>email</th>\n",
       "      <th>occyp_type</th>\n",
       "      <th>family_size</th>\n",
       "      <th>begin_month</th>\n",
       "    </tr>\n",
       "  </thead>\n",
       "  <tbody>\n",
       "    <tr>\n",
       "      <th>0</th>\n",
       "      <td>26457</td>\n",
       "      <td>M</td>\n",
       "      <td>Y</td>\n",
       "      <td>N</td>\n",
       "      <td>0</td>\n",
       "      <td>112500.0</td>\n",
       "      <td>Pensioner</td>\n",
       "      <td>Secondary / secondary special</td>\n",
       "      <td>Civil marriage</td>\n",
       "      <td>House / apartment</td>\n",
       "      <td>-21990</td>\n",
       "      <td>365243</td>\n",
       "      <td>1</td>\n",
       "      <td>0</td>\n",
       "      <td>1</td>\n",
       "      <td>0</td>\n",
       "      <td>NaN</td>\n",
       "      <td>2.0</td>\n",
       "      <td>-60.0</td>\n",
       "    </tr>\n",
       "    <tr>\n",
       "      <th>1</th>\n",
       "      <td>26458</td>\n",
       "      <td>F</td>\n",
       "      <td>N</td>\n",
       "      <td>Y</td>\n",
       "      <td>0</td>\n",
       "      <td>135000.0</td>\n",
       "      <td>State servant</td>\n",
       "      <td>Higher education</td>\n",
       "      <td>Married</td>\n",
       "      <td>House / apartment</td>\n",
       "      <td>-18964</td>\n",
       "      <td>-8671</td>\n",
       "      <td>1</td>\n",
       "      <td>0</td>\n",
       "      <td>1</td>\n",
       "      <td>0</td>\n",
       "      <td>Core staff</td>\n",
       "      <td>2.0</td>\n",
       "      <td>-36.0</td>\n",
       "    </tr>\n",
       "    <tr>\n",
       "      <th>2</th>\n",
       "      <td>26459</td>\n",
       "      <td>F</td>\n",
       "      <td>N</td>\n",
       "      <td>Y</td>\n",
       "      <td>0</td>\n",
       "      <td>69372.0</td>\n",
       "      <td>Working</td>\n",
       "      <td>Secondary / secondary special</td>\n",
       "      <td>Married</td>\n",
       "      <td>House / apartment</td>\n",
       "      <td>-15887</td>\n",
       "      <td>-217</td>\n",
       "      <td>1</td>\n",
       "      <td>1</td>\n",
       "      <td>1</td>\n",
       "      <td>0</td>\n",
       "      <td>Laborers</td>\n",
       "      <td>2.0</td>\n",
       "      <td>-40.0</td>\n",
       "    </tr>\n",
       "    <tr>\n",
       "      <th>3</th>\n",
       "      <td>26460</td>\n",
       "      <td>M</td>\n",
       "      <td>Y</td>\n",
       "      <td>N</td>\n",
       "      <td>0</td>\n",
       "      <td>112500.0</td>\n",
       "      <td>Commercial associate</td>\n",
       "      <td>Secondary / secondary special</td>\n",
       "      <td>Married</td>\n",
       "      <td>House / apartment</td>\n",
       "      <td>-19270</td>\n",
       "      <td>-2531</td>\n",
       "      <td>1</td>\n",
       "      <td>1</td>\n",
       "      <td>0</td>\n",
       "      <td>0</td>\n",
       "      <td>Drivers</td>\n",
       "      <td>2.0</td>\n",
       "      <td>-41.0</td>\n",
       "    </tr>\n",
       "    <tr>\n",
       "      <th>4</th>\n",
       "      <td>26461</td>\n",
       "      <td>F</td>\n",
       "      <td>Y</td>\n",
       "      <td>Y</td>\n",
       "      <td>0</td>\n",
       "      <td>225000.0</td>\n",
       "      <td>State servant</td>\n",
       "      <td>Higher education</td>\n",
       "      <td>Married</td>\n",
       "      <td>House / apartment</td>\n",
       "      <td>-17822</td>\n",
       "      <td>-9385</td>\n",
       "      <td>1</td>\n",
       "      <td>1</td>\n",
       "      <td>0</td>\n",
       "      <td>0</td>\n",
       "      <td>Managers</td>\n",
       "      <td>2.0</td>\n",
       "      <td>-8.0</td>\n",
       "    </tr>\n",
       "  </tbody>\n",
       "</table>\n",
       "</div>"
      ],
      "text/plain": [
       "   index gender car reality  child_num  income_total           income_type  \\\n",
       "0  26457      M   Y       N          0      112500.0             Pensioner   \n",
       "1  26458      F   N       Y          0      135000.0         State servant   \n",
       "2  26459      F   N       Y          0       69372.0               Working   \n",
       "3  26460      M   Y       N          0      112500.0  Commercial associate   \n",
       "4  26461      F   Y       Y          0      225000.0         State servant   \n",
       "\n",
       "                        edu_type     family_type         house_type  \\\n",
       "0  Secondary / secondary special  Civil marriage  House / apartment   \n",
       "1               Higher education         Married  House / apartment   \n",
       "2  Secondary / secondary special         Married  House / apartment   \n",
       "3  Secondary / secondary special         Married  House / apartment   \n",
       "4               Higher education         Married  House / apartment   \n",
       "\n",
       "   DAYS_BIRTH  DAYS_EMPLOYED  FLAG_MOBIL  work_phone  phone  email  \\\n",
       "0      -21990         365243           1           0      1      0   \n",
       "1      -18964          -8671           1           0      1      0   \n",
       "2      -15887           -217           1           1      1      0   \n",
       "3      -19270          -2531           1           1      0      0   \n",
       "4      -17822          -9385           1           1      0      0   \n",
       "\n",
       "   occyp_type  family_size  begin_month  \n",
       "0         NaN          2.0        -60.0  \n",
       "1  Core staff          2.0        -36.0  \n",
       "2    Laborers          2.0        -40.0  \n",
       "3     Drivers          2.0        -41.0  \n",
       "4    Managers          2.0         -8.0  "
      ]
     },
     "execution_count": 149,
     "metadata": {},
     "output_type": "execute_result"
    }
   ],
   "source": [
    "train = pd.read_csv('train.csv')\n",
    "test = pd.read_csv('test.csv')\n",
    "test.head()"
   ]
  },
  {
   "cell_type": "markdown",
   "id": "hCyj-6SK7-y3",
   "metadata": {
    "id": "hCyj-6SK7-y3"
   },
   "source": [
    "## 데이터 전처리"
   ]
  },
  {
   "cell_type": "markdown",
   "id": "4nvO__s0me6V",
   "metadata": {
    "id": "4nvO__s0me6V"
   },
   "source": [
    "### 1. 결측치 처리"
   ]
  },
  {
   "cell_type": "code",
   "execution_count": 150,
   "id": "56fO9BUjmVwq",
   "metadata": {
    "id": "56fO9BUjmVwq"
   },
   "outputs": [],
   "source": [
    "train.fillna('NaN', inplace=True) \n",
    "test.fillna('NaN', inplace=True)"
   ]
  },
  {
   "cell_type": "markdown",
   "id": "XnkXCo6alnXj",
   "metadata": {
    "id": "XnkXCo6alnXj"
   },
   "source": [
    "### 2. 이상치 처리\n",
    "-  train['family_size'] > 7 인 데이터 제거"
   ]
  },
  {
   "cell_type": "code",
   "execution_count": 151,
   "id": "tropical-practice",
   "metadata": {
    "id": "tropical-practice"
   },
   "outputs": [],
   "source": [
    "train = train[(train['family_size'] <= 7)]\n",
    "train = train.reset_index(drop=True)"
   ]
  },
  {
   "cell_type": "markdown",
   "id": "PlfAHU7b8VRB",
   "metadata": {
    "id": "PlfAHU7b8VRB"
   },
   "source": [
    "## Feature Engineering"
   ]
  },
  {
   "cell_type": "markdown",
   "id": "G44GYE4emFYO",
   "metadata": {
    "id": "G44GYE4emFYO"
   },
   "source": [
    "### 1. 의미없는 변수 제거\n",
    "- index 제거\n",
    "- FLAG_MOBIL 삭제:모든 값이 1로 동일 "
   ]
  },
  {
   "cell_type": "code",
   "execution_count": 152,
   "id": "impaired-decrease",
   "metadata": {
    "id": "impaired-decrease"
   },
   "outputs": [],
   "source": [
    "train.drop(['index', 'FLAG_MOBIL'], axis=1, inplace=True)\n",
    "test.drop(['index', 'FLAG_MOBIL'], axis=1, inplace=True)"
   ]
  },
  {
   "cell_type": "markdown",
   "id": "HkVP2qfCl1Ah",
   "metadata": {
    "id": "HkVP2qfCl1Ah"
   },
   "source": [
    "### 2. DAYS_EMPLOYED \n",
    "- 양수인 데이터는 현재 무직자로 판단, 0 처리"
   ]
  },
  {
   "cell_type": "code",
   "execution_count": 153,
   "id": "wooden-authorization",
   "metadata": {
    "id": "wooden-authorization"
   },
   "outputs": [],
   "source": [
    "train['DAYS_EMPLOYED'] = train['DAYS_EMPLOYED'].map(lambda x: 0 if x > 0 else x)\n",
    "test['DAYS_EMPLOYED'] = test['DAYS_EMPLOYED'].map(lambda x: 0 if x > 0 else x)"
   ]
  },
  {
   "cell_type": "markdown",
   "id": "above-oasis",
   "metadata": {
    "id": "above-oasis"
   },
   "source": [
    "### 3. DAYS_BIRTH, begin_month, DAYS_EMPLOYED\n",
    "-  음수값 -> 양수 변환"
   ]
  },
  {
   "cell_type": "code",
   "execution_count": 154,
   "id": "oriental-superior",
   "metadata": {
    "id": "oriental-superior"
   },
   "outputs": [],
   "source": [
    "feats = ['DAYS_BIRTH', 'begin_month', 'DAYS_EMPLOYED']\n",
    "for feat in feats:\n",
    "    train[feat]=np.abs(train[feat])\n",
    "    test[feat]=np.abs(test[feat])"
   ]
  },
  {
   "cell_type": "markdown",
   "id": "smooth-guyana",
   "metadata": {
    "id": "smooth-guyana"
   },
   "source": [
    "### 4. 파생변수\n",
    " - numeric 변수는 최대한 다양한 특징을 보일 수 있도록 생성\n",
    " - category 변수는 여러가지를 조합해 보았지만 전체 변수를 합친 ID 하나만 만들었을때 가장 logloss가 낮았음\n",
    " - ref) rollcake님 글 https://dacon.io/competitions/official/235713/codeshare/2526?page=1&dtype=recent"
   ]
  },
  {
   "cell_type": "code",
   "execution_count": 155,
   "id": "focal-subdivision",
   "metadata": {
    "id": "focal-subdivision"
   },
   "outputs": [],
   "source": [
    "for df in [train,test]:\n",
    "    # before_EMPLOYED: 고용되기 전까지의 일수\n",
    "    df['before_EMPLOYED'] = df['DAYS_BIRTH'] - df['DAYS_EMPLOYED']\n",
    "    df['income_total_befofeEMP_ratio'] = df['income_total'] / df['before_EMPLOYED']\n",
    "    df['before_EMPLOYED_m'] = np.floor(df['before_EMPLOYED'] / 30) - ((np.floor(df['before_EMPLOYED'] / 30) / 12).astype(int) * 12)\n",
    "    df['before_EMPLOYED_w'] = np.floor(df['before_EMPLOYED'] / 7) - ((np.floor(df['before_EMPLOYED'] / 7) / 4).astype(int) * 4)\n",
    "    \n",
    "    #DAYS_BIRTH 파생변수- Age(나이), 태어난 월, 태어난 주(출생연도의 n주차)\n",
    "    df['Age'] = df['DAYS_BIRTH'] // 365\n",
    "    df['DAYS_BIRTH_m'] = np.floor(df['DAYS_BIRTH'] / 30) - ((np.floor(df['DAYS_BIRTH'] / 30) / 12).astype(int) * 12)\n",
    "    df['DAYS_BIRTH_w'] = np.floor(df['DAYS_BIRTH'] / 7) - ((np.floor(df['DAYS_BIRTH'] / 7) / 4).astype(int) * 4)\n",
    "\n",
    "    \n",
    "    #DAYS_EMPLOYED_m 파생변수- EMPLOYED(근속연수), DAYS_EMPLOYED_m(고용된 달) ,DAYS_EMPLOYED_w(고용된 주(고용연도의 n주차))  \n",
    "    df['EMPLOYED'] = df['DAYS_EMPLOYED'] // 365\n",
    "    df['DAYS_EMPLOYED_m'] = np.floor(df['DAYS_EMPLOYED'] / 30) - ((np.floor(df['DAYS_EMPLOYED'] / 30) / 12).astype(int) * 12)\n",
    "    df['DAYS_EMPLOYED_w'] = np.floor(df['DAYS_EMPLOYED'] / 7) - ((np.floor(df['DAYS_EMPLOYED'] / 7) / 4).astype(int) * 4)\n",
    "\n",
    "    #ability: 소득/(살아온 일수+ 근무일수)\n",
    "    df['ability'] = df['income_total'] / (df['DAYS_BIRTH'] + df['DAYS_EMPLOYED'])\n",
    "    df['newability'] = (df['income_total'] /df['DAYS_BIRTH'])\n",
    "    \n",
    "    #income_mean: 소득/ 가족 수\n",
    "    df['income_mean'] = df['income_total'] / df['family_size']\n",
    "    \n",
    "    #ID 생성: 각 컬럼의 값들을 더해서 고유한 사람을 파악(*한 사람이 여러 개 카드를 만들 가능성을 고려해 begin_month는 제외함)\n",
    "    df['ID'] = \\\n",
    "    df['child_num'].astype(str) + '_' + df['income_total'].astype(str) + '_' +\\\n",
    "    df['DAYS_BIRTH'].astype(str) + '_' + df['DAYS_EMPLOYED'].astype(str) + '_' +\\\n",
    "    df['work_phone'].astype(str) + '_' + df['phone'].astype(str) + '_' +\\\n",
    "    df['email'].astype(str) + '_' + df['family_size'].astype(str) + '_' +\\\n",
    "    df['gender'].astype(str) + '_' + df['car'].astype(str) + '_' +\\\n",
    "    df['reality'].astype(str) + '_' + df['income_type'].astype(str) + '_' +\\\n",
    "    df['edu_type'].astype(str) + '_' + df['family_type'].astype(str) + '_' +\\\n",
    "    df['house_type'].astype(str) + '_' + df['occyp_type'].astype(str)\n",
    "  \n",
    "   \n",
    "    df['ID2'] = \\\n",
    "    df['income_total'].astype(str) + '_' +\\\n",
    "    df['DAYS_EMPLOYED'].astype(str) + '_' +\\\n",
    "    df['income_type'].astype(str) + '_' +\\\n",
    "    df['edu_type'].astype(str) + '_' + \\\n",
    "    df['occyp_type'].astype(str)\n",
    "\n",
    "\n",
    "\n",
    "    df['ID3'] = \\\n",
    "    df['child_num'].astype(str) + '_' + \\\n",
    "    df['family_size'].astype(str) + '_' +\\\n",
    "    df['reality'].astype(str) + '_' + \\\n",
    "    df['family_type'].astype(str) + '_' +\\\n",
    "    df['house_type'].astype(str)\n",
    "    \n",
    "    "
   ]
  },
  {
   "cell_type": "code",
   "execution_count": null,
   "id": "88b69f0d",
   "metadata": {},
   "outputs": [],
   "source": []
  },
  {
   "cell_type": "markdown",
   "id": "frequent-organization",
   "metadata": {
    "id": "frequent-organization"
   },
   "source": [
    "### 5. 파생변수와 다중공선을 보이는 컬럼 삭제"
   ]
  },
  {
   "cell_type": "code",
   "execution_count": 156,
   "id": "naked-shaft",
   "metadata": {
    "id": "naked-shaft"
   },
   "outputs": [],
   "source": [
    "cols = ['child_num', 'DAYS_BIRTH', 'DAYS_EMPLOYED']\n",
    "train.drop(cols, axis=1, inplace=True)\n",
    "test.drop(cols, axis=1, inplace=True)"
   ]
  },
  {
   "cell_type": "markdown",
   "id": "1JTSywD4AyLX",
   "metadata": {
    "id": "1JTSywD4AyLX"
   },
   "source": [
    "## Scaling, Encoding"
   ]
  },
  {
   "cell_type": "markdown",
   "id": "h5Wo9r0PFTDm",
   "metadata": {
    "id": "h5Wo9r0PFTDm"
   },
   "source": [
    "### 1. Numeric, Category 컬럼 분류"
   ]
  },
  {
   "cell_type": "code",
   "execution_count": 157,
   "id": "aquatic-witness",
   "metadata": {
    "colab": {
     "base_uri": "https://localhost:8080/"
    },
    "id": "aquatic-witness",
    "outputId": "a594a604-282b-4d22-b774-2d776bcb8509"
   },
   "outputs": [
    {
     "name": "stdout",
     "output_type": "stream",
     "text": [
      "Number of Numerical features:  19\n",
      "Number of Categorical features:  11\n"
     ]
    }
   ],
   "source": [
    "numerical_feats = train.dtypes[train.dtypes != \"object\"].index.tolist()\n",
    "numerical_feats.remove('credit')\n",
    "print(\"Number of Numerical features: \", len(numerical_feats))\n",
    "\n",
    "categorical_feats = train.dtypes[train.dtypes == \"object\"].index.tolist()\n",
    "print(\"Number of Categorical features: \", len(categorical_feats))"
   ]
  },
  {
   "cell_type": "code",
   "execution_count": 158,
   "id": "iLK3i4V7VfUe",
   "metadata": {
    "colab": {
     "base_uri": "https://localhost:8080/"
    },
    "id": "iLK3i4V7VfUe",
    "outputId": "bfec5e5a-73de-4c1f-8319-abe9c43e49f2"
   },
   "outputs": [
    {
     "data": {
      "text/plain": [
       "['income_total',\n",
       " 'work_phone',\n",
       " 'phone',\n",
       " 'email',\n",
       " 'family_size',\n",
       " 'begin_month',\n",
       " 'before_EMPLOYED',\n",
       " 'income_total_befofeEMP_ratio',\n",
       " 'before_EMPLOYED_m',\n",
       " 'before_EMPLOYED_w',\n",
       " 'Age',\n",
       " 'DAYS_BIRTH_m',\n",
       " 'DAYS_BIRTH_w',\n",
       " 'EMPLOYED',\n",
       " 'DAYS_EMPLOYED_m',\n",
       " 'DAYS_EMPLOYED_w',\n",
       " 'ability',\n",
       " 'newability',\n",
       " 'income_mean']"
      ]
     },
     "execution_count": 158,
     "metadata": {},
     "output_type": "execute_result"
    }
   ],
   "source": [
    "numerical_feats"
   ]
  },
  {
   "cell_type": "code",
   "execution_count": 159,
   "id": "worst-confidence",
   "metadata": {
    "colab": {
     "base_uri": "https://localhost:8080/"
    },
    "id": "worst-confidence",
    "outputId": "6e9fffb1-7040-44ad-9ccc-e3d22c77e644"
   },
   "outputs": [
    {
     "data": {
      "text/plain": [
       "['gender',\n",
       " 'car',\n",
       " 'reality',\n",
       " 'income_type',\n",
       " 'edu_type',\n",
       " 'family_type',\n",
       " 'house_type',\n",
       " 'occyp_type',\n",
       " 'ID',\n",
       " 'ID2',\n",
       " 'ID3']"
      ]
     },
     "execution_count": 159,
     "metadata": {},
     "output_type": "execute_result"
    }
   ],
   "source": [
    "categorical_feats"
   ]
  },
  {
   "cell_type": "markdown",
   "id": "9P_qXS93mwbN",
   "metadata": {
    "id": "9P_qXS93mwbN"
   },
   "source": [
    "### 2. Log Scale\n",
    "- income_total"
   ]
  },
  {
   "cell_type": "code",
   "execution_count": 160,
   "id": "stopped-elimination",
   "metadata": {
    "id": "stopped-elimination"
   },
   "outputs": [],
   "source": [
    "for df in [train,test]:\n",
    "    df['income_total'] = np.log1p(1+df['income_total'])"
   ]
  },
  {
   "cell_type": "markdown",
   "id": "gIQ_AAVwm3HB",
   "metadata": {
    "id": "gIQ_AAVwm3HB"
   },
   "source": [
    "### 3. OrdinalEncoder \n",
    "- 카테고리 변수는 ordinal_encoder 변환 \n",
    "- ID는 변환 후 정수 처리\n",
    "\n"
   ]
  },
  {
   "cell_type": "code",
   "execution_count": 161,
   "id": "2JBRmGb5ADLF",
   "metadata": {
    "id": "2JBRmGb5ADLF"
   },
   "outputs": [],
   "source": [
    "encoder = OrdinalEncoder(categorical_feats)\n",
    "train[categorical_feats] = encoder.fit_transform(train[categorical_feats], train['credit'])\n",
    "test[categorical_feats] = encoder.transform(test[categorical_feats])\n",
    "\n",
    "train['ID'] = train['ID'].astype('int64')\n",
    "test['ID'] = test['ID'].astype('int64')\n",
    "\n",
    "train['ID2'] = train['ID2'].astype('int64')\n",
    "test['ID2'] = test['ID2'].astype('int64')\n",
    "\n",
    "\n",
    "train['ID3'] = train['ID3'].astype('int64')\n",
    "test['ID3'] = test['ID3'].astype('int64')"
   ]
  },
  {
   "cell_type": "markdown",
   "id": "HJy2yOkZnImd",
   "metadata": {
    "id": "HJy2yOkZnImd"
   },
   "source": [
    "### 4. 클러스터링 구성\n",
    "- 타겟을 결정짓는 뚜렷한 특징을 갖는 피쳐를 찾지 못해 clustering 시도"
   ]
  },
  {
   "cell_type": "code",
   "execution_count": 162,
   "id": "negative-seven",
   "metadata": {
    "id": "negative-seven"
   },
   "outputs": [],
   "source": [
    "kmeans_train = train.drop(['credit'], axis=1)\n",
    "kmeans = KMeans(n_clusters=36, random_state=42).fit(kmeans_train)\n",
    "train['cluster'] = kmeans.predict(kmeans_train)\n",
    "test['cluster'] = kmeans.predict(test)"
   ]
  },
  {
   "cell_type": "markdown",
   "id": "50lGc5mAnIQN",
   "metadata": {
    "id": "50lGc5mAnIQN"
   },
   "source": [
    "### 5. StandardScale\n",
    "- 이미 로그변환을 진행한 income_total을 제외한 나머지 numeric 컬럼 정규화"
   ]
  },
  {
   "cell_type": "code",
   "execution_count": 163,
   "id": "short-smith",
   "metadata": {
    "id": "short-smith"
   },
   "outputs": [],
   "source": [
    "numerical_feats.remove('income_total')\n",
    "scaler = StandardScaler()\n",
    "train[numerical_feats] = scaler.fit_transform(train[numerical_feats])\n",
    "test[numerical_feats] = scaler.transform(test[numerical_feats])"
   ]
  },
  {
   "cell_type": "markdown",
   "id": "handed-boundary",
   "metadata": {
    "id": "handed-boundary"
   },
   "source": [
    "## Modeling - catboost\n",
    " - fold 수를 5부터 17까지 돌려보고 최적 fold 15로 판단 후 선택\n",
    " - parameter를 default로 두는 것이 logloss가 가장 낮았음\n",
    " - ref) Catboost Documentation - https://catboost.ai/docs/concepts/python-reference_catboostclassifier.html"
   ]
  },
  {
   "cell_type": "code",
   "execution_count": 164,
   "id": "imposed-weekend",
   "metadata": {
    "id": "imposed-weekend"
   },
   "outputs": [],
   "source": [
    "n_est = 2000\n",
    "seed = 42\n",
    "n_fold = 15\n",
    "n_class = 3\n",
    "\n",
    "target = 'credit'\n",
    "X = train.drop(target, axis=1)\n",
    "y = train[target]\n",
    "X_test = test"
   ]
  },
  {
   "cell_type": "code",
   "execution_count": 165,
   "id": "VNGLQ0bPJ0oh",
   "metadata": {
    "colab": {
     "base_uri": "https://localhost:8080/"
    },
    "id": "VNGLQ0bPJ0oh",
    "outputId": "f91d6e2a-1d58-4868-dde5-d073602f971c"
   },
   "outputs": [
    {
     "name": "stdout",
     "output_type": "stream",
     "text": [
      "\n",
      "----------------- Fold 0 -----------------\n",
      "\n",
      "Learning rate set to 0.115127\n",
      "0:\tlearn: 1.0347138\ttest: 1.0332452\tbest: 1.0332452 (0)\ttotal: 170ms\tremaining: 2m 49s\n",
      "100:\tlearn: 0.7045670\ttest: 0.6423405\tbest: 0.6422626 (98)\ttotal: 14.6s\tremaining: 2m 9s\n",
      "200:\tlearn: 0.6860806\ttest: 0.6414790\tbest: 0.6406648 (176)\ttotal: 31.2s\tremaining: 2m 4s\n",
      "Stopped by overfitting detector  (100 iterations wait)\n",
      "\n",
      "bestTest = 0.6406647511\n",
      "bestIteration = 176\n",
      "\n",
      "Shrink model to first 177 iterations.\n",
      "CV Log Loss Score: 0.640665\n",
      "\n",
      "----------------- Fold 1 -----------------\n",
      "\n",
      "Learning rate set to 0.115127\n",
      "0:\tlearn: 1.0346699\ttest: 1.0338352\tbest: 1.0338352 (0)\ttotal: 129ms\tremaining: 2m 8s\n",
      "100:\tlearn: 0.7038600\ttest: 0.6744952\tbest: 0.6744479 (99)\ttotal: 13.5s\tremaining: 2m\n",
      "200:\tlearn: 0.6851593\ttest: 0.6736372\tbest: 0.6731563 (151)\ttotal: 29.1s\tremaining: 1m 55s\n",
      "300:\tlearn: 0.6680291\ttest: 0.6752677\tbest: 0.6730886 (223)\ttotal: 44.3s\tremaining: 1m 42s\n",
      "Stopped by overfitting detector  (100 iterations wait)\n",
      "\n",
      "bestTest = 0.6730886151\n",
      "bestIteration = 223\n",
      "\n",
      "Shrink model to first 224 iterations.\n",
      "CV Log Loss Score: 0.673089\n",
      "\n",
      "----------------- Fold 2 -----------------\n",
      "\n",
      "Learning rate set to 0.115127\n",
      "0:\tlearn: 1.0344913\ttest: 1.0351563\tbest: 1.0351563 (0)\ttotal: 132ms\tremaining: 2m 11s\n",
      "100:\tlearn: 0.7035020\ttest: 0.6506698\tbest: 0.6506698 (100)\ttotal: 14.1s\tremaining: 2m 5s\n",
      "200:\tlearn: 0.6847384\ttest: 0.6495146\tbest: 0.6494277 (150)\ttotal: 39.4s\tremaining: 2m 36s\n",
      "300:\tlearn: 0.6664804\ttest: 0.6503126\tbest: 0.6493163 (222)\ttotal: 57.5s\tremaining: 2m 13s\n",
      "Stopped by overfitting detector  (100 iterations wait)\n",
      "\n",
      "bestTest = 0.6493162508\n",
      "bestIteration = 222\n",
      "\n",
      "Shrink model to first 223 iterations.\n",
      "CV Log Loss Score: 0.649316\n",
      "\n",
      "----------------- Fold 3 -----------------\n",
      "\n",
      "Learning rate set to 0.115127\n",
      "0:\tlearn: 1.0343859\ttest: 1.0359999\tbest: 1.0359999 (0)\ttotal: 158ms\tremaining: 2m 37s\n",
      "100:\tlearn: 0.7036562\ttest: 0.6526348\tbest: 0.6526348 (100)\ttotal: 14.2s\tremaining: 2m 6s\n",
      "200:\tlearn: 0.6845118\ttest: 0.6483167\tbest: 0.6482102 (197)\ttotal: 29.4s\tremaining: 1m 56s\n",
      "300:\tlearn: 0.6663855\ttest: 0.6472362\tbest: 0.6464437 (275)\ttotal: 52.5s\tremaining: 2m 1s\n",
      "400:\tlearn: 0.6495420\ttest: 0.6448622\tbest: 0.6448622 (400)\ttotal: 1m 6s\tremaining: 1m 39s\n",
      "500:\tlearn: 0.6328588\ttest: 0.6437910\tbest: 0.6434702 (475)\ttotal: 1m 21s\tremaining: 1m 21s\n",
      "600:\tlearn: 0.6168955\ttest: 0.6433216\tbest: 0.6430075 (594)\ttotal: 1m 44s\tremaining: 1m 9s\n",
      "700:\tlearn: 0.6008716\ttest: 0.6430768\tbest: 0.6424233 (647)\ttotal: 1m 59s\tremaining: 50.8s\n",
      "Stopped by overfitting detector  (100 iterations wait)\n",
      "\n",
      "bestTest = 0.642423335\n",
      "bestIteration = 647\n",
      "\n",
      "Shrink model to first 648 iterations.\n",
      "CV Log Loss Score: 0.642423\n",
      "\n",
      "----------------- Fold 4 -----------------\n",
      "\n",
      "Learning rate set to 0.115127\n",
      "0:\tlearn: 1.0346055\ttest: 1.0345299\tbest: 1.0345299 (0)\ttotal: 321ms\tremaining: 5m 20s\n",
      "100:\tlearn: 0.7032342\ttest: 0.6701037\tbest: 0.6701037 (100)\ttotal: 28.1s\tremaining: 4m 10s\n",
      "200:\tlearn: 0.6840016\ttest: 0.6685988\tbest: 0.6684052 (155)\ttotal: 45.8s\tremaining: 3m 2s\n",
      "300:\tlearn: 0.6662705\ttest: 0.6684644\tbest: 0.6680117 (290)\ttotal: 1m 4s\tremaining: 2m 30s\n",
      "400:\tlearn: 0.6496782\ttest: 0.6688171\tbest: 0.6675466 (353)\ttotal: 1m 19s\tremaining: 1m 59s\n",
      "Stopped by overfitting detector  (100 iterations wait)\n",
      "\n",
      "bestTest = 0.6675466378\n",
      "bestIteration = 353\n",
      "\n",
      "Shrink model to first 354 iterations.\n",
      "CV Log Loss Score: 0.667547\n",
      "\n",
      "----------------- Fold 5 -----------------\n",
      "\n",
      "Learning rate set to 0.115127\n",
      "0:\tlearn: 1.0347657\ttest: 1.0337785\tbest: 1.0337785 (0)\ttotal: 142ms\tremaining: 2m 21s\n",
      "100:\tlearn: 0.7021571\ttest: 0.6781584\tbest: 0.6780324 (97)\ttotal: 14.1s\tremaining: 2m 5s\n",
      "200:\tlearn: 0.6813627\ttest: 0.6753649\tbest: 0.6753240 (175)\ttotal: 28.5s\tremaining: 1m 53s\n",
      "300:\tlearn: 0.6631192\ttest: 0.6779156\tbest: 0.6751078 (211)\ttotal: 42.3s\tremaining: 1m 38s\n",
      "Stopped by overfitting detector  (100 iterations wait)\n",
      "\n",
      "bestTest = 0.6751078074\n",
      "bestIteration = 211\n",
      "\n",
      "Shrink model to first 212 iterations.\n",
      "CV Log Loss Score: 0.675108\n",
      "\n",
      "----------------- Fold 6 -----------------\n",
      "\n",
      "Learning rate set to 0.115127\n",
      "0:\tlearn: 1.0357172\ttest: 1.0344965\tbest: 1.0344965 (0)\ttotal: 157ms\tremaining: 2m 36s\n",
      "100:\tlearn: 0.7032441\ttest: 0.6689885\tbest: 0.6689885 (100)\ttotal: 12.7s\tremaining: 1m 53s\n",
      "200:\tlearn: 0.6838056\ttest: 0.6676591\tbest: 0.6676591 (200)\ttotal: 26.5s\tremaining: 1m 45s\n",
      "300:\tlearn: 0.6668221\ttest: 0.6679640\tbest: 0.6669588 (235)\ttotal: 40.3s\tremaining: 1m 33s\n",
      "Stopped by overfitting detector  (100 iterations wait)\n",
      "\n",
      "bestTest = 0.666958752\n",
      "bestIteration = 235\n",
      "\n",
      "Shrink model to first 236 iterations.\n",
      "CV Log Loss Score: 0.666959\n",
      "\n",
      "----------------- Fold 7 -----------------\n",
      "\n",
      "Learning rate set to 0.115127\n",
      "0:\tlearn: 1.0345904\ttest: 1.0352142\tbest: 1.0352142 (0)\ttotal: 137ms\tremaining: 2m 16s\n",
      "100:\tlearn: 0.7049559\ttest: 0.6771518\tbest: 0.6770997 (98)\ttotal: 12.1s\tremaining: 1m 47s\n",
      "200:\tlearn: 0.6859608\ttest: 0.6730748\tbest: 0.6730748 (200)\ttotal: 26s\tremaining: 1m 43s\n",
      "300:\tlearn: 0.6683535\ttest: 0.6719785\tbest: 0.6719749 (251)\ttotal: 39.9s\tremaining: 1m 32s\n",
      "400:\tlearn: 0.6508690\ttest: 0.6718080\tbest: 0.6714489 (359)\ttotal: 54.1s\tremaining: 1m 20s\n",
      "500:\tlearn: 0.6341633\ttest: 0.6724998\tbest: 0.6713569 (409)\ttotal: 1m 8s\tremaining: 1m 7s\n",
      "Stopped by overfitting detector  (100 iterations wait)\n",
      "\n",
      "bestTest = 0.6713569292\n",
      "bestIteration = 409\n",
      "\n",
      "Shrink model to first 410 iterations.\n",
      "CV Log Loss Score: 0.671357\n",
      "\n",
      "----------------- Fold 8 -----------------\n",
      "\n",
      "Learning rate set to 0.115127\n",
      "0:\tlearn: 1.0344719\ttest: 1.0356433\tbest: 1.0356433 (0)\ttotal: 139ms\tremaining: 2m 19s\n",
      "100:\tlearn: 0.7021411\ttest: 0.6790989\tbest: 0.6790989 (100)\ttotal: 12.5s\tremaining: 1m 51s\n",
      "200:\tlearn: 0.6818448\ttest: 0.6761177\tbest: 0.6759036 (191)\ttotal: 26.6s\tremaining: 1m 45s\n",
      "Stopped by overfitting detector  (100 iterations wait)\n",
      "\n",
      "bestTest = 0.6759035563\n",
      "bestIteration = 191\n",
      "\n",
      "Shrink model to first 192 iterations.\n",
      "CV Log Loss Score: 0.675904\n",
      "\n",
      "----------------- Fold 9 -----------------\n",
      "\n",
      "Learning rate set to 0.115127\n",
      "0:\tlearn: 1.0346693\ttest: 1.0347512\tbest: 1.0347512 (0)\ttotal: 133ms\tremaining: 2m 12s\n",
      "100:\tlearn: 0.7032368\ttest: 0.6587728\tbest: 0.6587184 (93)\ttotal: 12.7s\tremaining: 1m 53s\n",
      "200:\tlearn: 0.6828586\ttest: 0.6557000\tbest: 0.6556661 (197)\ttotal: 27.2s\tremaining: 1m 48s\n",
      "300:\tlearn: 0.6655168\ttest: 0.6553095\tbest: 0.6548680 (250)\ttotal: 41.2s\tremaining: 1m 35s\n",
      "400:\tlearn: 0.6479995\ttest: 0.6546576\tbest: 0.6543626 (389)\ttotal: 55.5s\tremaining: 1m 22s\n",
      "Stopped by overfitting detector  (100 iterations wait)\n",
      "\n",
      "bestTest = 0.6543626395\n",
      "bestIteration = 389\n",
      "\n",
      "Shrink model to first 390 iterations.\n",
      "CV Log Loss Score: 0.654363\n",
      "\n",
      "----------------- Fold 10 -----------------\n",
      "\n",
      "Learning rate set to 0.115127\n",
      "0:\tlearn: 1.0345994\ttest: 1.0349797\tbest: 1.0349797 (0)\ttotal: 164ms\tremaining: 2m 43s\n",
      "100:\tlearn: 0.7040908\ttest: 0.6656604\tbest: 0.6656604 (100)\ttotal: 15.4s\tremaining: 2m 16s\n",
      "200:\tlearn: 0.6847207\ttest: 0.6638796\tbest: 0.6633108 (165)\ttotal: 29.8s\tremaining: 1m 58s\n",
      "300:\tlearn: 0.6685108\ttest: 0.6620771\tbest: 0.6620771 (300)\ttotal: 43.4s\tremaining: 1m 40s\n",
      "400:\tlearn: 0.6509213\ttest: 0.6617176\tbest: 0.6613026 (316)\ttotal: 58.1s\tremaining: 1m 26s\n",
      "Stopped by overfitting detector  (100 iterations wait)\n",
      "\n",
      "bestTest = 0.6613026185\n",
      "bestIteration = 316\n",
      "\n",
      "Shrink model to first 317 iterations.\n",
      "CV Log Loss Score: 0.661303\n",
      "\n",
      "----------------- Fold 11 -----------------\n",
      "\n",
      "Learning rate set to 0.115127\n",
      "0:\tlearn: 1.0345871\ttest: 1.0350358\tbest: 1.0350358 (0)\ttotal: 133ms\tremaining: 2m 12s\n",
      "100:\tlearn: 0.7042888\ttest: 0.6902526\tbest: 0.6902526 (100)\ttotal: 28.4s\tremaining: 4m 12s\n",
      "200:\tlearn: 0.6854323\ttest: 0.6894738\tbest: 0.6892215 (199)\ttotal: 47.7s\tremaining: 3m 9s\n",
      "300:\tlearn: 0.6675687\ttest: 0.6893300\tbest: 0.6886849 (261)\ttotal: 1m 6s\tremaining: 2m 35s\n",
      "Stopped by overfitting detector  (100 iterations wait)\n",
      "\n",
      "bestTest = 0.6886849103\n",
      "bestIteration = 261\n",
      "\n",
      "Shrink model to first 262 iterations.\n",
      "CV Log Loss Score: 0.688685\n",
      "\n",
      "----------------- Fold 12 -----------------\n",
      "\n",
      "Learning rate set to 0.115127\n",
      "0:\tlearn: 1.0345775\ttest: 1.0358200\tbest: 1.0358200 (0)\ttotal: 172ms\tremaining: 2m 51s\n",
      "100:\tlearn: 0.7039962\ttest: 0.6606800\tbest: 0.6606385 (98)\ttotal: 13.1s\tremaining: 1m 56s\n",
      "200:\tlearn: 0.6840819\ttest: 0.6591169\tbest: 0.6591169 (200)\ttotal: 29s\tremaining: 1m 55s\n",
      "300:\tlearn: 0.6662367\ttest: 0.6588795\tbest: 0.6583573 (264)\ttotal: 52.8s\tremaining: 2m 2s\n"
     ]
    },
    {
     "name": "stdout",
     "output_type": "stream",
     "text": [
      "400:\tlearn: 0.6480303\ttest: 0.6579170\tbest: 0.6575392 (389)\ttotal: 1m 9s\tremaining: 1m 43s\n",
      "500:\tlearn: 0.6307682\ttest: 0.6581918\tbest: 0.6575303 (405)\ttotal: 1m 24s\tremaining: 1m 23s\n",
      "Stopped by overfitting detector  (100 iterations wait)\n",
      "\n",
      "bestTest = 0.6575302828\n",
      "bestIteration = 405\n",
      "\n",
      "Shrink model to first 406 iterations.\n",
      "CV Log Loss Score: 0.657530\n",
      "\n",
      "----------------- Fold 13 -----------------\n",
      "\n",
      "Learning rate set to 0.115127\n",
      "0:\tlearn: 1.0348476\ttest: 1.0328543\tbest: 1.0328543 (0)\ttotal: 137ms\tremaining: 2m 17s\n",
      "100:\tlearn: 0.7010762\ttest: 0.6830529\tbest: 0.6827935 (96)\ttotal: 12.5s\tremaining: 1m 51s\n",
      "200:\tlearn: 0.6827298\ttest: 0.6824684\tbest: 0.6820971 (184)\ttotal: 26.2s\tremaining: 1m 44s\n",
      "300:\tlearn: 0.6644850\ttest: 0.6815487\tbest: 0.6808476 (257)\ttotal: 39.8s\tremaining: 1m 32s\n",
      "Stopped by overfitting detector  (100 iterations wait)\n",
      "\n",
      "bestTest = 0.6808476067\n",
      "bestIteration = 257\n",
      "\n",
      "Shrink model to first 258 iterations.\n",
      "CV Log Loss Score: 0.680848\n",
      "\n",
      "----------------- Fold 14 -----------------\n",
      "\n",
      "Learning rate set to 0.115127\n",
      "0:\tlearn: 1.0346964\ttest: 1.0340621\tbest: 1.0340621 (0)\ttotal: 146ms\tremaining: 2m 26s\n",
      "100:\tlearn: 0.7053601\ttest: 0.6751957\tbest: 0.6751793 (98)\ttotal: 12.3s\tremaining: 1m 49s\n",
      "200:\tlearn: 0.6849546\ttest: 0.6734156\tbest: 0.6731873 (193)\ttotal: 25.9s\tremaining: 1m 42s\n",
      "300:\tlearn: 0.6664313\ttest: 0.6718266\tbest: 0.6718127 (297)\ttotal: 39.4s\tremaining: 1m 31s\n",
      "400:\tlearn: 0.6483304\ttest: 0.6721037\tbest: 0.6711693 (319)\ttotal: 53s\tremaining: 1m 19s\n",
      "Stopped by overfitting detector  (100 iterations wait)\n",
      "\n",
      "bestTest = 0.6711692673\n",
      "bestIteration = 319\n",
      "\n",
      "Shrink model to first 320 iterations.\n",
      "CV Log Loss Score: 0.671169\n",
      "\tLog Loss: 0.665083\n"
     ]
    }
   ],
   "source": [
    "skfold = StratifiedKFold(n_splits=n_fold, shuffle=True, random_state=seed)\n",
    "folds=[]\n",
    "for train_idx, valid_idx in skfold.split(X, y):\n",
    "        folds.append((train_idx, valid_idx))\n",
    "\n",
    "cat_pred = np.zeros((X.shape[0], n_class))\n",
    "cat_pred_test = np.zeros((X_test.shape[0], n_class))\n",
    "cat_cols = ['income_type', 'edu_type', 'family_type', 'house_type', 'occyp_type', 'ID', 'ID2', 'ID3']\n",
    "for fold in range(n_fold):\n",
    "  print(f'\\n----------------- Fold {fold} -----------------\\n')\n",
    "  train_idx, valid_idx = folds[fold]\n",
    "  X_train, X_valid, y_train, y_valid = X.iloc[train_idx], X.iloc[valid_idx], y[train_idx], y[valid_idx]\n",
    "  train_data = Pool(data=X_train, label=y_train, cat_features=cat_cols)\n",
    "  valid_data = Pool(data=X_valid, label=y_valid, cat_features=cat_cols)\n",
    "\n",
    "  model_cat = CatBoostClassifier()\n",
    "  model_cat.fit(train_data, eval_set=valid_data, use_best_model=True, early_stopping_rounds=100, verbose=100)\n",
    "  \n",
    "  cat_pred[valid_idx] = model_cat.predict_proba(X_valid)\n",
    "  cat_pred_test += model_cat.predict_proba(X_test) / n_fold\n",
    "  print(f'CV Log Loss Score: {log_loss(y_valid, cat_pred[valid_idx]):.6f}')\n",
    "    \n",
    "print(f'\\tLog Loss: {log_loss(y, cat_pred):.6f}')\n"
   ]
  },
  {
   "cell_type": "markdown",
   "id": "dLT1Z5x5zAEs",
   "metadata": {
    "id": "dLT1Z5x5zAEs"
   },
   "source": [
    "## Feautre Importance\n",
    " - ID의 중요도가 상당히 높게 나오는 것을 볼 수 있었음\n",
    " - plot_feature_importance 함수\n",
    "    - ref) https://stackoverflow.com/questions/64988694/how-can-i-get-the-feature-importance-of-a-catboost-in-a-pandas-dataframe"
   ]
  },
  {
   "cell_type": "code",
   "execution_count": 128,
   "id": "mR6tLX2msMkz",
   "metadata": {
    "id": "mR6tLX2msMkz"
   },
   "outputs": [],
   "source": [
    "def plot_feature_importance(importance,names,model_type):\n",
    "    \n",
    "    feature_importance = np.array(importance)\n",
    "    feature_names = np.array(names)\n",
    "    \n",
    "    data={'feature_names':feature_names,'feature_importance':feature_importance}\n",
    "    fi_df = pd.DataFrame(data)\n",
    "    \n",
    "    fi_df.sort_values(by=['feature_importance'], ascending=False,inplace=True)\n",
    "\n",
    "    plt.figure(figsize=(10,8))\n",
    "\n",
    "    sns.barplot(x=fi_df['feature_importance'], y=fi_df['feature_names'])\n",
    "\n",
    "    plt.title(model_type + ' Feature Importance')\n",
    "    plt.xlabel('Feature Importance')\n",
    "    plt.ylabel('Feature Names')"
   ]
  },
  {
   "cell_type": "code",
   "execution_count": 129,
   "id": "wto01le5vCfw",
   "metadata": {
    "colab": {
     "base_uri": "https://localhost:8080/",
     "height": 513
    },
    "id": "wto01le5vCfw",
    "outputId": "5489c1c2-0d5a-4022-853a-12da9c1bb8ba"
   },
   "outputs": [
    {
     "data": {
      "image/png": "[encoded data removed]",
      "text/plain": [
       "<Figure size 1000x800 with 1 Axes>"
      ]
     },
     "metadata": {},
     "output_type": "display_data"
    }
   ],
   "source": [
    "plot_feature_importance(model_cat.get_feature_importance(),X_test.columns,'CATBOOST')"
   ]
  },
  {
   "cell_type": "markdown",
   "id": "f5vz9xs2vOjT",
   "metadata": {
    "id": "f5vz9xs2vOjT"
   },
   "source": [
    "## Submission"
   ]
  },
  {
   "cell_type": "markdown",
   "id": "Tn98UVxcnorm",
   "metadata": {
    "id": "Tn98UVxcnorm"
   },
   "source": [
    "### submission 파일 불러오기"
   ]
  },
  {
   "cell_type": "code",
   "execution_count": 130,
   "id": "greatest-centre",
   "metadata": {
    "id": "greatest-centre"
   },
   "outputs": [],
   "source": [
    "sub = pd.read_csv('sample_submission.csv')"
   ]
  },
  {
   "cell_type": "markdown",
   "id": "3iZ1qWlink27",
   "metadata": {
    "id": "3iZ1qWlink27"
   },
   "source": [
    "### submission 파일 저장"
   ]
  },
  {
   "cell_type": "code",
   "execution_count": 131,
   "id": "surgical-omaha",
   "metadata": {
    "colab": {
     "base_uri": "https://localhost:8080/",
     "height": 419
    },
    "id": "surgical-omaha",
    "outputId": "744b9889-eb61-40f4-b5ff-61cb4bc79c02"
   },
   "outputs": [
    {
     "data": {
      "text/html": [
       "<div>\n",
       "<style scoped>\n",
       "    .dataframe tbody tr th:only-of-type {\n",
       "        vertical-align: middle;\n",
       "    }\n",
       "\n",
       "    .dataframe tbody tr th {\n",
       "        vertical-align: top;\n",
       "    }\n",
       "\n",
       "    .dataframe thead th {\n",
       "        text-align: right;\n",
       "    }\n",
       "</style>\n",
       "<table border=\"1\" class=\"dataframe\">\n",
       "  <thead>\n",
       "    <tr style=\"text-align: right;\">\n",
       "      <th></th>\n",
       "      <th>index</th>\n",
       "      <th>0</th>\n",
       "      <th>1</th>\n",
       "      <th>2</th>\n",
       "    </tr>\n",
       "  </thead>\n",
       "  <tbody>\n",
       "    <tr>\n",
       "      <th>0</th>\n",
       "      <td>26457</td>\n",
       "      <td>0.121015</td>\n",
       "      <td>0.181824</td>\n",
       "      <td>0.697161</td>\n",
       "    </tr>\n",
       "    <tr>\n",
       "      <th>1</th>\n",
       "      <td>26458</td>\n",
       "      <td>0.336796</td>\n",
       "      <td>0.201496</td>\n",
       "      <td>0.461708</td>\n",
       "    </tr>\n",
       "    <tr>\n",
       "      <th>2</th>\n",
       "      <td>26459</td>\n",
       "      <td>0.034725</td>\n",
       "      <td>0.071020</td>\n",
       "      <td>0.894254</td>\n",
       "    </tr>\n",
       "    <tr>\n",
       "      <th>3</th>\n",
       "      <td>26460</td>\n",
       "      <td>0.054678</td>\n",
       "      <td>0.082037</td>\n",
       "      <td>0.863285</td>\n",
       "    </tr>\n",
       "    <tr>\n",
       "      <th>4</th>\n",
       "      <td>26461</td>\n",
       "      <td>0.089245</td>\n",
       "      <td>0.228390</td>\n",
       "      <td>0.682365</td>\n",
       "    </tr>\n",
       "    <tr>\n",
       "      <th>...</th>\n",
       "      <td>...</td>\n",
       "      <td>...</td>\n",
       "      <td>...</td>\n",
       "      <td>...</td>\n",
       "    </tr>\n",
       "    <tr>\n",
       "      <th>9995</th>\n",
       "      <td>36452</td>\n",
       "      <td>0.071923</td>\n",
       "      <td>0.211242</td>\n",
       "      <td>0.716835</td>\n",
       "    </tr>\n",
       "    <tr>\n",
       "      <th>9996</th>\n",
       "      <td>36453</td>\n",
       "      <td>0.322471</td>\n",
       "      <td>0.180877</td>\n",
       "      <td>0.496652</td>\n",
       "    </tr>\n",
       "    <tr>\n",
       "      <th>9997</th>\n",
       "      <td>36454</td>\n",
       "      <td>0.048587</td>\n",
       "      <td>0.111303</td>\n",
       "      <td>0.840110</td>\n",
       "    </tr>\n",
       "    <tr>\n",
       "      <th>9998</th>\n",
       "      <td>36455</td>\n",
       "      <td>0.149616</td>\n",
       "      <td>0.312926</td>\n",
       "      <td>0.537458</td>\n",
       "    </tr>\n",
       "    <tr>\n",
       "      <th>9999</th>\n",
       "      <td>36456</td>\n",
       "      <td>0.068905</td>\n",
       "      <td>0.455712</td>\n",
       "      <td>0.475383</td>\n",
       "    </tr>\n",
       "  </tbody>\n",
       "</table>\n",
       "<p>10000 rows × 4 columns</p>\n",
       "</div>"
      ],
      "text/plain": [
       "      index         0         1         2\n",
       "0     26457  0.121015  0.181824  0.697161\n",
       "1     26458  0.336796  0.201496  0.461708\n",
       "2     26459  0.034725  0.071020  0.894254\n",
       "3     26460  0.054678  0.082037  0.863285\n",
       "4     26461  0.089245  0.228390  0.682365\n",
       "...     ...       ...       ...       ...\n",
       "9995  36452  0.071923  0.211242  0.716835\n",
       "9996  36453  0.322471  0.180877  0.496652\n",
       "9997  36454  0.048587  0.111303  0.840110\n",
       "9998  36455  0.149616  0.312926  0.537458\n",
       "9999  36456  0.068905  0.455712  0.475383\n",
       "\n",
       "[10000 rows x 4 columns]"
      ]
     },
     "execution_count": 131,
     "metadata": {},
     "output_type": "execute_result"
    }
   ],
   "source": [
    "sub.iloc[:, 1:] = cat_pred_test\n",
    "sub"
   ]
  },
  {
   "cell_type": "code",
   "execution_count": 132,
   "id": "equal-weapon",
   "metadata": {
    "id": "equal-weapon"
   },
   "outputs": [],
   "source": [
    "sub.to_csv('answer/submission0523_Final7.csv', index=False)"
   ]
  },
  {
   "cell_type": "code",
   "execution_count": null,
   "id": "cc9c7e17",
   "metadata": {},
   "outputs": [],
   "source": []
  },
  {
   "cell_type": "code",
   "execution_count": null,
   "id": "526475d3",
   "metadata": {},
   "outputs": [],
   "source": []
  },
  {
   "cell_type": "code",
   "execution_count": null,
   "id": "b6f8049d",
   "metadata": {},
   "outputs": [],
   "source": []
  },
  {
   "cell_type": "code",
   "execution_count": null,
   "id": "9d880755",
   "metadata": {},
   "outputs": [],
   "source": []
  },
  {
   "cell_type": "code",
   "execution_count": null,
   "id": "db7fecfd",
   "metadata": {},
   "outputs": [],
   "source": []
  },
  {
   "cell_type": "code",
   "execution_count": null,
   "id": "a3f881a6",
   "metadata": {},
   "outputs": [],
   "source": []
  },
  {
   "cell_type": "code",
   "execution_count": null,
   "id": "1d8b7a38",
   "metadata": {},
   "outputs": [],
   "source": []
  },
  {
   "cell_type": "code",
   "execution_count": null,
   "id": "3a11ad2b",
   "metadata": {},
   "outputs": [],
   "source": []
  }
 ],
 "metadata": {
  "colab": {
   "collapsed_sections": [],
   "name": "Catboost_paramX_fold15_Last_Share",
   "provenance": [],
   "toc_visible": true
  },
  "kernelspec": {
   "display_name": "Python 3 (ipykernel)",
   "language": "python",
   "name": "python3"
  },
  "language_info": {
   "codemirror_mode": {
    "name": "ipython",
    "version": 3
   },
   "file_extension": ".py",
   "mimetype": "text/x-python",
   "name": "python",
   "nbconvert_exporter": "python",
   "pygments_lexer": "ipython3",
   "version": "3.7.13"
  },
  "varInspector": {
   "cols": {
    "lenName": 16,
    "lenType": 16,
    "lenVar": 40
   },
   "kernels_config": {
    "python": {
     "delete_cmd_postfix": "",
     "delete_cmd_prefix": "del ",
     "library": "var_list.py",
     "varRefreshCmd": "print(var_dic_list())"
    },
    "r": {
     "delete_cmd_postfix": ") ",
     "delete_cmd_prefix": "rm(",
     "library": "var_list.r",
     "varRefreshCmd": "cat(var_dic_list()) "
    }
   },
   "types_to_exclude": [
    "module",
    "function",
    "builtin_function_or_method",
    "instance",
    "_Feature"
   ],
   "window_display": false
  }
 },
 "nbformat": 4,
 "nbformat_minor": 5
}

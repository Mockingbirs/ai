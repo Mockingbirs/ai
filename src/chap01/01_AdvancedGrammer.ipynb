{
 "cells": [
  {
   "cell_type": "markdown",
   "id": "dd4217ef",
   "metadata": {},
   "source": [
    "# 데이터 분석에 유용한 기능들...\n",
    "\n",
    "### - list comprehension 기본 구조"
   ]
  },
  {
   "cell_type": "code",
   "execution_count": 1,
   "id": "6851f06e",
   "metadata": {},
   "outputs": [],
   "source": [
    "numbers = [1, 2, 3, 4, 5]\n",
    "square1 = []"
   ]
  },
  {
   "cell_type": "code",
   "execution_count": 2,
   "id": "212e074f",
   "metadata": {},
   "outputs": [
    {
     "data": {
      "text/plain": [
       "[1, 4, 9, 16, 25]"
      ]
     },
     "execution_count": 2,
     "metadata": {},
     "output_type": "execute_result"
    }
   ],
   "source": [
    "for i in numbers:\n",
    "    square1.append(i**2)\n",
    "    \n",
    "square1"
   ]
  },
  {
   "cell_type": "code",
   "execution_count": 6,
   "id": "5bc304fa",
   "metadata": {},
   "outputs": [
    {
     "data": {
      "text/plain": [
       "[1, 4, 9, 16, 25]"
      ]
     },
     "execution_count": 6,
     "metadata": {},
     "output_type": "execute_result"
    }
   ],
   "source": [
    "square2 = [i ** 2 for i in numbers]\n",
    "square2"
   ]
  },
  {
   "cell_type": "code",
   "execution_count": 7,
   "id": "c8c3f9cb",
   "metadata": {},
   "outputs": [
    {
     "data": {
      "text/plain": [
       "[9, 16, 25]"
      ]
     },
     "execution_count": 7,
     "metadata": {},
     "output_type": "execute_result"
    }
   ],
   "source": [
    "square3 = []\n",
    "\n",
    "for i in numbers:\n",
    "    if i >=3:\n",
    "        square3.append(i**2)\n",
    "        \n",
    "square3"
   ]
  },
  {
   "cell_type": "code",
   "execution_count": 8,
   "id": "24386b8b",
   "metadata": {},
   "outputs": [
    {
     "data": {
      "text/plain": [
       "[9, 16, 25]"
      ]
     },
     "execution_count": 8,
     "metadata": {},
     "output_type": "execute_result"
    }
   ],
   "source": [
    "square4 = [i**2 for i in numbers if i >=3]\n",
    "square4"
   ]
  },
  {
   "cell_type": "markdown",
   "id": "e22feb76",
   "metadata": {},
   "source": [
    "#### * List comprehension : 리스트 변환하는 표현식으로 유용한 기능"
   ]
  },
  {
   "cell_type": "code",
   "execution_count": 10,
   "id": "91912fc8",
   "metadata": {},
   "outputs": [
    {
     "name": "stdout",
     "output_type": "stream",
     "text": [
      "['mon', 'tue', 'wed', 'thu', 'fri', 'sat', 'sun']\n"
     ]
    }
   ],
   "source": [
    "day = ['mon', 'tue', 'wed', 'thu', 'fri', 'sat', 'sun']\n",
    "print([x for x in day])"
   ]
  },
  {
   "cell_type": "code",
   "execution_count": 11,
   "id": "f5b907e5",
   "metadata": {},
   "outputs": [
    {
     "name": "stdout",
     "output_type": "stream",
     "text": [
      "[35, 56, 45, 27, 8]\n"
     ]
    }
   ],
   "source": [
    "data = [35, 56, -53, 45, 27, -28, 8, -12]\n",
    "print([x for x in data if x>=0])"
   ]
  },
  {
   "cell_type": "code",
   "execution_count": 12,
   "id": "fff7fb79",
   "metadata": {},
   "outputs": [
    {
     "name": "stdout",
     "output_type": "stream",
     "text": [
      "[1225, 3136, 2025, 729, 64]\n"
     ]
    }
   ],
   "source": [
    "data = [35, 56, -53, 45, 27, -28, 8, -12]\n",
    "print([x **2 for x in data if x>=0])"
   ]
  },
  {
   "cell_type": "markdown",
   "id": "cbd99e8b",
   "metadata": {},
   "source": [
    "### - split(구분자): 구분자로 구분, 기본값은 공백"
   ]
  },
  {
   "cell_type": "code",
   "execution_count": 13,
   "id": "11656d77",
   "metadata": {},
   "outputs": [
    {
     "data": {
      "text/plain": [
       "['the', 'joeun', 'Computer', 'academy', 'with', 'python']"
      ]
     },
     "execution_count": 13,
     "metadata": {},
     "output_type": "execute_result"
    }
   ],
   "source": [
    "test_text = \"the-joeun-Computer-academy-with-python\"\n",
    "result = test_text.split('-')\n",
    "result     # list"
   ]
  },
  {
   "cell_type": "code",
   "execution_count": 14,
   "id": "f6fb3b80",
   "metadata": {},
   "outputs": [
    {
     "data": {
      "text/plain": [
       "['the', 'joeun', 'Computer', 'academy', 'with', 'python']"
      ]
     },
     "execution_count": 14,
     "metadata": {},
     "output_type": "execute_result"
    }
   ],
   "source": [
    "test_text = ['the', 'joeun', 'Computer', 'academy', 'with', 'python']\n",
    "test_text"
   ]
  },
  {
   "cell_type": "code",
   "execution_count": 16,
   "id": "14a089c3",
   "metadata": {},
   "outputs": [
    {
     "data": {
      "text/plain": [
       "'the-joeun-Computer-academy-with-python'"
      ]
     },
     "execution_count": 16,
     "metadata": {},
     "output_type": "execute_result"
    }
   ],
   "source": [
    "result = '-'.join(test_text)\n",
    "result"
   ]
  },
  {
   "cell_type": "markdown",
   "id": "742a5f26",
   "metadata": {},
   "source": [
    "#### * split()과 join()의 응용"
   ]
  },
  {
   "cell_type": "code",
   "execution_count": 18,
   "id": "919d3a5a",
   "metadata": {},
   "outputs": [
    {
     "data": {
      "text/plain": [
       "'345-234'"
      ]
     },
     "execution_count": 18,
     "metadata": {},
     "output_type": "execute_result"
    }
   ],
   "source": [
    "result = '-'.join('345.234'.split('.'))\n",
    "result"
   ]
  },
  {
   "cell_type": "markdown",
   "id": "80788a25",
   "metadata": {},
   "source": [
    "### - enumerate(list) : 인덱스와 값을 함께 반환"
   ]
  },
  {
   "cell_type": "code",
   "execution_count": 19,
   "id": "4358c13b",
   "metadata": {},
   "outputs": [
    {
     "name": "stdout",
     "output_type": "stream",
     "text": [
      "0 a\n",
      "1 b\n",
      "2 c\n",
      "3 d\n",
      "4 e\n"
     ]
    }
   ],
   "source": [
    "for i, name in enumerate(['a','b','c','d','e']):\n",
    "    print(i, name)\n",
    "    "
   ]
  },
  {
   "cell_type": "code",
   "execution_count": 20,
   "id": "ab4867ce",
   "metadata": {},
   "outputs": [
    {
     "data": {
      "text/plain": [
       "{0: 'mon', 1: 'tue', 2: 'wed', 3: 'thu', 4: 'fri', 5: 'sat', 6: 'sun'}"
      ]
     },
     "execution_count": 20,
     "metadata": {},
     "output_type": "execute_result"
    }
   ],
   "source": [
    "seq = ['mon', 'tue', 'wed', 'thu', 'fri', 'sat', 'sun']\n",
    "dict(enumerate(seq))\n"
   ]
  },
  {
   "cell_type": "code",
   "execution_count": 21,
   "id": "beab85f1",
   "metadata": {},
   "outputs": [
    {
     "data": {
      "text/plain": [
       "{'a': 'mon',\n",
       " 'b': 'tue',\n",
       " 'c': 'wed',\n",
       " 'd': 'thu',\n",
       " 'e': 'fri',\n",
       " 'f': 'sat',\n",
       " 'g': 'sun'}"
      ]
     },
     "execution_count": 21,
     "metadata": {},
     "output_type": "execute_result"
    }
   ],
   "source": [
    "key_seq = 'abcdefg'\n",
    "value_seq = ['mon', 'tue', 'wed', 'thu', 'fri', 'sat', 'sun']\n",
    "dict(zip(key_seq, value_seq))"
   ]
  },
  {
   "cell_type": "markdown",
   "id": "c44e44ab",
   "metadata": {},
   "source": [
    "### - Counter를 이용한 카운팅\n",
    "#### * Counter는 아이템의 갯수를 자동으로 카운팅."
   ]
  },
  {
   "cell_type": "code",
   "execution_count": 3,
   "id": "6c3a5648",
   "metadata": {},
   "outputs": [],
   "source": [
    "from collections import Counter"
   ]
  },
  {
   "cell_type": "code",
   "execution_count": 4,
   "id": "59e5b4ac",
   "metadata": {},
   "outputs": [],
   "source": [
    "message = \"\"\"\n",
    "Sed ut perspiciatis unde omnis iste natus error sit voluptatem accusantium doloremque laudantium, totam rem aperiam, \n",
    "eaque ipsa quae ab illo inventore veritatis et quasi architecto beatae vitae dicta sunt explicabo. \n",
    "Nemo enim ipsam voluptatem quia voluptas sit aspernatur aut odit aut fugit, \n",
    "sed quia consequuntur magni dolores eos qui ratione voluptatem sequi nesciunt. \n",
    "Neque porro quisquam est, qui dolorem ipsum quia dolor sit amet, consectetur, adipisci velit, \n",
    "sed quia non numquam eius modi tempora incidunt ut labore et dolore magnam aliquam quaerat voluptatem. \n",
    "Ut enim ad minima veniam, quis nostrum exercitationem ullam corporis suscipit laboriosam, \n",
    "nisi ut aliquid ex ea commodi consequatur? \n",
    "Quis autem vel eum iure reprehenderit qui in ea voluptate velit esse quam nihil molestiae consequatur, \n",
    "vel illum qui dolorem eum fugiat quo voluptas nulla pariatur?\n",
    "\"\"\""
   ]
  },
  {
   "cell_type": "code",
   "execution_count": 6,
   "id": "7a2c042b",
   "metadata": {},
   "outputs": [
    {
     "name": "stdout",
     "output_type": "stream",
     "text": [
      "Counter({'quia': 4, 'qui': 4, 'ut': 3, 'sit': 3, 'voluptatem': 3, 'et': 2, 'enim': 2, 'voluptas': 2, 'aut': 2, 'sed': 2, 'dolorem': 2, 'ea': 2, 'vel': 2, 'eum': 2, 'Sed': 1, 'perspiciatis': 1, 'unde': 1, 'omnis': 1, 'iste': 1, 'natus': 1, 'error': 1, 'accusantium': 1, 'doloremque': 1, 'laudantium,': 1, 'totam': 1, 'rem': 1, 'aperiam,': 1, 'eaque': 1, 'ipsa': 1, 'quae': 1, 'ab': 1, 'illo': 1, 'inventore': 1, 'veritatis': 1, 'quasi': 1, 'architecto': 1, 'beatae': 1, 'vitae': 1, 'dicta': 1, 'sunt': 1, 'explicabo.': 1, 'Nemo': 1, 'ipsam': 1, 'aspernatur': 1, 'odit': 1, 'fugit,': 1, 'consequuntur': 1, 'magni': 1, 'dolores': 1, 'eos': 1, 'ratione': 1, 'sequi': 1, 'nesciunt.': 1, 'Neque': 1, 'porro': 1, 'quisquam': 1, 'est,': 1, 'ipsum': 1, 'dolor': 1, 'amet,': 1, 'consectetur,': 1, 'adipisci': 1, 'velit,': 1, 'non': 1, 'numquam': 1, 'eius': 1, 'modi': 1, 'tempora': 1, 'incidunt': 1, 'labore': 1, 'dolore': 1, 'magnam': 1, 'aliquam': 1, 'quaerat': 1, 'voluptatem.': 1, 'Ut': 1, 'ad': 1, 'minima': 1, 'veniam,': 1, 'quis': 1, 'nostrum': 1, 'exercitationem': 1, 'ullam': 1, 'corporis': 1, 'suscipit': 1, 'laboriosam,': 1, 'nisi': 1, 'aliquid': 1, 'ex': 1, 'commodi': 1, 'consequatur?': 1, 'Quis': 1, 'autem': 1, 'iure': 1, 'reprehenderit': 1, 'in': 1, 'voluptate': 1, 'velit': 1, 'esse': 1, 'quam': 1, 'nihil': 1, 'molestiae': 1, 'consequatur,': 1, 'illum': 1, 'fugiat': 1, 'quo': 1, 'nulla': 1, 'pariatur?': 1})\n"
     ]
    }
   ],
   "source": [
    "counter = Counter(message.split())\n",
    "print(counter)"
   ]
  },
  {
   "cell_type": "code",
   "execution_count": 7,
   "id": "d077bf11",
   "metadata": {},
   "outputs": [
    {
     "name": "stdout",
     "output_type": "stream",
     "text": [
      "<class 'collections.Counter'>\n"
     ]
    }
   ],
   "source": [
    "print(type(counter))  # <class 'collections.Counter'>  dict의 형태이지만 자료형은 counter이다."
   ]
  },
  {
   "cell_type": "markdown",
   "id": "c54fa39f",
   "metadata": {},
   "source": [
    "#### * Cointer(dict) -> list 형태로 반환."
   ]
  },
  {
   "cell_type": "code",
   "execution_count": 8,
   "id": "ffb84a43",
   "metadata": {},
   "outputs": [
    {
     "name": "stdout",
     "output_type": "stream",
     "text": [
      "[('quia', 4), ('qui', 4), ('ut', 3), ('sit', 3), ('voluptatem', 3), ('et', 2), ('enim', 2), ('voluptas', 2), ('aut', 2), ('sed', 2), ('dolorem', 2), ('ea', 2), ('vel', 2), ('eum', 2), ('Sed', 1), ('perspiciatis', 1), ('unde', 1), ('omnis', 1), ('iste', 1), ('natus', 1), ('error', 1), ('accusantium', 1), ('doloremque', 1), ('laudantium,', 1), ('totam', 1), ('rem', 1), ('aperiam,', 1), ('eaque', 1), ('ipsa', 1), ('quae', 1), ('ab', 1), ('illo', 1), ('inventore', 1), ('veritatis', 1), ('quasi', 1), ('architecto', 1), ('beatae', 1), ('vitae', 1), ('dicta', 1), ('sunt', 1), ('explicabo.', 1), ('Nemo', 1), ('ipsam', 1), ('aspernatur', 1), ('odit', 1), ('fugit,', 1), ('consequuntur', 1), ('magni', 1), ('dolores', 1), ('eos', 1), ('ratione', 1), ('sequi', 1), ('nesciunt.', 1), ('Neque', 1), ('porro', 1), ('quisquam', 1), ('est,', 1), ('ipsum', 1), ('dolor', 1), ('amet,', 1), ('consectetur,', 1), ('adipisci', 1), ('velit,', 1), ('non', 1), ('numquam', 1), ('eius', 1), ('modi', 1), ('tempora', 1), ('incidunt', 1), ('labore', 1), ('dolore', 1), ('magnam', 1), ('aliquam', 1), ('quaerat', 1), ('voluptatem.', 1), ('Ut', 1), ('ad', 1), ('minima', 1), ('veniam,', 1), ('quis', 1), ('nostrum', 1), ('exercitationem', 1), ('ullam', 1), ('corporis', 1), ('suscipit', 1), ('laboriosam,', 1), ('nisi', 1), ('aliquid', 1), ('ex', 1), ('commodi', 1), ('consequatur?', 1), ('Quis', 1), ('autem', 1), ('iure', 1), ('reprehenderit', 1), ('in', 1), ('voluptate', 1), ('velit', 1), ('esse', 1), ('quam', 1), ('nihil', 1), ('molestiae', 1), ('consequatur,', 1), ('illum', 1), ('fugiat', 1), ('quo', 1), ('nulla', 1), ('pariatur?', 1)]\n"
     ]
    }
   ],
   "source": [
    "print(counter.most_common())"
   ]
  },
  {
   "cell_type": "markdown",
   "id": "8c8d5e2d",
   "metadata": {},
   "source": [
    "#### * list -> dict 형태로 변환"
   ]
  },
  {
   "cell_type": "code",
   "execution_count": 10,
   "id": "3e6aa4f7",
   "metadata": {},
   "outputs": [
    {
     "name": "stdout",
     "output_type": "stream",
     "text": [
      "{'quia': 4, 'qui': 4, 'ut': 3, 'sit': 3, 'voluptatem': 3, 'et': 2, 'enim': 2, 'voluptas': 2, 'aut': 2, 'sed': 2, 'dolorem': 2, 'ea': 2, 'vel': 2, 'eum': 2, 'Sed': 1, 'perspiciatis': 1, 'unde': 1, 'omnis': 1, 'iste': 1, 'natus': 1, 'error': 1, 'accusantium': 1, 'doloremque': 1, 'laudantium,': 1, 'totam': 1, 'rem': 1, 'aperiam,': 1, 'eaque': 1, 'ipsa': 1, 'quae': 1, 'ab': 1, 'illo': 1, 'inventore': 1, 'veritatis': 1, 'quasi': 1, 'architecto': 1, 'beatae': 1, 'vitae': 1, 'dicta': 1, 'sunt': 1, 'explicabo.': 1, 'Nemo': 1, 'ipsam': 1, 'aspernatur': 1, 'odit': 1, 'fugit,': 1, 'consequuntur': 1, 'magni': 1, 'dolores': 1, 'eos': 1, 'ratione': 1, 'sequi': 1, 'nesciunt.': 1, 'Neque': 1, 'porro': 1, 'quisquam': 1, 'est,': 1, 'ipsum': 1, 'dolor': 1, 'amet,': 1, 'consectetur,': 1, 'adipisci': 1, 'velit,': 1, 'non': 1, 'numquam': 1, 'eius': 1, 'modi': 1, 'tempora': 1, 'incidunt': 1, 'labore': 1, 'dolore': 1, 'magnam': 1, 'aliquam': 1, 'quaerat': 1, 'voluptatem.': 1, 'Ut': 1, 'ad': 1, 'minima': 1, 'veniam,': 1, 'quis': 1, 'nostrum': 1, 'exercitationem': 1, 'ullam': 1, 'corporis': 1, 'suscipit': 1, 'laboriosam,': 1, 'nisi': 1, 'aliquid': 1, 'ex': 1, 'commodi': 1, 'consequatur?': 1, 'Quis': 1, 'autem': 1, 'iure': 1, 'reprehenderit': 1, 'in': 1, 'voluptate': 1, 'velit': 1, 'esse': 1, 'quam': 1, 'nihil': 1, 'molestiae': 1, 'consequatur,': 1, 'illum': 1, 'fugiat': 1, 'quo': 1, 'nulla': 1, 'pariatur?': 1}\n"
     ]
    }
   ],
   "source": [
    "dict_msg = dict(counter.most_common())\n",
    "print(dict_msg)"
   ]
  },
  {
   "cell_type": "code",
   "execution_count": 11,
   "id": "7af667ce",
   "metadata": {},
   "outputs": [
    {
     "name": "stdout",
     "output_type": "stream",
     "text": [
      "2\n"
     ]
    }
   ],
   "source": [
    "print(dict_msg['eum'])"
   ]
  },
  {
   "cell_type": "code",
   "execution_count": null,
   "id": "d5802b5f",
   "metadata": {},
   "outputs": [],
   "source": []
  }
 ],
 "metadata": {
  "kernelspec": {
   "display_name": "Python [conda env:tf_cpu] *",
   "language": "python",
   "name": "conda-env-tf_cpu-py"
  },
  "language_info": {
   "codemirror_mode": {
    "name": "ipython",
    "version": 3
   },
   "file_extension": ".py",
   "mimetype": "text/x-python",
   "name": "python",
   "nbconvert_exporter": "python",
   "pygments_lexer": "ipython3",
   "version": "3.7.13"
  }
 },
 "nbformat": 4,
 "nbformat_minor": 5
}

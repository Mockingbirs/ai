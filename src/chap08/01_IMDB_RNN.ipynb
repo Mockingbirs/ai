{
 "cells": [
  {
   "cell_type": "code",
   "execution_count": 1,
   "id": "1320caf9",
   "metadata": {},
   "outputs": [],
   "source": [
    "# IMDB 리뷰 데이터 셋\n",
    "from tensorflow.keras.datasets import imdb\n",
    "\n",
    "(train_input, train_target), (test_input, test_target) = imdb.load_data(num_words = 500, skip_top = 20) "
   ]
  },
  {
   "cell_type": "code",
   "execution_count": 2,
   "id": "ba605aa6",
   "metadata": {},
   "outputs": [
    {
     "name": "stdout",
     "output_type": "stream",
     "text": [
      "(25000,) (25000,)\n"
     ]
    }
   ],
   "source": [
    "print(train_input.shape, test_input.shape)"
   ]
  },
  {
   "cell_type": "code",
   "execution_count": 3,
   "id": "a47e86e7",
   "metadata": {},
   "outputs": [
    {
     "name": "stdout",
     "output_type": "stream",
     "text": [
      "218 189\n"
     ]
    }
   ],
   "source": [
    "print(len(train_input[0]), len(train_input[1]))"
   ]
  },
  {
   "cell_type": "code",
   "execution_count": 4,
   "id": "c33d64bf",
   "metadata": {},
   "outputs": [
    {
     "name": "stdout",
     "output_type": "stream",
     "text": [
      "[1, 194, 2, 194, 2, 78, 228, 5, 6, 2, 2, 2, 134, 26, 4, 2, 8, 118, 2, 14, 394, 20, 13, 119, 2, 189, 102, 5, 207, 110, 2, 21, 14, 69, 188, 8, 30, 23, 7, 4, 249, 126, 93, 4, 114, 9, 2, 2, 5, 2, 4, 116, 9, 35, 2, 4, 229, 9, 340, 2, 4, 118, 9, 4, 130, 2, 19, 4, 2, 5, 89, 29, 2, 46, 37, 4, 455, 9, 45, 43, 38, 2, 2, 398, 4, 2, 26, 2, 5, 163, 11, 2, 2, 4, 2, 9, 194, 2, 7, 2, 2, 349, 2, 148, 2, 2, 2, 15, 123, 125, 68, 2, 2, 15, 349, 165, 2, 98, 5, 4, 228, 9, 43, 2, 2, 15, 299, 120, 5, 120, 174, 11, 220, 175, 136, 50, 9, 2, 228, 2, 5, 2, 2, 245, 2, 5, 4, 2, 131, 152, 491, 18, 2, 32, 2, 2, 14, 9, 6, 371, 78, 22, 2, 64, 2, 9, 8, 168, 145, 23, 4, 2, 15, 16, 4, 2, 5, 28, 6, 52, 154, 462, 33, 89, 78, 285, 16, 145, 95]\n"
     ]
    }
   ],
   "source": [
    "print(train_input[1])"
   ]
  },
  {
   "cell_type": "code",
   "execution_count": 5,
   "id": "0bbd917c",
   "metadata": {},
   "outputs": [
    {
     "name": "stdout",
     "output_type": "stream",
     "text": [
      "[1 0 0 1 0 0 1 0 1 0 1 0 0 0 0 0 1 1 0 1]\n"
     ]
    }
   ],
   "source": [
    "print(train_target[:20])"
   ]
  },
  {
   "cell_type": "code",
   "execution_count": 6,
   "id": "4290605d",
   "metadata": {},
   "outputs": [
    {
     "name": "stdout",
     "output_type": "stream",
     "text": [
      "[194, 194, 78, 228, 5, 6, 134, 26, 4, 8, 118, 14, 394, 20, 13, 119, 189, 102, 5, 207, 110, 21, 14, 69, 188, 8, 30, 23, 7, 4, 249, 126, 93, 4, 114, 9, 5, 4, 116, 9, 35, 4, 229, 9, 340, 4, 118, 9, 4, 130, 19, 4, 5, 89, 29, 46, 37, 4, 455, 9, 45, 43, 38, 398, 4, 26, 5, 163, 11, 4, 9, 194, 7, 349, 148, 15, 123, 125, 68, 15, 349, 165, 98, 5, 4, 228, 9, 43, 15, 299, 120, 5, 120, 174, 11, 220, 175, 136, 50, 9, 228, 5, 245, 5, 4, 131, 152, 491, 18, 32, 14, 9, 6, 371, 78, 22, 64, 9, 8, 168, 145, 23, 4, 15, 16, 4, 5, 28, 6, 52, 154, 462, 33, 89, 78, 285, 16, 145, 95]\n"
     ]
    }
   ],
   "source": [
    "# 훈련 세트에서 2(어휘 사전에 없는 단어) 제외하기\n",
    "for i in range(len(train_input)):\n",
    "    train_input[i] = [w for w in train_input[i] if w > 2]\n",
    "    \n",
    "print(train_input[1])"
   ]
  },
  {
   "cell_type": "code",
   "execution_count": 7,
   "id": "4e1a4e24",
   "metadata": {},
   "outputs": [],
   "source": [
    "from sklearn.model_selection import train_test_split\n",
    "\n",
    "train_input, val_input, train_target, val_target = train_test_split(train_input, train_target, test_size=0.2, random_state=42)"
   ]
  },
  {
   "cell_type": "code",
   "execution_count": 8,
   "id": "672a4a62",
   "metadata": {},
   "outputs": [],
   "source": [
    "import numpy as np\n",
    "lengths = np.array([len(x) for x in train_input])"
   ]
  },
  {
   "cell_type": "code",
   "execution_count": 9,
   "id": "d2957402",
   "metadata": {},
   "outputs": [
    {
     "name": "stdout",
     "output_type": "stream",
     "text": [
      "164.67985 126.0\n"
     ]
    }
   ],
   "source": [
    "print(np.mean(lengths), np.median(lengths))"
   ]
  },
  {
   "cell_type": "code",
   "execution_count": 10,
   "id": "c1982a7a",
   "metadata": {},
   "outputs": [
    {
     "data": {
      "image/png": "[encoded data removed]",
      "text/plain": [
       "<Figure size 640x480 with 1 Axes>"
      ]
     },
     "metadata": {},
     "output_type": "display_data"
    }
   ],
   "source": [
    "import matplotlib.pyplot as plt\n",
    "\n",
    "plt.hist(lengths)\n",
    "plt.xlabel('length')\n",
    "plt.ylabel('frequency')\n",
    "plt.show()"
   ]
  },
  {
   "cell_type": "code",
   "execution_count": 11,
   "id": "71527bb9",
   "metadata": {},
   "outputs": [
    {
     "data": {
      "text/plain": [
       "(20000, 100)"
      ]
     },
     "execution_count": 11,
     "metadata": {},
     "output_type": "execute_result"
    }
   ],
   "source": [
    "from tensorflow.keras.preprocessing.sequence import pad_sequences\n",
    "\n",
    "train_seq = pad_sequences(train_input, maxlen=100)  #padding ='pre' ('post') 앞/ (뒤) 자르는 위치를 지정\n",
    "\n",
    "train_seq.shape"
   ]
  },
  {
   "cell_type": "code",
   "execution_count": 12,
   "id": "f6fd9e66",
   "metadata": {},
   "outputs": [
    {
     "data": {
      "text/plain": [
       "array([184,  13, 384,  48,  14,  16, 147,  59,  62,  69,  12,  46,  50,\n",
       "         9,  53,  74,  11,  14,  31, 151,  10,  10,   4,  20,   9, 364,\n",
       "       352,   5,  45,   6,  33, 269,   8, 142,   5,  17,  73,  17, 204,\n",
       "         5,  19,  55,  92,  66, 104,  14,  20,  93,  76, 151,  33,   4,\n",
       "        58,  12, 188, 151,  12, 215,  69, 224, 142,  73, 237,   6,   7,\n",
       "       188, 103,  14,  31,  10,  10, 451,   7,   5,  80,  91,  30,  34,\n",
       "        14,  20, 151,  50,  26, 131,  49,  84,  46,  50,  37,  80,  79,\n",
       "         6,  46,   7,  14,  20,  10,  10, 470, 158])"
      ]
     },
     "execution_count": 12,
     "metadata": {},
     "output_type": "execute_result"
    }
   ],
   "source": [
    "train_seq[0]"
   ]
  },
  {
   "cell_type": "code",
   "execution_count": 13,
   "id": "e71aa932",
   "metadata": {},
   "outputs": [
    {
     "data": {
      "text/plain": [
       "array([  0,   0,   0,   0,   0,   0,   0,   0,   0,   0,   0,   0,   0,\n",
       "         0,   0,   0,   0,   0,   0,   0,   0,   0,   0,   0,   0,   0,\n",
       "         0,   0,   0,   0,   0,   0,   0,   0,   0,   0,   0,   0, 195,\n",
       "        19,  49, 190,   4, 352, 183,  10,  10,  13,  82,  79,   4,  36,\n",
       "        71, 269,   8,  25,  19,  49,   7,   4,  10,  10,  48,  25,  40,\n",
       "        11,  40,   5,   4,  95,  14, 238,  56, 129,  10,  10,  21,  94,\n",
       "       364, 352,  11, 190,  24, 484,   7,  94, 205, 405,  10,  10,  87,\n",
       "        34,  49,   7, 290,  46,  48,  64,  18,   4])"
      ]
     },
     "execution_count": 13,
     "metadata": {},
     "output_type": "execute_result"
    }
   ],
   "source": [
    "train_seq[5]"
   ]
  },
  {
   "cell_type": "code",
   "execution_count": 14,
   "id": "c8d4b83b",
   "metadata": {},
   "outputs": [],
   "source": [
    "val_seq = pad_sequences(val_input, maxlen=100)"
   ]
  },
  {
   "cell_type": "markdown",
   "id": "994d49a4",
   "metadata": {},
   "source": [
    "### 순환 신경망 만들기"
   ]
  },
  {
   "cell_type": "code",
   "execution_count": 15,
   "id": "42d56840",
   "metadata": {},
   "outputs": [],
   "source": [
    "from tensorflow import keras\n",
    "\n",
    "model = keras.Sequential()\n",
    "\n",
    "model.add(keras.layers.SimpleRNN(8, input_shape=(100, 500)))\n",
    "model.add(keras.layers.Dense(1, activation='sigmoid'))"
   ]
  },
  {
   "cell_type": "code",
   "execution_count": 16,
   "id": "8a34baf4",
   "metadata": {},
   "outputs": [
    {
     "data": {
      "text/plain": [
       "(20000, 100, 500)"
      ]
     },
     "execution_count": 16,
     "metadata": {},
     "output_type": "execute_result"
    }
   ],
   "source": [
    "train_oh = keras.utils.to_categorical(train_seq)\n",
    "train_oh.shape"
   ]
  },
  {
   "cell_type": "code",
   "execution_count": 17,
   "id": "3facd2c0",
   "metadata": {},
   "outputs": [
    {
     "data": {
      "text/plain": [
       "(5000, 100, 500)"
      ]
     },
     "execution_count": 17,
     "metadata": {},
     "output_type": "execute_result"
    }
   ],
   "source": [
    "val_oh = keras.utils.to_categorical(val_seq)\n",
    "val_oh.shape"
   ]
  },
  {
   "cell_type": "code",
   "execution_count": 18,
   "id": "46de3aca",
   "metadata": {},
   "outputs": [
    {
     "data": {
      "text/plain": [
       "array([[[0., 0., 0., ..., 0., 0., 0.],\n",
       "        [0., 0., 0., ..., 0., 0., 0.],\n",
       "        [0., 0., 0., ..., 0., 0., 0.],\n",
       "        ...,\n",
       "        [0., 0., 0., ..., 0., 0., 0.],\n",
       "        [0., 0., 0., ..., 0., 0., 0.],\n",
       "        [0., 0., 0., ..., 0., 0., 0.]],\n",
       "\n",
       "       [[0., 0., 0., ..., 0., 0., 0.],\n",
       "        [0., 0., 0., ..., 0., 0., 0.],\n",
       "        [0., 0., 0., ..., 0., 0., 0.],\n",
       "        ...,\n",
       "        [0., 0., 0., ..., 0., 0., 0.],\n",
       "        [0., 0., 0., ..., 0., 0., 0.],\n",
       "        [0., 0., 0., ..., 0., 0., 0.]]], dtype=float32)"
      ]
     },
     "execution_count": 18,
     "metadata": {},
     "output_type": "execute_result"
    }
   ],
   "source": [
    "val_oh[0:2]"
   ]
  },
  {
   "cell_type": "code",
   "execution_count": 19,
   "id": "56e4d115",
   "metadata": {},
   "outputs": [
    {
     "name": "stdout",
     "output_type": "stream",
     "text": [
      "Model: \"sequential\"\n",
      "_________________________________________________________________\n",
      " Layer (type)                Output Shape              Param #   \n",
      "=================================================================\n",
      " simple_rnn (SimpleRNN)      (None, 8)                 4072      \n",
      "                                                                 \n",
      " dense (Dense)               (None, 1)                 9         \n",
      "                                                                 \n",
      "=================================================================\n",
      "Total params: 4,081\n",
      "Trainable params: 4,081\n",
      "Non-trainable params: 0\n",
      "_________________________________________________________________\n"
     ]
    }
   ],
   "source": [
    "model.summary()"
   ]
  },
  {
   "cell_type": "code",
   "execution_count": 20,
   "id": "fdce7888",
   "metadata": {},
   "outputs": [
    {
     "name": "stdout",
     "output_type": "stream",
     "text": [
      "Epoch 1/200\n",
      "313/313 [==============================] - 11s 30ms/step - loss: 0.6988 - accuracy: 0.5016 - val_loss: 0.6946 - val_accuracy: 0.5100\n",
      "Epoch 2/200\n",
      "313/313 [==============================] - 9s 29ms/step - loss: 0.6932 - accuracy: 0.5122 - val_loss: 0.6925 - val_accuracy: 0.5156\n",
      "Epoch 3/200\n",
      "313/313 [==============================] - 9s 29ms/step - loss: 0.6905 - accuracy: 0.5254 - val_loss: 0.6907 - val_accuracy: 0.5252\n",
      "Epoch 4/200\n",
      "313/313 [==============================] - 9s 29ms/step - loss: 0.6881 - accuracy: 0.5362 - val_loss: 0.6888 - val_accuracy: 0.5350\n",
      "Epoch 5/200\n",
      "313/313 [==============================] - 9s 29ms/step - loss: 0.6855 - accuracy: 0.5486 - val_loss: 0.6870 - val_accuracy: 0.5420\n",
      "Epoch 6/200\n",
      "313/313 [==============================] - 9s 29ms/step - loss: 0.6829 - accuracy: 0.5594 - val_loss: 0.6852 - val_accuracy: 0.5490\n",
      "Epoch 7/200\n",
      "313/313 [==============================] - 10s 30ms/step - loss: 0.6801 - accuracy: 0.5694 - val_loss: 0.6832 - val_accuracy: 0.5510\n",
      "Epoch 8/200\n",
      "313/313 [==============================] - 10s 30ms/step - loss: 0.6765 - accuracy: 0.5792 - val_loss: 0.6782 - val_accuracy: 0.5770\n",
      "Epoch 9/200\n",
      "313/313 [==============================] - 10s 30ms/step - loss: 0.6611 - accuracy: 0.6193 - val_loss: 0.6527 - val_accuracy: 0.6436\n",
      "Epoch 10/200\n",
      "313/313 [==============================] - 9s 30ms/step - loss: 0.6326 - accuracy: 0.6746 - val_loss: 0.6247 - val_accuracy: 0.6870\n",
      "Epoch 11/200\n",
      "313/313 [==============================] - 9s 30ms/step - loss: 0.6051 - accuracy: 0.7067 - val_loss: 0.6003 - val_accuracy: 0.7080\n",
      "Epoch 12/200\n",
      "313/313 [==============================] - 9s 30ms/step - loss: 0.5802 - accuracy: 0.7297 - val_loss: 0.5805 - val_accuracy: 0.7218\n",
      "Epoch 13/200\n",
      "313/313 [==============================] - 9s 30ms/step - loss: 0.5583 - accuracy: 0.7473 - val_loss: 0.5587 - val_accuracy: 0.7416\n",
      "Epoch 14/200\n",
      "313/313 [==============================] - 10s 31ms/step - loss: 0.5385 - accuracy: 0.7620 - val_loss: 0.5413 - val_accuracy: 0.7542\n",
      "Epoch 15/200\n",
      "313/313 [==============================] - 9s 30ms/step - loss: 0.5210 - accuracy: 0.7735 - val_loss: 0.5269 - val_accuracy: 0.7614\n",
      "Epoch 16/200\n",
      "313/313 [==============================] - 9s 30ms/step - loss: 0.5063 - accuracy: 0.7812 - val_loss: 0.5146 - val_accuracy: 0.7754\n",
      "Epoch 17/200\n",
      "313/313 [==============================] - 9s 30ms/step - loss: 0.4936 - accuracy: 0.7880 - val_loss: 0.5040 - val_accuracy: 0.7772\n",
      "Epoch 18/200\n",
      "313/313 [==============================] - 9s 28ms/step - loss: 0.4818 - accuracy: 0.7935 - val_loss: 0.4934 - val_accuracy: 0.7830\n",
      "Epoch 19/200\n",
      "313/313 [==============================] - 10s 31ms/step - loss: 0.4713 - accuracy: 0.7997 - val_loss: 0.4873 - val_accuracy: 0.7816\n",
      "Epoch 20/200\n",
      "313/313 [==============================] - 9s 30ms/step - loss: 0.4617 - accuracy: 0.8044 - val_loss: 0.4803 - val_accuracy: 0.7876\n",
      "Epoch 21/200\n",
      "313/313 [==============================] - 10s 31ms/step - loss: 0.4532 - accuracy: 0.8092 - val_loss: 0.4699 - val_accuracy: 0.7914\n",
      "Epoch 22/200\n",
      "313/313 [==============================] - 10s 31ms/step - loss: 0.4459 - accuracy: 0.8106 - val_loss: 0.4687 - val_accuracy: 0.7920\n",
      "Epoch 23/200\n",
      "313/313 [==============================] - 8s 27ms/step - loss: 0.4389 - accuracy: 0.8120 - val_loss: 0.4606 - val_accuracy: 0.7960\n",
      "Epoch 24/200\n",
      "313/313 [==============================] - 9s 30ms/step - loss: 0.4330 - accuracy: 0.8161 - val_loss: 0.4554 - val_accuracy: 0.7994\n",
      "Epoch 25/200\n",
      "313/313 [==============================] - 10s 31ms/step - loss: 0.4275 - accuracy: 0.8195 - val_loss: 0.4564 - val_accuracy: 0.7966\n",
      "Epoch 26/200\n",
      "313/313 [==============================] - 10s 32ms/step - loss: 0.4231 - accuracy: 0.8202 - val_loss: 0.4500 - val_accuracy: 0.8016\n",
      "Epoch 27/200\n",
      "313/313 [==============================] - 10s 31ms/step - loss: 0.4192 - accuracy: 0.8225 - val_loss: 0.4509 - val_accuracy: 0.7984\n",
      "Epoch 28/200\n",
      "313/313 [==============================] - 10s 30ms/step - loss: 0.4147 - accuracy: 0.8248 - val_loss: 0.4463 - val_accuracy: 0.8026\n",
      "Epoch 29/200\n",
      "313/313 [==============================] - 10s 31ms/step - loss: 0.4117 - accuracy: 0.8258 - val_loss: 0.4484 - val_accuracy: 0.8002\n",
      "Epoch 30/200\n",
      "313/313 [==============================] - 10s 31ms/step - loss: 0.4089 - accuracy: 0.8259 - val_loss: 0.4457 - val_accuracy: 0.8012\n",
      "Epoch 31/200\n",
      "313/313 [==============================] - 10s 31ms/step - loss: 0.4060 - accuracy: 0.8283 - val_loss: 0.4412 - val_accuracy: 0.8038\n",
      "Epoch 32/200\n",
      "313/313 [==============================] - 10s 31ms/step - loss: 0.4029 - accuracy: 0.8292 - val_loss: 0.4456 - val_accuracy: 0.8012\n",
      "Epoch 33/200\n",
      "313/313 [==============================] - 10s 31ms/step - loss: 0.4009 - accuracy: 0.8306 - val_loss: 0.4415 - val_accuracy: 0.8022\n",
      "Epoch 34/200\n",
      "313/313 [==============================] - 10s 30ms/step - loss: 0.3981 - accuracy: 0.8316 - val_loss: 0.4384 - val_accuracy: 0.8014\n",
      "Epoch 35/200\n",
      "313/313 [==============================] - 10s 31ms/step - loss: 0.3963 - accuracy: 0.8322 - val_loss: 0.4382 - val_accuracy: 0.8022\n",
      "Epoch 36/200\n",
      "313/313 [==============================] - 10s 32ms/step - loss: 0.3946 - accuracy: 0.8336 - val_loss: 0.4429 - val_accuracy: 0.7994\n",
      "Epoch 37/200\n",
      "313/313 [==============================] - 10s 32ms/step - loss: 0.3930 - accuracy: 0.8349 - val_loss: 0.4356 - val_accuracy: 0.8008\n",
      "Epoch 38/200\n",
      "313/313 [==============================] - 10s 31ms/step - loss: 0.3924 - accuracy: 0.8334 - val_loss: 0.4356 - val_accuracy: 0.8036\n",
      "Epoch 39/200\n",
      "313/313 [==============================] - 10s 32ms/step - loss: 0.3896 - accuracy: 0.8363 - val_loss: 0.4324 - val_accuracy: 0.8048\n",
      "Epoch 40/200\n",
      "313/313 [==============================] - 10s 32ms/step - loss: 0.3885 - accuracy: 0.8349 - val_loss: 0.4369 - val_accuracy: 0.8030\n",
      "Epoch 41/200\n",
      "313/313 [==============================] - 10s 32ms/step - loss: 0.3866 - accuracy: 0.8367 - val_loss: 0.4364 - val_accuracy: 0.8032\n",
      "Epoch 42/200\n",
      "313/313 [==============================] - 10s 32ms/step - loss: 0.3855 - accuracy: 0.8369 - val_loss: 0.4341 - val_accuracy: 0.8024\n"
     ]
    }
   ],
   "source": [
    "model.compile(optimizer = keras.optimizers.RMSprop(learning_rate = 1e-4), loss = 'binary_crossentropy', metrics='accuracy') \n",
    "\n",
    "checkpoint_cb = keras.callbacks.ModelCheckpoint('best-simpleRnn-model.h5', save_best_only = True)\n",
    "early_stopping_cb = keras.callbacks.EarlyStopping(patience=3, restore_best_weights = True)\n",
    "\n",
    "history = model.fit(train_oh, train_target, epochs = 200, batch_size=64, validation_data=(val_oh, val_target), callbacks=[checkpoint_cb, early_stopping_cb])"
   ]
  },
  {
   "cell_type": "code",
   "execution_count": 21,
   "id": "1e8ea228",
   "metadata": {
    "scrolled": true
   },
   "outputs": [
    {
     "data": {
      "image/png": "[encoded data removed]",
      "text/plain": [
       "<Figure size 640x480 with 1 Axes>"
      ]
     },
     "metadata": {},
     "output_type": "display_data"
    }
   ],
   "source": [
    "plt.plot(history.history['loss'])\n",
    "plt.plot(history.history['val_loss'])\n",
    "plt.xlabel('epoch')\n",
    "plt.ylabel('loss')\n",
    "plt.legend(['train', 'val'])\n",
    "plt.show()"
   ]
  },
  {
   "cell_type": "markdown",
   "id": "2787acfe",
   "metadata": {},
   "source": [
    "### 단어 임베딩 사용하기"
   ]
  },
  {
   "cell_type": "code",
   "execution_count": 22,
   "id": "2637aea0",
   "metadata": {},
   "outputs": [
    {
     "name": "stdout",
     "output_type": "stream",
     "text": [
      "Model: \"sequential_1\"\n",
      "_________________________________________________________________\n",
      " Layer (type)                Output Shape              Param #   \n",
      "=================================================================\n",
      " embedding (Embedding)       (None, 100, 16)           8000      \n",
      "                                                                 \n",
      " simple_rnn_1 (SimpleRNN)    (None, 8)                 200       \n",
      "                                                                 \n",
      " dense_1 (Dense)             (None, 1)                 9         \n",
      "                                                                 \n",
      "=================================================================\n",
      "Total params: 8,209\n",
      "Trainable params: 8,209\n",
      "Non-trainable params: 0\n",
      "_________________________________________________________________\n"
     ]
    }
   ],
   "source": [
    "model2 = keras.Sequential()\n",
    "model2.add(keras.layers.Embedding(500, 16, input_length=100))\n",
    "model2.add(keras.layers.SimpleRNN(8))\n",
    "model2.add(keras.layers.Dense(1, activation='sigmoid'))\n",
    "\n",
    "model2.summary()"
   ]
  },
  {
   "cell_type": "code",
   "execution_count": 24,
   "id": "91e25187",
   "metadata": {},
   "outputs": [
    {
     "name": "stdout",
     "output_type": "stream",
     "text": [
      "Epoch 1/200\n",
      "313/313 [==============================] - 10s 27ms/step - loss: 0.6853 - accuracy: 0.5549 - val_loss: 0.6895 - val_accuracy: 0.5398\n",
      "Epoch 2/200\n",
      "313/313 [==============================] - 8s 24ms/step - loss: 0.6756 - accuracy: 0.5986 - val_loss: 0.6764 - val_accuracy: 0.5970\n",
      "Epoch 3/200\n",
      "313/313 [==============================] - 9s 27ms/step - loss: 0.6550 - accuracy: 0.6707 - val_loss: 0.6528 - val_accuracy: 0.6786\n",
      "Epoch 4/200\n",
      "313/313 [==============================] - 8s 25ms/step - loss: 0.6299 - accuracy: 0.7236 - val_loss: 0.6313 - val_accuracy: 0.7150\n",
      "Epoch 5/200\n",
      "313/313 [==============================] - 8s 25ms/step - loss: 0.6067 - accuracy: 0.7520 - val_loss: 0.6168 - val_accuracy: 0.7190\n",
      "Epoch 6/200\n",
      "313/313 [==============================] - 7s 23ms/step - loss: 0.5855 - accuracy: 0.7675 - val_loss: 0.5909 - val_accuracy: 0.7572\n",
      "Epoch 7/200\n",
      "313/313 [==============================] - 8s 25ms/step - loss: 0.5657 - accuracy: 0.7818 - val_loss: 0.5789 - val_accuracy: 0.7524\n",
      "Epoch 8/200\n",
      "313/313 [==============================] - 7s 23ms/step - loss: 0.5480 - accuracy: 0.7910 - val_loss: 0.5620 - val_accuracy: 0.7678\n",
      "Epoch 9/200\n",
      "313/313 [==============================] - 8s 24ms/step - loss: 0.5310 - accuracy: 0.7985 - val_loss: 0.5562 - val_accuracy: 0.7590\n",
      "Epoch 10/200\n",
      "313/313 [==============================] - 8s 26ms/step - loss: 0.5167 - accuracy: 0.8027 - val_loss: 0.5361 - val_accuracy: 0.7796\n",
      "Epoch 11/200\n",
      "313/313 [==============================] - 8s 24ms/step - loss: 0.5025 - accuracy: 0.8093 - val_loss: 0.5243 - val_accuracy: 0.7842\n",
      "Epoch 12/200\n",
      "313/313 [==============================] - 8s 26ms/step - loss: 0.4902 - accuracy: 0.8103 - val_loss: 0.5184 - val_accuracy: 0.7780\n",
      "Epoch 13/200\n",
      "313/313 [==============================] - 9s 28ms/step - loss: 0.4792 - accuracy: 0.8131 - val_loss: 0.5089 - val_accuracy: 0.7794\n",
      "Epoch 14/200\n",
      "313/313 [==============================] - 8s 26ms/step - loss: 0.4690 - accuracy: 0.8155 - val_loss: 0.5007 - val_accuracy: 0.7832\n",
      "Epoch 15/200\n",
      "313/313 [==============================] - 9s 27ms/step - loss: 0.4596 - accuracy: 0.8189 - val_loss: 0.4921 - val_accuracy: 0.7872\n",
      "Epoch 16/200\n",
      "313/313 [==============================] - 8s 25ms/step - loss: 0.4521 - accuracy: 0.8184 - val_loss: 0.4887 - val_accuracy: 0.7886\n",
      "Epoch 17/200\n",
      "313/313 [==============================] - 8s 26ms/step - loss: 0.4446 - accuracy: 0.8211 - val_loss: 0.4840 - val_accuracy: 0.7852\n",
      "Epoch 18/200\n",
      "313/313 [==============================] - 9s 27ms/step - loss: 0.4371 - accuracy: 0.8230 - val_loss: 0.4836 - val_accuracy: 0.7842\n",
      "Epoch 19/200\n",
      "313/313 [==============================] - 8s 25ms/step - loss: 0.4317 - accuracy: 0.8245 - val_loss: 0.4784 - val_accuracy: 0.7864\n",
      "Epoch 20/200\n",
      "313/313 [==============================] - 8s 25ms/step - loss: 0.4260 - accuracy: 0.8254 - val_loss: 0.4773 - val_accuracy: 0.7856\n",
      "Epoch 21/200\n",
      "313/313 [==============================] - 8s 26ms/step - loss: 0.4211 - accuracy: 0.8270 - val_loss: 0.4746 - val_accuracy: 0.7866\n",
      "Epoch 22/200\n",
      "313/313 [==============================] - 8s 26ms/step - loss: 0.4149 - accuracy: 0.8289 - val_loss: 0.4838 - val_accuracy: 0.7774\n",
      "Epoch 23/200\n",
      "313/313 [==============================] - 8s 25ms/step - loss: 0.4103 - accuracy: 0.8313 - val_loss: 0.4717 - val_accuracy: 0.7896\n",
      "Epoch 24/200\n",
      "313/313 [==============================] - 8s 24ms/step - loss: 0.4074 - accuracy: 0.8295 - val_loss: 0.4696 - val_accuracy: 0.7896\n",
      "Epoch 25/200\n",
      "313/313 [==============================] - 8s 24ms/step - loss: 0.4031 - accuracy: 0.8332 - val_loss: 0.4705 - val_accuracy: 0.7874\n",
      "Epoch 26/200\n",
      "313/313 [==============================] - 9s 27ms/step - loss: 0.3984 - accuracy: 0.8342 - val_loss: 0.4721 - val_accuracy: 0.7862\n",
      "Epoch 27/200\n",
      "313/313 [==============================] - 8s 26ms/step - loss: 0.3957 - accuracy: 0.8357 - val_loss: 0.4661 - val_accuracy: 0.7930\n",
      "Epoch 28/200\n",
      "313/313 [==============================] - 7s 23ms/step - loss: 0.3925 - accuracy: 0.8372 - val_loss: 0.4702 - val_accuracy: 0.7878\n",
      "Epoch 29/200\n",
      "313/313 [==============================] - 8s 26ms/step - loss: 0.3872 - accuracy: 0.8392 - val_loss: 0.4755 - val_accuracy: 0.7834\n",
      "Epoch 30/200\n",
      "313/313 [==============================] - 9s 27ms/step - loss: 0.3848 - accuracy: 0.8397 - val_loss: 0.4761 - val_accuracy: 0.7868\n"
     ]
    }
   ],
   "source": [
    "model2.compile(optimizer = keras.optimizers.RMSprop(learning_rate = 1e-4), loss = 'binary_crossentropy', metrics='accuracy') \n",
    "\n",
    "checkpoint_cb = keras.callbacks.ModelCheckpoint('best-embeddingRnn-model.h5', save_best_only = True)\n",
    "early_stopping_cb = keras.callbacks.EarlyStopping(patience=3, restore_best_weights = True)\n",
    "\n",
    "history = model2.fit(train_seq, train_target, epochs = 200, batch_size=64, validation_data=(val_seq, val_target), callbacks=[checkpoint_cb, early_stopping_cb])"
   ]
  },
  {
   "cell_type": "code",
   "execution_count": 25,
   "id": "17c5be3e",
   "metadata": {},
   "outputs": [
    {
     "data": {
      "image/png": "[encoded data removed]",
      "text/plain": [
       "<Figure size 640x480 with 1 Axes>"
      ]
     },
     "metadata": {},
     "output_type": "display_data"
    }
   ],
   "source": [
    "plt.plot(history.history['loss'])\n",
    "plt.plot(history.history['val_loss'])\n",
    "plt.xlabel('epoch')\n",
    "plt.ylabel('loss')\n",
    "plt.legend(['train', 'val'])\n",
    "plt.show()"
   ]
  },
  {
   "cell_type": "code",
   "execution_count": null,
   "id": "caf6a7ec",
   "metadata": {},
   "outputs": [],
   "source": []
  }
 ],
 "metadata": {
  "kernelspec": {
   "display_name": "Python [conda env:tf_cpu] *",
   "language": "python",
   "name": "conda-env-tf_cpu-py"
  },
  "language_info": {
   "codemirror_mode": {
    "name": "ipython",
    "version": 3
   },
   "file_extension": ".py",
   "mimetype": "text/x-python",
   "name": "python",
   "nbconvert_exporter": "python",
   "pygments_lexer": "ipython3",
   "version": "3.7.13"
  }
 },
 "nbformat": 4,
 "nbformat_minor": 5
}

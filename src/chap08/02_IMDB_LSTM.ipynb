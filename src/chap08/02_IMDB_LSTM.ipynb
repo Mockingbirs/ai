{
 "cells": [
  {
   "cell_type": "code",
   "execution_count": 1,
   "id": "1320caf9",
   "metadata": {},
   "outputs": [],
   "source": [
    "# IMDB 리뷰 데이터 셋\n",
    "from tensorflow.keras.datasets import imdb\n",
    "\n",
    "(train_input, train_target), (test_input, test_target) = imdb.load_data(num_words = 500) #  어휘사전에 등록된 단어를 500개만 가져오자!, skip_top=20  상위 20개는 스킵하자!"
   ]
  },
  {
   "cell_type": "code",
   "execution_count": 2,
   "id": "ba605aa6",
   "metadata": {},
   "outputs": [
    {
     "name": "stdout",
     "output_type": "stream",
     "text": [
      "(25000,) (25000,)\n"
     ]
    }
   ],
   "source": [
    "print(train_input.shape, test_input.shape)"
   ]
  },
  {
   "cell_type": "code",
   "execution_count": 3,
   "id": "a47e86e7",
   "metadata": {},
   "outputs": [
    {
     "name": "stdout",
     "output_type": "stream",
     "text": [
      "218 189\n"
     ]
    }
   ],
   "source": [
    "print(len(train_input[0]), len(train_input[1]))"
   ]
  },
  {
   "cell_type": "code",
   "execution_count": 4,
   "id": "c33d64bf",
   "metadata": {},
   "outputs": [
    {
     "name": "stdout",
     "output_type": "stream",
     "text": [
      "[1, 194, 2, 194, 2, 78, 228, 5, 6, 2, 2, 2, 134, 26, 4, 2, 8, 118, 2, 14, 394, 20, 13, 119, 2, 189, 102, 5, 207, 110, 2, 21, 14, 69, 188, 8, 30, 23, 7, 4, 249, 126, 93, 4, 114, 9, 2, 2, 5, 2, 4, 116, 9, 35, 2, 4, 229, 9, 340, 2, 4, 118, 9, 4, 130, 2, 19, 4, 2, 5, 89, 29, 2, 46, 37, 4, 455, 9, 45, 43, 38, 2, 2, 398, 4, 2, 26, 2, 5, 163, 11, 2, 2, 4, 2, 9, 194, 2, 7, 2, 2, 349, 2, 148, 2, 2, 2, 15, 123, 125, 68, 2, 2, 15, 349, 165, 2, 98, 5, 4, 228, 9, 43, 2, 2, 15, 299, 120, 5, 120, 174, 11, 220, 175, 136, 50, 9, 2, 228, 2, 5, 2, 2, 245, 2, 5, 4, 2, 131, 152, 491, 18, 2, 32, 2, 2, 14, 9, 6, 371, 78, 22, 2, 64, 2, 9, 8, 168, 145, 23, 4, 2, 15, 16, 4, 2, 5, 28, 6, 52, 154, 462, 33, 89, 78, 285, 16, 145, 95]\n"
     ]
    }
   ],
   "source": [
    "print(train_input[1])"
   ]
  },
  {
   "cell_type": "code",
   "execution_count": 5,
   "id": "0bbd917c",
   "metadata": {},
   "outputs": [
    {
     "name": "stdout",
     "output_type": "stream",
     "text": [
      "[1 0 0 1 0 0 1 0 1 0 1 0 0 0 0 0 1 1 0 1]\n"
     ]
    }
   ],
   "source": [
    "print(train_target[:20])"
   ]
  },
  {
   "cell_type": "code",
   "execution_count": 6,
   "id": "4290605d",
   "metadata": {},
   "outputs": [
    {
     "name": "stdout",
     "output_type": "stream",
     "text": [
      "[194, 194, 78, 228, 5, 6, 134, 26, 4, 8, 118, 14, 394, 20, 13, 119, 189, 102, 5, 207, 110, 21, 14, 69, 188, 8, 30, 23, 7, 4, 249, 126, 93, 4, 114, 9, 5, 4, 116, 9, 35, 4, 229, 9, 340, 4, 118, 9, 4, 130, 19, 4, 5, 89, 29, 46, 37, 4, 455, 9, 45, 43, 38, 398, 4, 26, 5, 163, 11, 4, 9, 194, 7, 349, 148, 15, 123, 125, 68, 15, 349, 165, 98, 5, 4, 228, 9, 43, 15, 299, 120, 5, 120, 174, 11, 220, 175, 136, 50, 9, 228, 5, 245, 5, 4, 131, 152, 491, 18, 32, 14, 9, 6, 371, 78, 22, 64, 9, 8, 168, 145, 23, 4, 15, 16, 4, 5, 28, 6, 52, 154, 462, 33, 89, 78, 285, 16, 145, 95]\n"
     ]
    }
   ],
   "source": [
    "# 훈련 세트에서 2(어휘 사전에 없는 단어) 제외하기\n",
    "for i in range(len(train_input)):\n",
    "    train_input[i] = [w for w in train_input[i] if w > 2]\n",
    "    \n",
    "print(train_input[1])"
   ]
  },
  {
   "cell_type": "code",
   "execution_count": 7,
   "id": "4e1a4e24",
   "metadata": {},
   "outputs": [],
   "source": [
    "from sklearn.model_selection import train_test_split\n",
    "\n",
    "train_input, val_input, train_target, val_target = train_test_split(train_input, train_target, test_size=0.2, random_state=42)"
   ]
  },
  {
   "cell_type": "code",
   "execution_count": 8,
   "id": "672a4a62",
   "metadata": {},
   "outputs": [],
   "source": [
    "import numpy as np\n",
    "lengths = np.array([len(x) for x in train_input])"
   ]
  },
  {
   "cell_type": "code",
   "execution_count": 9,
   "id": "d2957402",
   "metadata": {},
   "outputs": [
    {
     "name": "stdout",
     "output_type": "stream",
     "text": [
      "164.67985 126.0\n"
     ]
    }
   ],
   "source": [
    "print(np.mean(lengths), np.median(lengths))"
   ]
  },
  {
   "cell_type": "code",
   "execution_count": 10,
   "id": "c1982a7a",
   "metadata": {},
   "outputs": [
    {
     "data": {
      "image/png": "[encoded data removed]",
      "text/plain": [
       "<Figure size 640x480 with 1 Axes>"
      ]
     },
     "metadata": {},
     "output_type": "display_data"
    }
   ],
   "source": [
    "import matplotlib.pyplot as plt\n",
    "\n",
    "plt.hist(lengths)\n",
    "plt.xlabel('length')\n",
    "plt.ylabel('frequency')\n",
    "plt.show()"
   ]
  },
  {
   "cell_type": "code",
   "execution_count": 11,
   "id": "71527bb9",
   "metadata": {},
   "outputs": [
    {
     "data": {
      "text/plain": [
       "(20000, 100)"
      ]
     },
     "execution_count": 11,
     "metadata": {},
     "output_type": "execute_result"
    }
   ],
   "source": [
    "from tensorflow.keras.preprocessing.sequence import pad_sequences\n",
    "\n",
    "train_seq = pad_sequences(train_input, maxlen=100)  #padding ='pre' ('post') 앞/ (뒤) 자르는 위치를 지정\n",
    "\n",
    "train_seq.shape"
   ]
  },
  {
   "cell_type": "code",
   "execution_count": 12,
   "id": "f6fd9e66",
   "metadata": {},
   "outputs": [
    {
     "data": {
      "text/plain": [
       "array([184,  13, 384,  48,  14,  16, 147,  59,  62,  69,  12,  46,  50,\n",
       "         9,  53,  74,  11,  14,  31, 151,  10,  10,   4,  20,   9, 364,\n",
       "       352,   5,  45,   6,  33, 269,   8, 142,   5,  17,  73,  17, 204,\n",
       "         5,  19,  55,  92,  66, 104,  14,  20,  93,  76, 151,  33,   4,\n",
       "        58,  12, 188, 151,  12, 215,  69, 224, 142,  73, 237,   6,   7,\n",
       "       188, 103,  14,  31,  10,  10, 451,   7,   5,  80,  91,  30,  34,\n",
       "        14,  20, 151,  50,  26, 131,  49,  84,  46,  50,  37,  80,  79,\n",
       "         6,  46,   7,  14,  20,  10,  10, 470, 158])"
      ]
     },
     "execution_count": 12,
     "metadata": {},
     "output_type": "execute_result"
    }
   ],
   "source": [
    "train_seq[0]"
   ]
  },
  {
   "cell_type": "code",
   "execution_count": 13,
   "id": "e71aa932",
   "metadata": {},
   "outputs": [
    {
     "data": {
      "text/plain": [
       "array([  0,   0,   0,   0,   0,   0,   0,   0,   0,   0,   0,   0,   0,\n",
       "         0,   0,   0,   0,   0,   0,   0,   0,   0,   0,   0,   0,   0,\n",
       "         0,   0,   0,   0,   0,   0,   0,   0,   0,   0,   0,   0, 195,\n",
       "        19,  49, 190,   4, 352, 183,  10,  10,  13,  82,  79,   4,  36,\n",
       "        71, 269,   8,  25,  19,  49,   7,   4,  10,  10,  48,  25,  40,\n",
       "        11,  40,   5,   4,  95,  14, 238,  56, 129,  10,  10,  21,  94,\n",
       "       364, 352,  11, 190,  24, 484,   7,  94, 205, 405,  10,  10,  87,\n",
       "        34,  49,   7, 290,  46,  48,  64,  18,   4])"
      ]
     },
     "execution_count": 13,
     "metadata": {},
     "output_type": "execute_result"
    }
   ],
   "source": [
    "train_seq[5]"
   ]
  },
  {
   "cell_type": "code",
   "execution_count": 14,
   "id": "c8d4b83b",
   "metadata": {},
   "outputs": [],
   "source": [
    "val_seq = pad_sequences(val_input, maxlen=100)"
   ]
  },
  {
   "cell_type": "markdown",
   "id": "994d49a4",
   "metadata": {},
   "source": [
    "### 순환 신경망 만들기"
   ]
  },
  {
   "cell_type": "code",
   "execution_count": 15,
   "id": "42d56840",
   "metadata": {},
   "outputs": [
    {
     "name": "stdout",
     "output_type": "stream",
     "text": [
      "Model: \"sequential\"\n",
      "_________________________________________________________________\n",
      " Layer (type)                Output Shape              Param #   \n",
      "=================================================================\n",
      " embedding (Embedding)       (None, 100, 16)           8000      \n",
      "                                                                 \n",
      " lstm (LSTM)                 (None, 8)                 800       \n",
      "                                                                 \n",
      " dense (Dense)               (None, 1)                 9         \n",
      "                                                                 \n",
      "=================================================================\n",
      "Total params: 8,809\n",
      "Trainable params: 8,809\n",
      "Non-trainable params: 0\n",
      "_________________________________________________________________\n"
     ]
    }
   ],
   "source": [
    "from tensorflow import keras\n",
    "\n",
    "model = keras.Sequential()\n",
    "\n",
    "model.add(keras.layers.Embedding(500, 16, input_length=100))\n",
    "model.add(keras.layers.LSTM(8))\n",
    "model.add(keras.layers.Dense(1, activation='sigmoid'))\n",
    "\n",
    "model.summary()"
   ]
  },
  {
   "cell_type": "code",
   "execution_count": 16,
   "id": "fdce7888",
   "metadata": {},
   "outputs": [
    {
     "name": "stdout",
     "output_type": "stream",
     "text": [
      "Epoch 1/200\n",
      "313/313 [==============================] - 15s 37ms/step - loss: 0.6921 - accuracy: 0.5658 - val_loss: 0.6906 - val_accuracy: 0.6168\n",
      "Epoch 2/200\n",
      "313/313 [==============================] - 11s 35ms/step - loss: 0.6874 - accuracy: 0.6433 - val_loss: 0.6825 - val_accuracy: 0.6744\n",
      "Epoch 3/200\n",
      "313/313 [==============================] - 11s 36ms/step - loss: 0.6630 - accuracy: 0.6890 - val_loss: 0.6262 - val_accuracy: 0.7304\n",
      "Epoch 4/200\n",
      "313/313 [==============================] - 11s 36ms/step - loss: 0.5984 - accuracy: 0.7325 - val_loss: 0.5794 - val_accuracy: 0.7424\n",
      "Epoch 5/200\n",
      "313/313 [==============================] - 12s 37ms/step - loss: 0.5680 - accuracy: 0.7516 - val_loss: 0.5580 - val_accuracy: 0.7496\n",
      "Epoch 6/200\n",
      "313/313 [==============================] - 13s 41ms/step - loss: 0.5458 - accuracy: 0.7653 - val_loss: 0.5394 - val_accuracy: 0.7628\n",
      "Epoch 7/200\n",
      "313/313 [==============================] - 13s 43ms/step - loss: 0.5254 - accuracy: 0.7760 - val_loss: 0.5229 - val_accuracy: 0.7708\n",
      "Epoch 8/200\n",
      "313/313 [==============================] - 13s 43ms/step - loss: 0.5050 - accuracy: 0.7853 - val_loss: 0.5024 - val_accuracy: 0.7784\n",
      "Epoch 9/200\n",
      "313/313 [==============================] - 12s 39ms/step - loss: 0.4856 - accuracy: 0.7929 - val_loss: 0.4851 - val_accuracy: 0.7862\n",
      "Epoch 10/200\n",
      "313/313 [==============================] - 11s 36ms/step - loss: 0.4669 - accuracy: 0.8016 - val_loss: 0.4685 - val_accuracy: 0.7952\n",
      "Epoch 11/200\n",
      "313/313 [==============================] - 11s 36ms/step - loss: 0.4514 - accuracy: 0.8084 - val_loss: 0.4551 - val_accuracy: 0.8006\n",
      "Epoch 12/200\n",
      "313/313 [==============================] - 11s 36ms/step - loss: 0.4384 - accuracy: 0.8120 - val_loss: 0.4446 - val_accuracy: 0.8022\n",
      "Epoch 13/200\n",
      "313/313 [==============================] - 12s 37ms/step - loss: 0.4282 - accuracy: 0.8162 - val_loss: 0.4364 - val_accuracy: 0.8092\n",
      "Epoch 14/200\n",
      "313/313 [==============================] - 11s 36ms/step - loss: 0.4206 - accuracy: 0.8184 - val_loss: 0.4306 - val_accuracy: 0.8104\n",
      "Epoch 15/200\n",
      "313/313 [==============================] - 13s 42ms/step - loss: 0.4140 - accuracy: 0.8209 - val_loss: 0.4271 - val_accuracy: 0.8068\n",
      "Epoch 16/200\n",
      "313/313 [==============================] - 14s 43ms/step - loss: 0.4089 - accuracy: 0.8224 - val_loss: 0.4222 - val_accuracy: 0.8130\n",
      "Epoch 17/200\n",
      "313/313 [==============================] - 13s 40ms/step - loss: 0.4046 - accuracy: 0.8232 - val_loss: 0.4202 - val_accuracy: 0.8096\n",
      "Epoch 18/200\n",
      "313/313 [==============================] - 12s 39ms/step - loss: 0.4007 - accuracy: 0.8247 - val_loss: 0.4190 - val_accuracy: 0.8130\n",
      "Epoch 19/200\n",
      "313/313 [==============================] - 12s 38ms/step - loss: 0.3979 - accuracy: 0.8259 - val_loss: 0.4151 - val_accuracy: 0.8116\n",
      "Epoch 20/200\n",
      "313/313 [==============================] - 11s 35ms/step - loss: 0.3952 - accuracy: 0.8270 - val_loss: 0.4162 - val_accuracy: 0.8112\n",
      "Epoch 21/200\n",
      "313/313 [==============================] - 11s 36ms/step - loss: 0.3929 - accuracy: 0.8285 - val_loss: 0.4138 - val_accuracy: 0.8142\n",
      "Epoch 22/200\n",
      "313/313 [==============================] - 11s 36ms/step - loss: 0.3910 - accuracy: 0.8292 - val_loss: 0.4120 - val_accuracy: 0.8136\n",
      "Epoch 23/200\n",
      "313/313 [==============================] - 12s 37ms/step - loss: 0.3893 - accuracy: 0.8305 - val_loss: 0.4113 - val_accuracy: 0.8154\n",
      "Epoch 24/200\n",
      "313/313 [==============================] - 11s 36ms/step - loss: 0.3878 - accuracy: 0.8306 - val_loss: 0.4165 - val_accuracy: 0.8112\n",
      "Epoch 25/200\n",
      "313/313 [==============================] - 13s 41ms/step - loss: 0.3870 - accuracy: 0.8322 - val_loss: 0.4118 - val_accuracy: 0.8150\n",
      "Epoch 26/200\n",
      "313/313 [==============================] - 12s 37ms/step - loss: 0.3856 - accuracy: 0.8318 - val_loss: 0.4097 - val_accuracy: 0.8130\n",
      "Epoch 27/200\n",
      "313/313 [==============================] - 12s 37ms/step - loss: 0.3848 - accuracy: 0.8324 - val_loss: 0.4092 - val_accuracy: 0.8134\n",
      "Epoch 28/200\n",
      "313/313 [==============================] - 12s 37ms/step - loss: 0.3839 - accuracy: 0.8334 - val_loss: 0.4094 - val_accuracy: 0.8138\n",
      "Epoch 29/200\n",
      "313/313 [==============================] - 12s 38ms/step - loss: 0.3831 - accuracy: 0.8317 - val_loss: 0.4105 - val_accuracy: 0.8130\n",
      "Epoch 30/200\n",
      "313/313 [==============================] - 12s 37ms/step - loss: 0.3821 - accuracy: 0.8334 - val_loss: 0.4091 - val_accuracy: 0.8122\n",
      "Epoch 31/200\n",
      "313/313 [==============================] - 12s 38ms/step - loss: 0.3816 - accuracy: 0.8339 - val_loss: 0.4089 - val_accuracy: 0.8132\n",
      "Epoch 32/200\n",
      "313/313 [==============================] - 12s 37ms/step - loss: 0.3807 - accuracy: 0.8336 - val_loss: 0.4080 - val_accuracy: 0.8130\n",
      "Epoch 33/200\n",
      "313/313 [==============================] - 12s 38ms/step - loss: 0.3800 - accuracy: 0.8338 - val_loss: 0.4081 - val_accuracy: 0.8132\n",
      "Epoch 34/200\n",
      "313/313 [==============================] - 12s 38ms/step - loss: 0.3795 - accuracy: 0.8343 - val_loss: 0.4086 - val_accuracy: 0.8154\n",
      "Epoch 35/200\n",
      "313/313 [==============================] - 12s 37ms/step - loss: 0.3788 - accuracy: 0.8338 - val_loss: 0.4109 - val_accuracy: 0.8148\n"
     ]
    }
   ],
   "source": [
    "model.compile(optimizer = keras.optimizers.RMSprop(learning_rate = 1e-4), loss = 'binary_crossentropy', metrics='accuracy') \n",
    "\n",
    "checkpoint_cb = keras.callbacks.ModelCheckpoint('best-LSTM-model.h5', save_best_only = True)\n",
    "early_stopping_cb = keras.callbacks.EarlyStopping(patience=3, restore_best_weights = True)\n",
    "\n",
    "history = model.fit(train_seq, train_target, epochs = 200, batch_size=64, validation_data=(val_seq, val_target), callbacks=[checkpoint_cb, early_stopping_cb])"
   ]
  },
  {
   "cell_type": "code",
   "execution_count": 17,
   "id": "1e8ea228",
   "metadata": {
    "scrolled": true
   },
   "outputs": [
    {
     "data": {
      "image/png": "[encoded data removed]",
      "text/plain": [
       "<Figure size 640x480 with 1 Axes>"
      ]
     },
     "metadata": {},
     "output_type": "display_data"
    }
   ],
   "source": [
    "plt.plot(history.history['loss'])\n",
    "plt.plot(history.history['val_loss'])\n",
    "plt.xlabel('epoch')\n",
    "plt.ylabel('loss')\n",
    "plt.legend(['train', 'val'])\n",
    "plt.show()"
   ]
  },
  {
   "cell_type": "markdown",
   "id": "2787acfe",
   "metadata": {},
   "source": [
    "### 단어 임베딩 사용하기"
   ]
  },
  {
   "cell_type": "code",
   "execution_count": 22,
   "id": "2637aea0",
   "metadata": {},
   "outputs": [
    {
     "name": "stdout",
     "output_type": "stream",
     "text": [
      "Model: \"sequential_1\"\n",
      "_________________________________________________________________\n",
      " Layer (type)                Output Shape              Param #   \n",
      "=================================================================\n",
      " embedding (Embedding)       (None, 100, 16)           8000      \n",
      "                                                                 \n",
      " simple_rnn_1 (SimpleRNN)    (None, 8)                 200       \n",
      "                                                                 \n",
      " dense_1 (Dense)             (None, 1)                 9         \n",
      "                                                                 \n",
      "=================================================================\n",
      "Total params: 8,209\n",
      "Trainable params: 8,209\n",
      "Non-trainable params: 0\n",
      "_________________________________________________________________\n"
     ]
    }
   ],
   "source": [
    "model2 = keras.Sequential()\n",
    "model2.add(keras.layers.Embedding(500, 16, input_length=100))\n",
    "model2.add(keras.layers.SimpleRNN(8))\n",
    "model2.add(keras.layers.Dense(1, activation='sigmoid'))\n",
    "\n",
    "model2.summary()"
   ]
  },
  {
   "cell_type": "code",
   "execution_count": 24,
   "id": "91e25187",
   "metadata": {},
   "outputs": [
    {
     "name": "stdout",
     "output_type": "stream",
     "text": [
      "Epoch 1/200\n",
      "313/313 [==============================] - 10s 27ms/step - loss: 0.6853 - accuracy: 0.5549 - val_loss: 0.6895 - val_accuracy: 0.5398\n",
      "Epoch 2/200\n",
      "313/313 [==============================] - 8s 24ms/step - loss: 0.6756 - accuracy: 0.5986 - val_loss: 0.6764 - val_accuracy: 0.5970\n",
      "Epoch 3/200\n",
      "313/313 [==============================] - 9s 27ms/step - loss: 0.6550 - accuracy: 0.6707 - val_loss: 0.6528 - val_accuracy: 0.6786\n",
      "Epoch 4/200\n",
      "313/313 [==============================] - 8s 25ms/step - loss: 0.6299 - accuracy: 0.7236 - val_loss: 0.6313 - val_accuracy: 0.7150\n",
      "Epoch 5/200\n",
      "313/313 [==============================] - 8s 25ms/step - loss: 0.6067 - accuracy: 0.7520 - val_loss: 0.6168 - val_accuracy: 0.7190\n",
      "Epoch 6/200\n",
      "313/313 [==============================] - 7s 23ms/step - loss: 0.5855 - accuracy: 0.7675 - val_loss: 0.5909 - val_accuracy: 0.7572\n",
      "Epoch 7/200\n",
      "313/313 [==============================] - 8s 25ms/step - loss: 0.5657 - accuracy: 0.7818 - val_loss: 0.5789 - val_accuracy: 0.7524\n",
      "Epoch 8/200\n",
      "313/313 [==============================] - 7s 23ms/step - loss: 0.5480 - accuracy: 0.7910 - val_loss: 0.5620 - val_accuracy: 0.7678\n",
      "Epoch 9/200\n",
      "313/313 [==============================] - 8s 24ms/step - loss: 0.5310 - accuracy: 0.7985 - val_loss: 0.5562 - val_accuracy: 0.7590\n",
      "Epoch 10/200\n",
      "313/313 [==============================] - 8s 26ms/step - loss: 0.5167 - accuracy: 0.8027 - val_loss: 0.5361 - val_accuracy: 0.7796\n",
      "Epoch 11/200\n",
      "313/313 [==============================] - 8s 24ms/step - loss: 0.5025 - accuracy: 0.8093 - val_loss: 0.5243 - val_accuracy: 0.7842\n",
      "Epoch 12/200\n",
      "313/313 [==============================] - 8s 26ms/step - loss: 0.4902 - accuracy: 0.8103 - val_loss: 0.5184 - val_accuracy: 0.7780\n",
      "Epoch 13/200\n",
      "313/313 [==============================] - 9s 28ms/step - loss: 0.4792 - accuracy: 0.8131 - val_loss: 0.5089 - val_accuracy: 0.7794\n",
      "Epoch 14/200\n",
      "313/313 [==============================] - 8s 26ms/step - loss: 0.4690 - accuracy: 0.8155 - val_loss: 0.5007 - val_accuracy: 0.7832\n",
      "Epoch 15/200\n",
      "313/313 [==============================] - 9s 27ms/step - loss: 0.4596 - accuracy: 0.8189 - val_loss: 0.4921 - val_accuracy: 0.7872\n",
      "Epoch 16/200\n",
      "313/313 [==============================] - 8s 25ms/step - loss: 0.4521 - accuracy: 0.8184 - val_loss: 0.4887 - val_accuracy: 0.7886\n",
      "Epoch 17/200\n",
      "313/313 [==============================] - 8s 26ms/step - loss: 0.4446 - accuracy: 0.8211 - val_loss: 0.4840 - val_accuracy: 0.7852\n",
      "Epoch 18/200\n",
      "313/313 [==============================] - 9s 27ms/step - loss: 0.4371 - accuracy: 0.8230 - val_loss: 0.4836 - val_accuracy: 0.7842\n",
      "Epoch 19/200\n",
      "313/313 [==============================] - 8s 25ms/step - loss: 0.4317 - accuracy: 0.8245 - val_loss: 0.4784 - val_accuracy: 0.7864\n",
      "Epoch 20/200\n",
      "313/313 [==============================] - 8s 25ms/step - loss: 0.4260 - accuracy: 0.8254 - val_loss: 0.4773 - val_accuracy: 0.7856\n",
      "Epoch 21/200\n",
      "313/313 [==============================] - 8s 26ms/step - loss: 0.4211 - accuracy: 0.8270 - val_loss: 0.4746 - val_accuracy: 0.7866\n",
      "Epoch 22/200\n",
      "313/313 [==============================] - 8s 26ms/step - loss: 0.4149 - accuracy: 0.8289 - val_loss: 0.4838 - val_accuracy: 0.7774\n",
      "Epoch 23/200\n",
      "313/313 [==============================] - 8s 25ms/step - loss: 0.4103 - accuracy: 0.8313 - val_loss: 0.4717 - val_accuracy: 0.7896\n",
      "Epoch 24/200\n",
      "313/313 [==============================] - 8s 24ms/step - loss: 0.4074 - accuracy: 0.8295 - val_loss: 0.4696 - val_accuracy: 0.7896\n",
      "Epoch 25/200\n",
      "313/313 [==============================] - 8s 24ms/step - loss: 0.4031 - accuracy: 0.8332 - val_loss: 0.4705 - val_accuracy: 0.7874\n",
      "Epoch 26/200\n",
      "313/313 [==============================] - 9s 27ms/step - loss: 0.3984 - accuracy: 0.8342 - val_loss: 0.4721 - val_accuracy: 0.7862\n",
      "Epoch 27/200\n",
      "313/313 [==============================] - 8s 26ms/step - loss: 0.3957 - accuracy: 0.8357 - val_loss: 0.4661 - val_accuracy: 0.7930\n",
      "Epoch 28/200\n",
      "313/313 [==============================] - 7s 23ms/step - loss: 0.3925 - accuracy: 0.8372 - val_loss: 0.4702 - val_accuracy: 0.7878\n",
      "Epoch 29/200\n",
      "313/313 [==============================] - 8s 26ms/step - loss: 0.3872 - accuracy: 0.8392 - val_loss: 0.4755 - val_accuracy: 0.7834\n",
      "Epoch 30/200\n",
      "313/313 [==============================] - 9s 27ms/step - loss: 0.3848 - accuracy: 0.8397 - val_loss: 0.4761 - val_accuracy: 0.7868\n"
     ]
    }
   ],
   "source": [
    "model2.compile(optimizer = keras.optimizers.RMSprop(learning_rate = 1e-4), loss = 'binary_crossentropy', metrics='accuracy') \n",
    "\n",
    "checkpoint_cb = keras.callbacks.ModelCheckpoint('best-embeddingRnn-model.h5', save_best_only = True)\n",
    "early_stopping_cb = keras.callbacks.EarlyStopping(patience=3, restore_best_weights = True)\n",
    "\n",
    "history = model2.fit(train_seq, train_target, epochs = 200, batch_size=64, validation_data=(val_seq, val_target), callbacks=[checkpoint_cb, early_stopping_cb])"
   ]
  },
  {
   "cell_type": "code",
   "execution_count": 25,
   "id": "17c5be3e",
   "metadata": {},
   "outputs": [
    {
     "data": {
      "image/png": "[encoded data removed]",
      "text/plain": [
       "<Figure size 640x480 with 1 Axes>"
      ]
     },
     "metadata": {},
     "output_type": "display_data"
    }
   ],
   "source": [
    "plt.plot(history.history['loss'])\n",
    "plt.plot(history.history['val_loss'])\n",
    "plt.xlabel('epoch')\n",
    "plt.ylabel('loss')\n",
    "plt.legend(['train', 'val'])\n",
    "plt.show()"
   ]
  },
  {
   "cell_type": "code",
   "execution_count": null,
   "id": "caf6a7ec",
   "metadata": {},
   "outputs": [],
   "source": []
  }
 ],
 "metadata": {
  "kernelspec": {
   "display_name": "Python [conda env:tf_cpu] *",
   "language": "python",
   "name": "conda-env-tf_cpu-py"
  },
  "language_info": {
   "codemirror_mode": {
    "name": "ipython",
    "version": 3
   },
   "file_extension": ".py",
   "mimetype": "text/x-python",
   "name": "python",
   "nbconvert_exporter": "python",
   "pygments_lexer": "ipython3",
   "version": "3.7.13"
  }
 },
 "nbformat": 4,
 "nbformat_minor": 5
}

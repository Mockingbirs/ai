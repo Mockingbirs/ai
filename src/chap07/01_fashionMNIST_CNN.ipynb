{
 "cells": [
  {
   "cell_type": "code",
   "execution_count": 15,
   "id": "91ec2983",
   "metadata": {},
   "outputs": [],
   "source": [
    "from tensorflow import keras\n",
    "from sklearn.model_selection import train_test_split\n",
    "\n",
    "(train_input, train_target), (test_input,test_target) = keras.datasets.fashion_mnist.load_data()\n",
    "\n",
    "train_scaled = train_input.reshape(-1, 28, 28, 1)/ 255.0\n",
    "\n",
    "train_scaled, val_scaled, train_target, val_target = train_test_split(train_scaled, train_target, test_size=0.2, random_state=42)"
   ]
  },
  {
   "cell_type": "code",
   "execution_count": 16,
   "id": "5ac6f2f5",
   "metadata": {},
   "outputs": [],
   "source": [
    "# CNN(합성곱) 신경망 만들기\n",
    "# convolutional 형\n",
    "\n",
    "model = keras.Sequential()\n",
    "model.add(keras.layers.Conv2D(filters = 32, kernel_size=(3,3), input_shape=(28, 28, 1), activation='relu', padding='same' ))\n",
    "model.add(keras.layers.MaxPool2D(pool_size=(2, 2))) # AveragePooling2D()"
   ]
  },
  {
   "cell_type": "code",
   "execution_count": 17,
   "id": "1c545a12",
   "metadata": {},
   "outputs": [],
   "source": [
    "model.add(keras.layers.Conv2D(filters = 64, kernel_size=(3,3), input_shape=(28, 28, 1), activation='relu', padding='same' ))\n",
    "model.add(keras.layers.MaxPool2D(pool_size=(2, 2))) "
   ]
  },
  {
   "cell_type": "code",
   "execution_count": 18,
   "id": "667c05e8",
   "metadata": {},
   "outputs": [],
   "source": [
    "model.add(keras.layers.Flatten())"
   ]
  },
  {
   "cell_type": "code",
   "execution_count": 19,
   "id": "6f839368",
   "metadata": {},
   "outputs": [],
   "source": [
    "# 완전연결형\n",
    "\n",
    "model.add(keras.layers.Dense(units=100, activation='relu'))\n",
    "model.add(keras.layers.Dropout(0.4))\n",
    "model.add(keras.layers.Dense(units = 10, activation='softmax'))"
   ]
  },
  {
   "cell_type": "code",
   "execution_count": 20,
   "id": "fae65793",
   "metadata": {},
   "outputs": [
    {
     "name": "stdout",
     "output_type": "stream",
     "text": [
      "Model: \"sequential_3\"\n",
      "_________________________________________________________________\n",
      " Layer (type)                Output Shape              Param #   \n",
      "=================================================================\n",
      " conv2d_2 (Conv2D)           (None, 28, 28, 32)        320       \n",
      "                                                                 \n",
      " max_pooling2d_2 (MaxPooling  (None, 14, 14, 32)       0         \n",
      " 2D)                                                             \n",
      "                                                                 \n",
      " conv2d_3 (Conv2D)           (None, 14, 14, 64)        18496     \n",
      "                                                                 \n",
      " max_pooling2d_3 (MaxPooling  (None, 7, 7, 64)         0         \n",
      " 2D)                                                             \n",
      "                                                                 \n",
      " flatten_1 (Flatten)         (None, 3136)              0         \n",
      "                                                                 \n",
      " dense_2 (Dense)             (None, 100)               313700    \n",
      "                                                                 \n",
      " dropout_1 (Dropout)         (None, 100)               0         \n",
      "                                                                 \n",
      " dense_3 (Dense)             (None, 10)                1010      \n",
      "                                                                 \n",
      "=================================================================\n",
      "Total params: 333,526\n",
      "Trainable params: 333,526\n",
      "Non-trainable params: 0\n",
      "_________________________________________________________________\n"
     ]
    }
   ],
   "source": [
    "model.summary()"
   ]
  },
  {
   "cell_type": "code",
   "execution_count": 21,
   "id": "4a52cabf",
   "metadata": {},
   "outputs": [
    {
     "name": "stdout",
     "output_type": "stream",
     "text": [
      "Epoch 1/20\n",
      "1500/1500 [==============================] - 28s 18ms/step - loss: 0.5124 - accuracy: 0.8189 - val_loss: 0.3127 - val_accuracy: 0.8824\n",
      "Epoch 2/20\n",
      "1500/1500 [==============================] - 27s 18ms/step - loss: 0.3364 - accuracy: 0.8805 - val_loss: 0.2747 - val_accuracy: 0.8979\n",
      "Epoch 3/20\n",
      "1500/1500 [==============================] - 28s 18ms/step - loss: 0.2882 - accuracy: 0.8963 - val_loss: 0.2517 - val_accuracy: 0.9064\n",
      "Epoch 4/20\n",
      "1500/1500 [==============================] - 27s 18ms/step - loss: 0.2603 - accuracy: 0.9064 - val_loss: 0.2393 - val_accuracy: 0.9103\n",
      "Epoch 5/20\n",
      "1500/1500 [==============================] - 30s 20ms/step - loss: 0.2387 - accuracy: 0.9129 - val_loss: 0.2260 - val_accuracy: 0.9147\n",
      "Epoch 6/20\n",
      "1500/1500 [==============================] - 29s 19ms/step - loss: 0.2191 - accuracy: 0.9191 - val_loss: 0.2340 - val_accuracy: 0.9098\n",
      "Epoch 7/20\n",
      "1500/1500 [==============================] - 32s 21ms/step - loss: 0.2006 - accuracy: 0.9258 - val_loss: 0.2247 - val_accuracy: 0.9186\n",
      "Epoch 8/20\n",
      "1500/1500 [==============================] - 28s 19ms/step - loss: 0.1873 - accuracy: 0.9294 - val_loss: 0.2206 - val_accuracy: 0.9193\n",
      "Epoch 9/20\n",
      "1500/1500 [==============================] - 31s 20ms/step - loss: 0.1721 - accuracy: 0.9363 - val_loss: 0.2281 - val_accuracy: 0.9163\n",
      "Epoch 10/20\n",
      "1500/1500 [==============================] - 36s 24ms/step - loss: 0.1597 - accuracy: 0.9391 - val_loss: 0.2315 - val_accuracy: 0.9208\n"
     ]
    }
   ],
   "source": [
    "# 모델 컴파일과 훈련\n",
    "\n",
    "model.compile(optimizer='adam', loss='sparse_categorical_crossentropy', metrics='accuracy')\n",
    "\n",
    "checkpoint_cb = keras.callbacks.ModelCheckpoint('best-cnn-model.h5', save_best_only=True)\n",
    "early_stopping_cb = keras.callbacks.EarlyStopping(patience=2, restore_best_weights=True)\n",
    "\n",
    "history = model.fit(train_scaled, train_target, epochs=20, \n",
    "                    validation_data=(val_scaled, val_target), \n",
    "                    callbacks=[checkpoint_cb, early_stopping_cb])"
   ]
  },
  {
   "cell_type": "code",
   "execution_count": 23,
   "id": "f916bfa4",
   "metadata": {},
   "outputs": [
    {
     "data": {
      "image/png": "[encoded data removed]",
      "text/plain": [
       "<Figure size 640x480 with 1 Axes>"
      ]
     },
     "metadata": {},
     "output_type": "display_data"
    }
   ],
   "source": [
    "import matplotlib.pyplot as plt\n",
    "\n",
    "plt.plot(history.history['loss'])\n",
    "plt.plot(history.history['val_loss'])\n",
    "plt.xlabel('epoch')\n",
    "plt.ylabel('loss')\n",
    "plt.legend(['train', 'val'])\n",
    "plt.show()"
   ]
  },
  {
   "cell_type": "code",
   "execution_count": null,
   "id": "e2e7aada",
   "metadata": {},
   "outputs": [],
   "source": []
  }
 ],
 "metadata": {
  "kernelspec": {
   "display_name": "Python [conda env:tf_cpu] *",
   "language": "python",
   "name": "conda-env-tf_cpu-py"
  },
  "language_info": {
   "codemirror_mode": {
    "name": "ipython",
    "version": 3
   },
   "file_extension": ".py",
   "mimetype": "text/x-python",
   "name": "python",
   "nbconvert_exporter": "python",
   "pygments_lexer": "ipython3",
   "version": "3.7.13"
  }
 },
 "nbformat": 4,
 "nbformat_minor": 5
}
